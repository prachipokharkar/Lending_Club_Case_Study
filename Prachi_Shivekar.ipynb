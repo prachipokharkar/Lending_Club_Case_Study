{
 "cells": [
  {
   "cell_type": "markdown",
   "id": "3c21af2d",
   "metadata": {},
   "source": [
    "# <center>Lending Club Analysis</center>"
   ]
  },
  {
   "cell_type": "markdown",
   "id": "408c5b7e",
   "metadata": {},
   "source": [
    "The Lending Club analysis is divided into four main parts:\n",
    "1. Data understanding \n",
    "2. Data Cleaning and Manipulation\n",
    "3. Data Analysis \n",
    "4. Presentation and Recommendations "
   ]
  },
  {
   "cell_type": "markdown",
   "id": "ce63d702",
   "metadata": {},
   "source": [
    "## 1. Data understanding"
   ]
  },
  {
   "cell_type": "markdown",
   "id": "70a34418",
   "metadata": {},
   "source": [
    "###### Step1: Import libraries"
   ]
  },
  {
   "cell_type": "code",
   "execution_count": 1,
   "id": "7d952825",
   "metadata": {},
   "outputs": [],
   "source": [
    "import numpy as np\n",
    "import pandas as pd\n",
    "import matplotlib.pyplot as plt\n",
    "import seaborn as sns\n",
    "from sklearn.utils import shuffle\n",
    "%matplotlib inline\n",
    "\n",
    "#Enable display of complete dataframe\n",
    "pd.set_option('display.max_columns', None)  \n",
    "pd.set_option('display.max_rows', None)  \n",
    "pd.set_option('display.width', None)\n",
    "pd.set_option('display.max_colwidth', None)\n",
    "pd.options.display.float_format = '{:,.2f}'.format"
   ]
  },
  {
   "cell_type": "markdown",
   "id": "dcd9437a",
   "metadata": {},
   "source": [
    "###### Step 2: Read the data"
   ]
  },
  {
   "cell_type": "code",
   "execution_count": 2,
   "id": "ff333668",
   "metadata": {},
   "outputs": [],
   "source": [
    "loan_data = pd.read_csv(\"loan.csv\",low_memory=False, sep=\",\")"
   ]
  },
  {
   "cell_type": "markdown",
   "id": "0f5cb034",
   "metadata": {},
   "source": [
    "###### Step 3: Data information"
   ]
  },
  {
   "cell_type": "code",
   "execution_count": 3,
   "id": "f4834a9e",
   "metadata": {},
   "outputs": [
    {
     "name": "stdout",
     "output_type": "stream",
     "text": [
      "<class 'pandas.core.frame.DataFrame'>\n",
      "RangeIndex: 39717 entries, 0 to 39716\n",
      "Data columns (total 111 columns):\n",
      " #    Column                          Dtype  \n",
      "---   ------                          -----  \n",
      " 0    id                              int64  \n",
      " 1    member_id                       int64  \n",
      " 2    loan_amnt                       int64  \n",
      " 3    funded_amnt                     int64  \n",
      " 4    funded_amnt_inv                 float64\n",
      " 5    term                            object \n",
      " 6    int_rate                        object \n",
      " 7    installment                     float64\n",
      " 8    grade                           object \n",
      " 9    sub_grade                       object \n",
      " 10   emp_title                       object \n",
      " 11   emp_length                      object \n",
      " 12   home_ownership                  object \n",
      " 13   annual_inc                      float64\n",
      " 14   verification_status             object \n",
      " 15   issue_d                         object \n",
      " 16   loan_status                     object \n",
      " 17   pymnt_plan                      object \n",
      " 18   url                             object \n",
      " 19   desc                            object \n",
      " 20   purpose                         object \n",
      " 21   title                           object \n",
      " 22   zip_code                        object \n",
      " 23   addr_state                      object \n",
      " 24   dti                             float64\n",
      " 25   delinq_2yrs                     int64  \n",
      " 26   earliest_cr_line                object \n",
      " 27   inq_last_6mths                  int64  \n",
      " 28   mths_since_last_delinq          float64\n",
      " 29   mths_since_last_record          float64\n",
      " 30   open_acc                        int64  \n",
      " 31   pub_rec                         int64  \n",
      " 32   revol_bal                       int64  \n",
      " 33   revol_util                      object \n",
      " 34   total_acc                       int64  \n",
      " 35   initial_list_status             object \n",
      " 36   out_prncp                       float64\n",
      " 37   out_prncp_inv                   float64\n",
      " 38   total_pymnt                     float64\n",
      " 39   total_pymnt_inv                 float64\n",
      " 40   total_rec_prncp                 float64\n",
      " 41   total_rec_int                   float64\n",
      " 42   total_rec_late_fee              float64\n",
      " 43   recoveries                      float64\n",
      " 44   collection_recovery_fee         float64\n",
      " 45   last_pymnt_d                    object \n",
      " 46   last_pymnt_amnt                 float64\n",
      " 47   next_pymnt_d                    object \n",
      " 48   last_credit_pull_d              object \n",
      " 49   collections_12_mths_ex_med      float64\n",
      " 50   mths_since_last_major_derog     float64\n",
      " 51   policy_code                     int64  \n",
      " 52   application_type                object \n",
      " 53   annual_inc_joint                float64\n",
      " 54   dti_joint                       float64\n",
      " 55   verification_status_joint       float64\n",
      " 56   acc_now_delinq                  int64  \n",
      " 57   tot_coll_amt                    float64\n",
      " 58   tot_cur_bal                     float64\n",
      " 59   open_acc_6m                     float64\n",
      " 60   open_il_6m                      float64\n",
      " 61   open_il_12m                     float64\n",
      " 62   open_il_24m                     float64\n",
      " 63   mths_since_rcnt_il              float64\n",
      " 64   total_bal_il                    float64\n",
      " 65   il_util                         float64\n",
      " 66   open_rv_12m                     float64\n",
      " 67   open_rv_24m                     float64\n",
      " 68   max_bal_bc                      float64\n",
      " 69   all_util                        float64\n",
      " 70   total_rev_hi_lim                float64\n",
      " 71   inq_fi                          float64\n",
      " 72   total_cu_tl                     float64\n",
      " 73   inq_last_12m                    float64\n",
      " 74   acc_open_past_24mths            float64\n",
      " 75   avg_cur_bal                     float64\n",
      " 76   bc_open_to_buy                  float64\n",
      " 77   bc_util                         float64\n",
      " 78   chargeoff_within_12_mths        float64\n",
      " 79   delinq_amnt                     int64  \n",
      " 80   mo_sin_old_il_acct              float64\n",
      " 81   mo_sin_old_rev_tl_op            float64\n",
      " 82   mo_sin_rcnt_rev_tl_op           float64\n",
      " 83   mo_sin_rcnt_tl                  float64\n",
      " 84   mort_acc                        float64\n",
      " 85   mths_since_recent_bc            float64\n",
      " 86   mths_since_recent_bc_dlq        float64\n",
      " 87   mths_since_recent_inq           float64\n",
      " 88   mths_since_recent_revol_delinq  float64\n",
      " 89   num_accts_ever_120_pd           float64\n",
      " 90   num_actv_bc_tl                  float64\n",
      " 91   num_actv_rev_tl                 float64\n",
      " 92   num_bc_sats                     float64\n",
      " 93   num_bc_tl                       float64\n",
      " 94   num_il_tl                       float64\n",
      " 95   num_op_rev_tl                   float64\n",
      " 96   num_rev_accts                   float64\n",
      " 97   num_rev_tl_bal_gt_0             float64\n",
      " 98   num_sats                        float64\n",
      " 99   num_tl_120dpd_2m                float64\n",
      " 100  num_tl_30dpd                    float64\n",
      " 101  num_tl_90g_dpd_24m              float64\n",
      " 102  num_tl_op_past_12m              float64\n",
      " 103  pct_tl_nvr_dlq                  float64\n",
      " 104  percent_bc_gt_75                float64\n",
      " 105  pub_rec_bankruptcies            float64\n",
      " 106  tax_liens                       float64\n",
      " 107  tot_hi_cred_lim                 float64\n",
      " 108  total_bal_ex_mort               float64\n",
      " 109  total_bc_limit                  float64\n",
      " 110  total_il_high_credit_limit      float64\n",
      "dtypes: float64(74), int64(13), object(24)\n",
      "memory usage: 33.6+ MB\n"
     ]
    }
   ],
   "source": [
    "loan_data.info(verbose=True)"
   ]
  },
  {
   "cell_type": "code",
   "execution_count": 4,
   "id": "c792076b",
   "metadata": {},
   "outputs": [
    {
     "data": {
      "text/plain": [
       "(39717, 111)"
      ]
     },
     "execution_count": 4,
     "metadata": {},
     "output_type": "execute_result"
    }
   ],
   "source": [
    "#find the number of rows and columns in the dataset.\n",
    "loan_data.shape"
   ]
  },
  {
   "cell_type": "code",
   "execution_count": 5,
   "id": "68e2de4d",
   "metadata": {},
   "outputs": [
    {
     "data": {
      "text/plain": [
       "Index(['id', 'member_id', 'loan_amnt', 'funded_amnt', 'funded_amnt_inv',\n",
       "       'term', 'int_rate', 'installment', 'grade', 'sub_grade',\n",
       "       ...\n",
       "       'num_tl_90g_dpd_24m', 'num_tl_op_past_12m', 'pct_tl_nvr_dlq',\n",
       "       'percent_bc_gt_75', 'pub_rec_bankruptcies', 'tax_liens',\n",
       "       'tot_hi_cred_lim', 'total_bal_ex_mort', 'total_bc_limit',\n",
       "       'total_il_high_credit_limit'],\n",
       "      dtype='object', length=111)"
      ]
     },
     "execution_count": 5,
     "metadata": {},
     "output_type": "execute_result"
    }
   ],
   "source": [
    "#Find column names\n",
    "loan_data.columns"
   ]
  },
  {
   "cell_type": "code",
   "execution_count": 6,
   "id": "1b5c3c5d",
   "metadata": {},
   "outputs": [
    {
     "data": {
      "text/html": [
       "<div>\n",
       "<style scoped>\n",
       "    .dataframe tbody tr th:only-of-type {\n",
       "        vertical-align: middle;\n",
       "    }\n",
       "\n",
       "    .dataframe tbody tr th {\n",
       "        vertical-align: top;\n",
       "    }\n",
       "\n",
       "    .dataframe thead th {\n",
       "        text-align: right;\n",
       "    }\n",
       "</style>\n",
       "<table border=\"1\" class=\"dataframe\">\n",
       "  <thead>\n",
       "    <tr style=\"text-align: right;\">\n",
       "      <th></th>\n",
       "      <th>id</th>\n",
       "      <th>member_id</th>\n",
       "      <th>loan_amnt</th>\n",
       "      <th>funded_amnt</th>\n",
       "      <th>funded_amnt_inv</th>\n",
       "      <th>term</th>\n",
       "      <th>int_rate</th>\n",
       "      <th>installment</th>\n",
       "      <th>grade</th>\n",
       "      <th>sub_grade</th>\n",
       "      <th>emp_title</th>\n",
       "      <th>emp_length</th>\n",
       "      <th>home_ownership</th>\n",
       "      <th>annual_inc</th>\n",
       "      <th>verification_status</th>\n",
       "      <th>issue_d</th>\n",
       "      <th>loan_status</th>\n",
       "      <th>pymnt_plan</th>\n",
       "      <th>url</th>\n",
       "      <th>desc</th>\n",
       "      <th>purpose</th>\n",
       "      <th>title</th>\n",
       "      <th>zip_code</th>\n",
       "      <th>addr_state</th>\n",
       "      <th>dti</th>\n",
       "      <th>delinq_2yrs</th>\n",
       "      <th>earliest_cr_line</th>\n",
       "      <th>inq_last_6mths</th>\n",
       "      <th>mths_since_last_delinq</th>\n",
       "      <th>mths_since_last_record</th>\n",
       "      <th>open_acc</th>\n",
       "      <th>pub_rec</th>\n",
       "      <th>revol_bal</th>\n",
       "      <th>revol_util</th>\n",
       "      <th>total_acc</th>\n",
       "      <th>initial_list_status</th>\n",
       "      <th>out_prncp</th>\n",
       "      <th>out_prncp_inv</th>\n",
       "      <th>total_pymnt</th>\n",
       "      <th>total_pymnt_inv</th>\n",
       "      <th>total_rec_prncp</th>\n",
       "      <th>total_rec_int</th>\n",
       "      <th>total_rec_late_fee</th>\n",
       "      <th>recoveries</th>\n",
       "      <th>collection_recovery_fee</th>\n",
       "      <th>last_pymnt_d</th>\n",
       "      <th>last_pymnt_amnt</th>\n",
       "      <th>next_pymnt_d</th>\n",
       "      <th>last_credit_pull_d</th>\n",
       "      <th>collections_12_mths_ex_med</th>\n",
       "      <th>mths_since_last_major_derog</th>\n",
       "      <th>policy_code</th>\n",
       "      <th>application_type</th>\n",
       "      <th>annual_inc_joint</th>\n",
       "      <th>dti_joint</th>\n",
       "      <th>verification_status_joint</th>\n",
       "      <th>acc_now_delinq</th>\n",
       "      <th>tot_coll_amt</th>\n",
       "      <th>tot_cur_bal</th>\n",
       "      <th>open_acc_6m</th>\n",
       "      <th>open_il_6m</th>\n",
       "      <th>open_il_12m</th>\n",
       "      <th>open_il_24m</th>\n",
       "      <th>mths_since_rcnt_il</th>\n",
       "      <th>total_bal_il</th>\n",
       "      <th>il_util</th>\n",
       "      <th>open_rv_12m</th>\n",
       "      <th>open_rv_24m</th>\n",
       "      <th>max_bal_bc</th>\n",
       "      <th>all_util</th>\n",
       "      <th>total_rev_hi_lim</th>\n",
       "      <th>inq_fi</th>\n",
       "      <th>total_cu_tl</th>\n",
       "      <th>inq_last_12m</th>\n",
       "      <th>acc_open_past_24mths</th>\n",
       "      <th>avg_cur_bal</th>\n",
       "      <th>bc_open_to_buy</th>\n",
       "      <th>bc_util</th>\n",
       "      <th>chargeoff_within_12_mths</th>\n",
       "      <th>delinq_amnt</th>\n",
       "      <th>mo_sin_old_il_acct</th>\n",
       "      <th>mo_sin_old_rev_tl_op</th>\n",
       "      <th>mo_sin_rcnt_rev_tl_op</th>\n",
       "      <th>mo_sin_rcnt_tl</th>\n",
       "      <th>mort_acc</th>\n",
       "      <th>mths_since_recent_bc</th>\n",
       "      <th>mths_since_recent_bc_dlq</th>\n",
       "      <th>mths_since_recent_inq</th>\n",
       "      <th>mths_since_recent_revol_delinq</th>\n",
       "      <th>num_accts_ever_120_pd</th>\n",
       "      <th>num_actv_bc_tl</th>\n",
       "      <th>num_actv_rev_tl</th>\n",
       "      <th>num_bc_sats</th>\n",
       "      <th>num_bc_tl</th>\n",
       "      <th>num_il_tl</th>\n",
       "      <th>num_op_rev_tl</th>\n",
       "      <th>num_rev_accts</th>\n",
       "      <th>num_rev_tl_bal_gt_0</th>\n",
       "      <th>num_sats</th>\n",
       "      <th>num_tl_120dpd_2m</th>\n",
       "      <th>num_tl_30dpd</th>\n",
       "      <th>num_tl_90g_dpd_24m</th>\n",
       "      <th>num_tl_op_past_12m</th>\n",
       "      <th>pct_tl_nvr_dlq</th>\n",
       "      <th>percent_bc_gt_75</th>\n",
       "      <th>pub_rec_bankruptcies</th>\n",
       "      <th>tax_liens</th>\n",
       "      <th>tot_hi_cred_lim</th>\n",
       "      <th>total_bal_ex_mort</th>\n",
       "      <th>total_bc_limit</th>\n",
       "      <th>total_il_high_credit_limit</th>\n",
       "    </tr>\n",
       "  </thead>\n",
       "  <tbody>\n",
       "    <tr>\n",
       "      <th>0</th>\n",
       "      <td>1077501</td>\n",
       "      <td>1296599</td>\n",
       "      <td>5000</td>\n",
       "      <td>5000</td>\n",
       "      <td>4,975.00</td>\n",
       "      <td>36 months</td>\n",
       "      <td>10.65%</td>\n",
       "      <td>162.87</td>\n",
       "      <td>B</td>\n",
       "      <td>B2</td>\n",
       "      <td>NaN</td>\n",
       "      <td>10+ years</td>\n",
       "      <td>RENT</td>\n",
       "      <td>24,000.00</td>\n",
       "      <td>Verified</td>\n",
       "      <td>Dec-11</td>\n",
       "      <td>Fully Paid</td>\n",
       "      <td>n</td>\n",
       "      <td>https://lendingclub.com/browse/loanDetail.action?loan_id=1077501</td>\n",
       "      <td>Borrower added on 12/22/11 &gt; I need to upgrade my business technologies.&lt;br&gt;</td>\n",
       "      <td>credit_card</td>\n",
       "      <td>Computer</td>\n",
       "      <td>860xx</td>\n",
       "      <td>AZ</td>\n",
       "      <td>27.65</td>\n",
       "      <td>0</td>\n",
       "      <td>Jan-85</td>\n",
       "      <td>1</td>\n",
       "      <td>NaN</td>\n",
       "      <td>NaN</td>\n",
       "      <td>3</td>\n",
       "      <td>0</td>\n",
       "      <td>13648</td>\n",
       "      <td>83.70%</td>\n",
       "      <td>9</td>\n",
       "      <td>f</td>\n",
       "      <td>0.00</td>\n",
       "      <td>0.00</td>\n",
       "      <td>5,863.16</td>\n",
       "      <td>5,833.84</td>\n",
       "      <td>5,000.00</td>\n",
       "      <td>863.16</td>\n",
       "      <td>0.00</td>\n",
       "      <td>0.00</td>\n",
       "      <td>0.00</td>\n",
       "      <td>Jan-15</td>\n",
       "      <td>171.62</td>\n",
       "      <td>NaN</td>\n",
       "      <td>May-16</td>\n",
       "      <td>0.00</td>\n",
       "      <td>NaN</td>\n",
       "      <td>1</td>\n",
       "      <td>INDIVIDUAL</td>\n",
       "      <td>NaN</td>\n",
       "      <td>NaN</td>\n",
       "      <td>NaN</td>\n",
       "      <td>0</td>\n",
       "      <td>NaN</td>\n",
       "      <td>NaN</td>\n",
       "      <td>NaN</td>\n",
       "      <td>NaN</td>\n",
       "      <td>NaN</td>\n",
       "      <td>NaN</td>\n",
       "      <td>NaN</td>\n",
       "      <td>NaN</td>\n",
       "      <td>NaN</td>\n",
       "      <td>NaN</td>\n",
       "      <td>NaN</td>\n",
       "      <td>NaN</td>\n",
       "      <td>NaN</td>\n",
       "      <td>NaN</td>\n",
       "      <td>NaN</td>\n",
       "      <td>NaN</td>\n",
       "      <td>NaN</td>\n",
       "      <td>NaN</td>\n",
       "      <td>NaN</td>\n",
       "      <td>NaN</td>\n",
       "      <td>NaN</td>\n",
       "      <td>0.00</td>\n",
       "      <td>0</td>\n",
       "      <td>NaN</td>\n",
       "      <td>NaN</td>\n",
       "      <td>NaN</td>\n",
       "      <td>NaN</td>\n",
       "      <td>NaN</td>\n",
       "      <td>NaN</td>\n",
       "      <td>NaN</td>\n",
       "      <td>NaN</td>\n",
       "      <td>NaN</td>\n",
       "      <td>NaN</td>\n",
       "      <td>NaN</td>\n",
       "      <td>NaN</td>\n",
       "      <td>NaN</td>\n",
       "      <td>NaN</td>\n",
       "      <td>NaN</td>\n",
       "      <td>NaN</td>\n",
       "      <td>NaN</td>\n",
       "      <td>NaN</td>\n",
       "      <td>NaN</td>\n",
       "      <td>NaN</td>\n",
       "      <td>NaN</td>\n",
       "      <td>NaN</td>\n",
       "      <td>NaN</td>\n",
       "      <td>NaN</td>\n",
       "      <td>NaN</td>\n",
       "      <td>0.00</td>\n",
       "      <td>0.00</td>\n",
       "      <td>NaN</td>\n",
       "      <td>NaN</td>\n",
       "      <td>NaN</td>\n",
       "      <td>NaN</td>\n",
       "    </tr>\n",
       "    <tr>\n",
       "      <th>1</th>\n",
       "      <td>1077430</td>\n",
       "      <td>1314167</td>\n",
       "      <td>2500</td>\n",
       "      <td>2500</td>\n",
       "      <td>2,500.00</td>\n",
       "      <td>60 months</td>\n",
       "      <td>15.27%</td>\n",
       "      <td>59.83</td>\n",
       "      <td>C</td>\n",
       "      <td>C4</td>\n",
       "      <td>Ryder</td>\n",
       "      <td>&lt; 1 year</td>\n",
       "      <td>RENT</td>\n",
       "      <td>30,000.00</td>\n",
       "      <td>Source Verified</td>\n",
       "      <td>Dec-11</td>\n",
       "      <td>Charged Off</td>\n",
       "      <td>n</td>\n",
       "      <td>https://lendingclub.com/browse/loanDetail.action?loan_id=1077430</td>\n",
       "      <td>Borrower added on 12/22/11 &gt; I plan to use this money to finance the motorcycle i am looking at. I plan to have it paid off as soon as possible/when i sell my old bike. I only need this money because the deal im looking at is to good to pass up.&lt;br&gt;&lt;br&gt;  Borrower added on 12/22/11 &gt; I plan to use this money to finance the motorcycle i am looking at. I plan to have it paid off as soon as possible/when i sell my old bike.I only need this money because the deal im looking at is to good to pass up. I have finished college with an associates degree in business and its takingmeplaces&lt;br&gt;</td>\n",
       "      <td>car</td>\n",
       "      <td>bike</td>\n",
       "      <td>309xx</td>\n",
       "      <td>GA</td>\n",
       "      <td>1.00</td>\n",
       "      <td>0</td>\n",
       "      <td>Apr-99</td>\n",
       "      <td>5</td>\n",
       "      <td>NaN</td>\n",
       "      <td>NaN</td>\n",
       "      <td>3</td>\n",
       "      <td>0</td>\n",
       "      <td>1687</td>\n",
       "      <td>9.40%</td>\n",
       "      <td>4</td>\n",
       "      <td>f</td>\n",
       "      <td>0.00</td>\n",
       "      <td>0.00</td>\n",
       "      <td>1,008.71</td>\n",
       "      <td>1,008.71</td>\n",
       "      <td>456.46</td>\n",
       "      <td>435.17</td>\n",
       "      <td>0.00</td>\n",
       "      <td>117.08</td>\n",
       "      <td>1.11</td>\n",
       "      <td>Apr-13</td>\n",
       "      <td>119.66</td>\n",
       "      <td>NaN</td>\n",
       "      <td>Sep-13</td>\n",
       "      <td>0.00</td>\n",
       "      <td>NaN</td>\n",
       "      <td>1</td>\n",
       "      <td>INDIVIDUAL</td>\n",
       "      <td>NaN</td>\n",
       "      <td>NaN</td>\n",
       "      <td>NaN</td>\n",
       "      <td>0</td>\n",
       "      <td>NaN</td>\n",
       "      <td>NaN</td>\n",
       "      <td>NaN</td>\n",
       "      <td>NaN</td>\n",
       "      <td>NaN</td>\n",
       "      <td>NaN</td>\n",
       "      <td>NaN</td>\n",
       "      <td>NaN</td>\n",
       "      <td>NaN</td>\n",
       "      <td>NaN</td>\n",
       "      <td>NaN</td>\n",
       "      <td>NaN</td>\n",
       "      <td>NaN</td>\n",
       "      <td>NaN</td>\n",
       "      <td>NaN</td>\n",
       "      <td>NaN</td>\n",
       "      <td>NaN</td>\n",
       "      <td>NaN</td>\n",
       "      <td>NaN</td>\n",
       "      <td>NaN</td>\n",
       "      <td>NaN</td>\n",
       "      <td>0.00</td>\n",
       "      <td>0</td>\n",
       "      <td>NaN</td>\n",
       "      <td>NaN</td>\n",
       "      <td>NaN</td>\n",
       "      <td>NaN</td>\n",
       "      <td>NaN</td>\n",
       "      <td>NaN</td>\n",
       "      <td>NaN</td>\n",
       "      <td>NaN</td>\n",
       "      <td>NaN</td>\n",
       "      <td>NaN</td>\n",
       "      <td>NaN</td>\n",
       "      <td>NaN</td>\n",
       "      <td>NaN</td>\n",
       "      <td>NaN</td>\n",
       "      <td>NaN</td>\n",
       "      <td>NaN</td>\n",
       "      <td>NaN</td>\n",
       "      <td>NaN</td>\n",
       "      <td>NaN</td>\n",
       "      <td>NaN</td>\n",
       "      <td>NaN</td>\n",
       "      <td>NaN</td>\n",
       "      <td>NaN</td>\n",
       "      <td>NaN</td>\n",
       "      <td>NaN</td>\n",
       "      <td>0.00</td>\n",
       "      <td>0.00</td>\n",
       "      <td>NaN</td>\n",
       "      <td>NaN</td>\n",
       "      <td>NaN</td>\n",
       "      <td>NaN</td>\n",
       "    </tr>\n",
       "    <tr>\n",
       "      <th>2</th>\n",
       "      <td>1077175</td>\n",
       "      <td>1313524</td>\n",
       "      <td>2400</td>\n",
       "      <td>2400</td>\n",
       "      <td>2,400.00</td>\n",
       "      <td>36 months</td>\n",
       "      <td>15.96%</td>\n",
       "      <td>84.33</td>\n",
       "      <td>C</td>\n",
       "      <td>C5</td>\n",
       "      <td>NaN</td>\n",
       "      <td>10+ years</td>\n",
       "      <td>RENT</td>\n",
       "      <td>12,252.00</td>\n",
       "      <td>Not Verified</td>\n",
       "      <td>Dec-11</td>\n",
       "      <td>Fully Paid</td>\n",
       "      <td>n</td>\n",
       "      <td>https://lendingclub.com/browse/loanDetail.action?loan_id=1077175</td>\n",
       "      <td>NaN</td>\n",
       "      <td>small_business</td>\n",
       "      <td>real estate business</td>\n",
       "      <td>606xx</td>\n",
       "      <td>IL</td>\n",
       "      <td>8.72</td>\n",
       "      <td>0</td>\n",
       "      <td>Nov-01</td>\n",
       "      <td>2</td>\n",
       "      <td>NaN</td>\n",
       "      <td>NaN</td>\n",
       "      <td>2</td>\n",
       "      <td>0</td>\n",
       "      <td>2956</td>\n",
       "      <td>98.50%</td>\n",
       "      <td>10</td>\n",
       "      <td>f</td>\n",
       "      <td>0.00</td>\n",
       "      <td>0.00</td>\n",
       "      <td>3,005.67</td>\n",
       "      <td>3,005.67</td>\n",
       "      <td>2,400.00</td>\n",
       "      <td>605.67</td>\n",
       "      <td>0.00</td>\n",
       "      <td>0.00</td>\n",
       "      <td>0.00</td>\n",
       "      <td>Jun-14</td>\n",
       "      <td>649.91</td>\n",
       "      <td>NaN</td>\n",
       "      <td>May-16</td>\n",
       "      <td>0.00</td>\n",
       "      <td>NaN</td>\n",
       "      <td>1</td>\n",
       "      <td>INDIVIDUAL</td>\n",
       "      <td>NaN</td>\n",
       "      <td>NaN</td>\n",
       "      <td>NaN</td>\n",
       "      <td>0</td>\n",
       "      <td>NaN</td>\n",
       "      <td>NaN</td>\n",
       "      <td>NaN</td>\n",
       "      <td>NaN</td>\n",
       "      <td>NaN</td>\n",
       "      <td>NaN</td>\n",
       "      <td>NaN</td>\n",
       "      <td>NaN</td>\n",
       "      <td>NaN</td>\n",
       "      <td>NaN</td>\n",
       "      <td>NaN</td>\n",
       "      <td>NaN</td>\n",
       "      <td>NaN</td>\n",
       "      <td>NaN</td>\n",
       "      <td>NaN</td>\n",
       "      <td>NaN</td>\n",
       "      <td>NaN</td>\n",
       "      <td>NaN</td>\n",
       "      <td>NaN</td>\n",
       "      <td>NaN</td>\n",
       "      <td>NaN</td>\n",
       "      <td>0.00</td>\n",
       "      <td>0</td>\n",
       "      <td>NaN</td>\n",
       "      <td>NaN</td>\n",
       "      <td>NaN</td>\n",
       "      <td>NaN</td>\n",
       "      <td>NaN</td>\n",
       "      <td>NaN</td>\n",
       "      <td>NaN</td>\n",
       "      <td>NaN</td>\n",
       "      <td>NaN</td>\n",
       "      <td>NaN</td>\n",
       "      <td>NaN</td>\n",
       "      <td>NaN</td>\n",
       "      <td>NaN</td>\n",
       "      <td>NaN</td>\n",
       "      <td>NaN</td>\n",
       "      <td>NaN</td>\n",
       "      <td>NaN</td>\n",
       "      <td>NaN</td>\n",
       "      <td>NaN</td>\n",
       "      <td>NaN</td>\n",
       "      <td>NaN</td>\n",
       "      <td>NaN</td>\n",
       "      <td>NaN</td>\n",
       "      <td>NaN</td>\n",
       "      <td>NaN</td>\n",
       "      <td>0.00</td>\n",
       "      <td>0.00</td>\n",
       "      <td>NaN</td>\n",
       "      <td>NaN</td>\n",
       "      <td>NaN</td>\n",
       "      <td>NaN</td>\n",
       "    </tr>\n",
       "    <tr>\n",
       "      <th>3</th>\n",
       "      <td>1076863</td>\n",
       "      <td>1277178</td>\n",
       "      <td>10000</td>\n",
       "      <td>10000</td>\n",
       "      <td>10,000.00</td>\n",
       "      <td>36 months</td>\n",
       "      <td>13.49%</td>\n",
       "      <td>339.31</td>\n",
       "      <td>C</td>\n",
       "      <td>C1</td>\n",
       "      <td>AIR RESOURCES BOARD</td>\n",
       "      <td>10+ years</td>\n",
       "      <td>RENT</td>\n",
       "      <td>49,200.00</td>\n",
       "      <td>Source Verified</td>\n",
       "      <td>Dec-11</td>\n",
       "      <td>Fully Paid</td>\n",
       "      <td>n</td>\n",
       "      <td>https://lendingclub.com/browse/loanDetail.action?loan_id=1076863</td>\n",
       "      <td>Borrower added on 12/21/11 &gt; to pay for property tax (borrow from friend, need to pay back) &amp; central A/C need to be replace. I'm very sorry to let my loan expired last time.&lt;br&gt;</td>\n",
       "      <td>other</td>\n",
       "      <td>personel</td>\n",
       "      <td>917xx</td>\n",
       "      <td>CA</td>\n",
       "      <td>20.00</td>\n",
       "      <td>0</td>\n",
       "      <td>Feb-96</td>\n",
       "      <td>1</td>\n",
       "      <td>35.00</td>\n",
       "      <td>NaN</td>\n",
       "      <td>10</td>\n",
       "      <td>0</td>\n",
       "      <td>5598</td>\n",
       "      <td>21%</td>\n",
       "      <td>37</td>\n",
       "      <td>f</td>\n",
       "      <td>0.00</td>\n",
       "      <td>0.00</td>\n",
       "      <td>12,231.89</td>\n",
       "      <td>12,231.89</td>\n",
       "      <td>10,000.00</td>\n",
       "      <td>2,214.92</td>\n",
       "      <td>16.97</td>\n",
       "      <td>0.00</td>\n",
       "      <td>0.00</td>\n",
       "      <td>Jan-15</td>\n",
       "      <td>357.48</td>\n",
       "      <td>NaN</td>\n",
       "      <td>Apr-16</td>\n",
       "      <td>0.00</td>\n",
       "      <td>NaN</td>\n",
       "      <td>1</td>\n",
       "      <td>INDIVIDUAL</td>\n",
       "      <td>NaN</td>\n",
       "      <td>NaN</td>\n",
       "      <td>NaN</td>\n",
       "      <td>0</td>\n",
       "      <td>NaN</td>\n",
       "      <td>NaN</td>\n",
       "      <td>NaN</td>\n",
       "      <td>NaN</td>\n",
       "      <td>NaN</td>\n",
       "      <td>NaN</td>\n",
       "      <td>NaN</td>\n",
       "      <td>NaN</td>\n",
       "      <td>NaN</td>\n",
       "      <td>NaN</td>\n",
       "      <td>NaN</td>\n",
       "      <td>NaN</td>\n",
       "      <td>NaN</td>\n",
       "      <td>NaN</td>\n",
       "      <td>NaN</td>\n",
       "      <td>NaN</td>\n",
       "      <td>NaN</td>\n",
       "      <td>NaN</td>\n",
       "      <td>NaN</td>\n",
       "      <td>NaN</td>\n",
       "      <td>NaN</td>\n",
       "      <td>0.00</td>\n",
       "      <td>0</td>\n",
       "      <td>NaN</td>\n",
       "      <td>NaN</td>\n",
       "      <td>NaN</td>\n",
       "      <td>NaN</td>\n",
       "      <td>NaN</td>\n",
       "      <td>NaN</td>\n",
       "      <td>NaN</td>\n",
       "      <td>NaN</td>\n",
       "      <td>NaN</td>\n",
       "      <td>NaN</td>\n",
       "      <td>NaN</td>\n",
       "      <td>NaN</td>\n",
       "      <td>NaN</td>\n",
       "      <td>NaN</td>\n",
       "      <td>NaN</td>\n",
       "      <td>NaN</td>\n",
       "      <td>NaN</td>\n",
       "      <td>NaN</td>\n",
       "      <td>NaN</td>\n",
       "      <td>NaN</td>\n",
       "      <td>NaN</td>\n",
       "      <td>NaN</td>\n",
       "      <td>NaN</td>\n",
       "      <td>NaN</td>\n",
       "      <td>NaN</td>\n",
       "      <td>0.00</td>\n",
       "      <td>0.00</td>\n",
       "      <td>NaN</td>\n",
       "      <td>NaN</td>\n",
       "      <td>NaN</td>\n",
       "      <td>NaN</td>\n",
       "    </tr>\n",
       "    <tr>\n",
       "      <th>4</th>\n",
       "      <td>1075358</td>\n",
       "      <td>1311748</td>\n",
       "      <td>3000</td>\n",
       "      <td>3000</td>\n",
       "      <td>3,000.00</td>\n",
       "      <td>60 months</td>\n",
       "      <td>12.69%</td>\n",
       "      <td>67.79</td>\n",
       "      <td>B</td>\n",
       "      <td>B5</td>\n",
       "      <td>University Medical Group</td>\n",
       "      <td>1 year</td>\n",
       "      <td>RENT</td>\n",
       "      <td>80,000.00</td>\n",
       "      <td>Source Verified</td>\n",
       "      <td>Dec-11</td>\n",
       "      <td>Current</td>\n",
       "      <td>n</td>\n",
       "      <td>https://lendingclub.com/browse/loanDetail.action?loan_id=1075358</td>\n",
       "      <td>Borrower added on 12/21/11 &gt; I plan on combining three large interest bills together and freeing up some extra each month to pay toward other bills.  I've always been a good payor but have found myself needing to make adjustments to my budget due to a medical scare. My job is very stable, I love it.&lt;br&gt;</td>\n",
       "      <td>other</td>\n",
       "      <td>Personal</td>\n",
       "      <td>972xx</td>\n",
       "      <td>OR</td>\n",
       "      <td>17.94</td>\n",
       "      <td>0</td>\n",
       "      <td>Jan-96</td>\n",
       "      <td>0</td>\n",
       "      <td>38.00</td>\n",
       "      <td>NaN</td>\n",
       "      <td>15</td>\n",
       "      <td>0</td>\n",
       "      <td>27783</td>\n",
       "      <td>53.90%</td>\n",
       "      <td>38</td>\n",
       "      <td>f</td>\n",
       "      <td>524.06</td>\n",
       "      <td>524.06</td>\n",
       "      <td>3,513.33</td>\n",
       "      <td>3,513.33</td>\n",
       "      <td>2,475.94</td>\n",
       "      <td>1,037.39</td>\n",
       "      <td>0.00</td>\n",
       "      <td>0.00</td>\n",
       "      <td>0.00</td>\n",
       "      <td>May-16</td>\n",
       "      <td>67.79</td>\n",
       "      <td>Jun-16</td>\n",
       "      <td>May-16</td>\n",
       "      <td>0.00</td>\n",
       "      <td>NaN</td>\n",
       "      <td>1</td>\n",
       "      <td>INDIVIDUAL</td>\n",
       "      <td>NaN</td>\n",
       "      <td>NaN</td>\n",
       "      <td>NaN</td>\n",
       "      <td>0</td>\n",
       "      <td>NaN</td>\n",
       "      <td>NaN</td>\n",
       "      <td>NaN</td>\n",
       "      <td>NaN</td>\n",
       "      <td>NaN</td>\n",
       "      <td>NaN</td>\n",
       "      <td>NaN</td>\n",
       "      <td>NaN</td>\n",
       "      <td>NaN</td>\n",
       "      <td>NaN</td>\n",
       "      <td>NaN</td>\n",
       "      <td>NaN</td>\n",
       "      <td>NaN</td>\n",
       "      <td>NaN</td>\n",
       "      <td>NaN</td>\n",
       "      <td>NaN</td>\n",
       "      <td>NaN</td>\n",
       "      <td>NaN</td>\n",
       "      <td>NaN</td>\n",
       "      <td>NaN</td>\n",
       "      <td>NaN</td>\n",
       "      <td>0.00</td>\n",
       "      <td>0</td>\n",
       "      <td>NaN</td>\n",
       "      <td>NaN</td>\n",
       "      <td>NaN</td>\n",
       "      <td>NaN</td>\n",
       "      <td>NaN</td>\n",
       "      <td>NaN</td>\n",
       "      <td>NaN</td>\n",
       "      <td>NaN</td>\n",
       "      <td>NaN</td>\n",
       "      <td>NaN</td>\n",
       "      <td>NaN</td>\n",
       "      <td>NaN</td>\n",
       "      <td>NaN</td>\n",
       "      <td>NaN</td>\n",
       "      <td>NaN</td>\n",
       "      <td>NaN</td>\n",
       "      <td>NaN</td>\n",
       "      <td>NaN</td>\n",
       "      <td>NaN</td>\n",
       "      <td>NaN</td>\n",
       "      <td>NaN</td>\n",
       "      <td>NaN</td>\n",
       "      <td>NaN</td>\n",
       "      <td>NaN</td>\n",
       "      <td>NaN</td>\n",
       "      <td>0.00</td>\n",
       "      <td>0.00</td>\n",
       "      <td>NaN</td>\n",
       "      <td>NaN</td>\n",
       "      <td>NaN</td>\n",
       "      <td>NaN</td>\n",
       "    </tr>\n",
       "  </tbody>\n",
       "</table>\n",
       "</div>"
      ],
      "text/plain": [
       "        id  member_id  loan_amnt  funded_amnt  funded_amnt_inv        term  \\\n",
       "0  1077501    1296599       5000         5000         4,975.00   36 months   \n",
       "1  1077430    1314167       2500         2500         2,500.00   60 months   \n",
       "2  1077175    1313524       2400         2400         2,400.00   36 months   \n",
       "3  1076863    1277178      10000        10000        10,000.00   36 months   \n",
       "4  1075358    1311748       3000         3000         3,000.00   60 months   \n",
       "\n",
       "  int_rate  installment grade sub_grade                 emp_title emp_length  \\\n",
       "0   10.65%       162.87     B        B2                       NaN  10+ years   \n",
       "1   15.27%        59.83     C        C4                     Ryder   < 1 year   \n",
       "2   15.96%        84.33     C        C5                       NaN  10+ years   \n",
       "3   13.49%       339.31     C        C1       AIR RESOURCES BOARD  10+ years   \n",
       "4   12.69%        67.79     B        B5  University Medical Group     1 year   \n",
       "\n",
       "  home_ownership  annual_inc verification_status issue_d  loan_status  \\\n",
       "0           RENT   24,000.00            Verified  Dec-11   Fully Paid   \n",
       "1           RENT   30,000.00     Source Verified  Dec-11  Charged Off   \n",
       "2           RENT   12,252.00        Not Verified  Dec-11   Fully Paid   \n",
       "3           RENT   49,200.00     Source Verified  Dec-11   Fully Paid   \n",
       "4           RENT   80,000.00     Source Verified  Dec-11      Current   \n",
       "\n",
       "  pymnt_plan  \\\n",
       "0          n   \n",
       "1          n   \n",
       "2          n   \n",
       "3          n   \n",
       "4          n   \n",
       "\n",
       "                                                                url  \\\n",
       "0  https://lendingclub.com/browse/loanDetail.action?loan_id=1077501   \n",
       "1  https://lendingclub.com/browse/loanDetail.action?loan_id=1077430   \n",
       "2  https://lendingclub.com/browse/loanDetail.action?loan_id=1077175   \n",
       "3  https://lendingclub.com/browse/loanDetail.action?loan_id=1076863   \n",
       "4  https://lendingclub.com/browse/loanDetail.action?loan_id=1075358   \n",
       "\n",
       "                                                                                                                                                                                                                                                                                                                                                                                                                                                                                                                                                                                                             desc  \\\n",
       "0                                                                                                                                                                                                                                                                                                                                                                                                                                                                                                                                    Borrower added on 12/22/11 > I need to upgrade my business technologies.<br>   \n",
       "1    Borrower added on 12/22/11 > I plan to use this money to finance the motorcycle i am looking at. I plan to have it paid off as soon as possible/when i sell my old bike. I only need this money because the deal im looking at is to good to pass up.<br><br>  Borrower added on 12/22/11 > I plan to use this money to finance the motorcycle i am looking at. I plan to have it paid off as soon as possible/when i sell my old bike.I only need this money because the deal im looking at is to good to pass up. I have finished college with an associates degree in business and its takingmeplaces<br>   \n",
       "2                                                                                                                                                                                                                                                                                                                                                                                                                                                                                                                                                                                                             NaN   \n",
       "3                                                                                                                                                                                                                                                                                                                                                                                                                              Borrower added on 12/21/11 > to pay for property tax (borrow from friend, need to pay back) & central A/C need to be replace. I'm very sorry to let my loan expired last time.<br>   \n",
       "4                                                                                                                                                                                                                                                                                                Borrower added on 12/21/11 > I plan on combining three large interest bills together and freeing up some extra each month to pay toward other bills.  I've always been a good payor but have found myself needing to make adjustments to my budget due to a medical scare. My job is very stable, I love it.<br>   \n",
       "\n",
       "          purpose                 title zip_code addr_state   dti  \\\n",
       "0     credit_card              Computer    860xx         AZ 27.65   \n",
       "1             car                  bike    309xx         GA  1.00   \n",
       "2  small_business  real estate business    606xx         IL  8.72   \n",
       "3           other              personel    917xx         CA 20.00   \n",
       "4           other              Personal    972xx         OR 17.94   \n",
       "\n",
       "   delinq_2yrs earliest_cr_line  inq_last_6mths  mths_since_last_delinq  \\\n",
       "0            0           Jan-85               1                     NaN   \n",
       "1            0           Apr-99               5                     NaN   \n",
       "2            0           Nov-01               2                     NaN   \n",
       "3            0           Feb-96               1                   35.00   \n",
       "4            0           Jan-96               0                   38.00   \n",
       "\n",
       "   mths_since_last_record  open_acc  pub_rec  revol_bal revol_util  total_acc  \\\n",
       "0                     NaN         3        0      13648     83.70%          9   \n",
       "1                     NaN         3        0       1687      9.40%          4   \n",
       "2                     NaN         2        0       2956     98.50%         10   \n",
       "3                     NaN        10        0       5598        21%         37   \n",
       "4                     NaN        15        0      27783     53.90%         38   \n",
       "\n",
       "  initial_list_status  out_prncp  out_prncp_inv  total_pymnt  total_pymnt_inv  \\\n",
       "0                   f       0.00           0.00     5,863.16         5,833.84   \n",
       "1                   f       0.00           0.00     1,008.71         1,008.71   \n",
       "2                   f       0.00           0.00     3,005.67         3,005.67   \n",
       "3                   f       0.00           0.00    12,231.89        12,231.89   \n",
       "4                   f     524.06         524.06     3,513.33         3,513.33   \n",
       "\n",
       "   total_rec_prncp  total_rec_int  total_rec_late_fee  recoveries  \\\n",
       "0         5,000.00         863.16                0.00        0.00   \n",
       "1           456.46         435.17                0.00      117.08   \n",
       "2         2,400.00         605.67                0.00        0.00   \n",
       "3        10,000.00       2,214.92               16.97        0.00   \n",
       "4         2,475.94       1,037.39                0.00        0.00   \n",
       "\n",
       "   collection_recovery_fee last_pymnt_d  last_pymnt_amnt next_pymnt_d  \\\n",
       "0                     0.00       Jan-15           171.62          NaN   \n",
       "1                     1.11       Apr-13           119.66          NaN   \n",
       "2                     0.00       Jun-14           649.91          NaN   \n",
       "3                     0.00       Jan-15           357.48          NaN   \n",
       "4                     0.00       May-16            67.79       Jun-16   \n",
       "\n",
       "  last_credit_pull_d  collections_12_mths_ex_med  mths_since_last_major_derog  \\\n",
       "0             May-16                        0.00                          NaN   \n",
       "1             Sep-13                        0.00                          NaN   \n",
       "2             May-16                        0.00                          NaN   \n",
       "3             Apr-16                        0.00                          NaN   \n",
       "4             May-16                        0.00                          NaN   \n",
       "\n",
       "   policy_code application_type  annual_inc_joint  dti_joint  \\\n",
       "0            1       INDIVIDUAL               NaN        NaN   \n",
       "1            1       INDIVIDUAL               NaN        NaN   \n",
       "2            1       INDIVIDUAL               NaN        NaN   \n",
       "3            1       INDIVIDUAL               NaN        NaN   \n",
       "4            1       INDIVIDUAL               NaN        NaN   \n",
       "\n",
       "   verification_status_joint  acc_now_delinq  tot_coll_amt  tot_cur_bal  \\\n",
       "0                        NaN               0           NaN          NaN   \n",
       "1                        NaN               0           NaN          NaN   \n",
       "2                        NaN               0           NaN          NaN   \n",
       "3                        NaN               0           NaN          NaN   \n",
       "4                        NaN               0           NaN          NaN   \n",
       "\n",
       "   open_acc_6m  open_il_6m  open_il_12m  open_il_24m  mths_since_rcnt_il  \\\n",
       "0          NaN         NaN          NaN          NaN                 NaN   \n",
       "1          NaN         NaN          NaN          NaN                 NaN   \n",
       "2          NaN         NaN          NaN          NaN                 NaN   \n",
       "3          NaN         NaN          NaN          NaN                 NaN   \n",
       "4          NaN         NaN          NaN          NaN                 NaN   \n",
       "\n",
       "   total_bal_il  il_util  open_rv_12m  open_rv_24m  max_bal_bc  all_util  \\\n",
       "0           NaN      NaN          NaN          NaN         NaN       NaN   \n",
       "1           NaN      NaN          NaN          NaN         NaN       NaN   \n",
       "2           NaN      NaN          NaN          NaN         NaN       NaN   \n",
       "3           NaN      NaN          NaN          NaN         NaN       NaN   \n",
       "4           NaN      NaN          NaN          NaN         NaN       NaN   \n",
       "\n",
       "   total_rev_hi_lim  inq_fi  total_cu_tl  inq_last_12m  acc_open_past_24mths  \\\n",
       "0               NaN     NaN          NaN           NaN                   NaN   \n",
       "1               NaN     NaN          NaN           NaN                   NaN   \n",
       "2               NaN     NaN          NaN           NaN                   NaN   \n",
       "3               NaN     NaN          NaN           NaN                   NaN   \n",
       "4               NaN     NaN          NaN           NaN                   NaN   \n",
       "\n",
       "   avg_cur_bal  bc_open_to_buy  bc_util  chargeoff_within_12_mths  \\\n",
       "0          NaN             NaN      NaN                      0.00   \n",
       "1          NaN             NaN      NaN                      0.00   \n",
       "2          NaN             NaN      NaN                      0.00   \n",
       "3          NaN             NaN      NaN                      0.00   \n",
       "4          NaN             NaN      NaN                      0.00   \n",
       "\n",
       "   delinq_amnt  mo_sin_old_il_acct  mo_sin_old_rev_tl_op  \\\n",
       "0            0                 NaN                   NaN   \n",
       "1            0                 NaN                   NaN   \n",
       "2            0                 NaN                   NaN   \n",
       "3            0                 NaN                   NaN   \n",
       "4            0                 NaN                   NaN   \n",
       "\n",
       "   mo_sin_rcnt_rev_tl_op  mo_sin_rcnt_tl  mort_acc  mths_since_recent_bc  \\\n",
       "0                    NaN             NaN       NaN                   NaN   \n",
       "1                    NaN             NaN       NaN                   NaN   \n",
       "2                    NaN             NaN       NaN                   NaN   \n",
       "3                    NaN             NaN       NaN                   NaN   \n",
       "4                    NaN             NaN       NaN                   NaN   \n",
       "\n",
       "   mths_since_recent_bc_dlq  mths_since_recent_inq  \\\n",
       "0                       NaN                    NaN   \n",
       "1                       NaN                    NaN   \n",
       "2                       NaN                    NaN   \n",
       "3                       NaN                    NaN   \n",
       "4                       NaN                    NaN   \n",
       "\n",
       "   mths_since_recent_revol_delinq  num_accts_ever_120_pd  num_actv_bc_tl  \\\n",
       "0                             NaN                    NaN             NaN   \n",
       "1                             NaN                    NaN             NaN   \n",
       "2                             NaN                    NaN             NaN   \n",
       "3                             NaN                    NaN             NaN   \n",
       "4                             NaN                    NaN             NaN   \n",
       "\n",
       "   num_actv_rev_tl  num_bc_sats  num_bc_tl  num_il_tl  num_op_rev_tl  \\\n",
       "0              NaN          NaN        NaN        NaN            NaN   \n",
       "1              NaN          NaN        NaN        NaN            NaN   \n",
       "2              NaN          NaN        NaN        NaN            NaN   \n",
       "3              NaN          NaN        NaN        NaN            NaN   \n",
       "4              NaN          NaN        NaN        NaN            NaN   \n",
       "\n",
       "   num_rev_accts  num_rev_tl_bal_gt_0  num_sats  num_tl_120dpd_2m  \\\n",
       "0            NaN                  NaN       NaN               NaN   \n",
       "1            NaN                  NaN       NaN               NaN   \n",
       "2            NaN                  NaN       NaN               NaN   \n",
       "3            NaN                  NaN       NaN               NaN   \n",
       "4            NaN                  NaN       NaN               NaN   \n",
       "\n",
       "   num_tl_30dpd  num_tl_90g_dpd_24m  num_tl_op_past_12m  pct_tl_nvr_dlq  \\\n",
       "0           NaN                 NaN                 NaN             NaN   \n",
       "1           NaN                 NaN                 NaN             NaN   \n",
       "2           NaN                 NaN                 NaN             NaN   \n",
       "3           NaN                 NaN                 NaN             NaN   \n",
       "4           NaN                 NaN                 NaN             NaN   \n",
       "\n",
       "   percent_bc_gt_75  pub_rec_bankruptcies  tax_liens  tot_hi_cred_lim  \\\n",
       "0               NaN                  0.00       0.00              NaN   \n",
       "1               NaN                  0.00       0.00              NaN   \n",
       "2               NaN                  0.00       0.00              NaN   \n",
       "3               NaN                  0.00       0.00              NaN   \n",
       "4               NaN                  0.00       0.00              NaN   \n",
       "\n",
       "   total_bal_ex_mort  total_bc_limit  total_il_high_credit_limit  \n",
       "0                NaN             NaN                         NaN  \n",
       "1                NaN             NaN                         NaN  \n",
       "2                NaN             NaN                         NaN  \n",
       "3                NaN             NaN                         NaN  \n",
       "4                NaN             NaN                         NaN  "
      ]
     },
     "execution_count": 6,
     "metadata": {},
     "output_type": "execute_result"
    }
   ],
   "source": [
    "# Get fist 5 rows of dataset\n",
    "loan_data.head()"
   ]
  },
  {
   "cell_type": "code",
   "execution_count": 7,
   "id": "a7a41bf0",
   "metadata": {},
   "outputs": [
    {
     "data": {
      "text/html": [
       "<div>\n",
       "<style scoped>\n",
       "    .dataframe tbody tr th:only-of-type {\n",
       "        vertical-align: middle;\n",
       "    }\n",
       "\n",
       "    .dataframe tbody tr th {\n",
       "        vertical-align: top;\n",
       "    }\n",
       "\n",
       "    .dataframe thead th {\n",
       "        text-align: right;\n",
       "    }\n",
       "</style>\n",
       "<table border=\"1\" class=\"dataframe\">\n",
       "  <thead>\n",
       "    <tr style=\"text-align: right;\">\n",
       "      <th></th>\n",
       "      <th>id</th>\n",
       "      <th>member_id</th>\n",
       "      <th>loan_amnt</th>\n",
       "      <th>funded_amnt</th>\n",
       "      <th>funded_amnt_inv</th>\n",
       "      <th>installment</th>\n",
       "      <th>annual_inc</th>\n",
       "      <th>dti</th>\n",
       "      <th>delinq_2yrs</th>\n",
       "      <th>inq_last_6mths</th>\n",
       "      <th>mths_since_last_delinq</th>\n",
       "      <th>mths_since_last_record</th>\n",
       "      <th>open_acc</th>\n",
       "      <th>pub_rec</th>\n",
       "      <th>revol_bal</th>\n",
       "      <th>total_acc</th>\n",
       "      <th>out_prncp</th>\n",
       "      <th>out_prncp_inv</th>\n",
       "      <th>total_pymnt</th>\n",
       "      <th>total_pymnt_inv</th>\n",
       "      <th>total_rec_prncp</th>\n",
       "      <th>total_rec_int</th>\n",
       "      <th>total_rec_late_fee</th>\n",
       "      <th>recoveries</th>\n",
       "      <th>collection_recovery_fee</th>\n",
       "      <th>last_pymnt_amnt</th>\n",
       "      <th>collections_12_mths_ex_med</th>\n",
       "      <th>mths_since_last_major_derog</th>\n",
       "      <th>policy_code</th>\n",
       "      <th>annual_inc_joint</th>\n",
       "      <th>dti_joint</th>\n",
       "      <th>verification_status_joint</th>\n",
       "      <th>acc_now_delinq</th>\n",
       "      <th>tot_coll_amt</th>\n",
       "      <th>tot_cur_bal</th>\n",
       "      <th>open_acc_6m</th>\n",
       "      <th>open_il_6m</th>\n",
       "      <th>open_il_12m</th>\n",
       "      <th>open_il_24m</th>\n",
       "      <th>mths_since_rcnt_il</th>\n",
       "      <th>total_bal_il</th>\n",
       "      <th>il_util</th>\n",
       "      <th>open_rv_12m</th>\n",
       "      <th>open_rv_24m</th>\n",
       "      <th>max_bal_bc</th>\n",
       "      <th>all_util</th>\n",
       "      <th>total_rev_hi_lim</th>\n",
       "      <th>inq_fi</th>\n",
       "      <th>total_cu_tl</th>\n",
       "      <th>inq_last_12m</th>\n",
       "      <th>acc_open_past_24mths</th>\n",
       "      <th>avg_cur_bal</th>\n",
       "      <th>bc_open_to_buy</th>\n",
       "      <th>bc_util</th>\n",
       "      <th>chargeoff_within_12_mths</th>\n",
       "      <th>delinq_amnt</th>\n",
       "      <th>mo_sin_old_il_acct</th>\n",
       "      <th>mo_sin_old_rev_tl_op</th>\n",
       "      <th>mo_sin_rcnt_rev_tl_op</th>\n",
       "      <th>mo_sin_rcnt_tl</th>\n",
       "      <th>mort_acc</th>\n",
       "      <th>mths_since_recent_bc</th>\n",
       "      <th>mths_since_recent_bc_dlq</th>\n",
       "      <th>mths_since_recent_inq</th>\n",
       "      <th>mths_since_recent_revol_delinq</th>\n",
       "      <th>num_accts_ever_120_pd</th>\n",
       "      <th>num_actv_bc_tl</th>\n",
       "      <th>num_actv_rev_tl</th>\n",
       "      <th>num_bc_sats</th>\n",
       "      <th>num_bc_tl</th>\n",
       "      <th>num_il_tl</th>\n",
       "      <th>num_op_rev_tl</th>\n",
       "      <th>num_rev_accts</th>\n",
       "      <th>num_rev_tl_bal_gt_0</th>\n",
       "      <th>num_sats</th>\n",
       "      <th>num_tl_120dpd_2m</th>\n",
       "      <th>num_tl_30dpd</th>\n",
       "      <th>num_tl_90g_dpd_24m</th>\n",
       "      <th>num_tl_op_past_12m</th>\n",
       "      <th>pct_tl_nvr_dlq</th>\n",
       "      <th>percent_bc_gt_75</th>\n",
       "      <th>pub_rec_bankruptcies</th>\n",
       "      <th>tax_liens</th>\n",
       "      <th>tot_hi_cred_lim</th>\n",
       "      <th>total_bal_ex_mort</th>\n",
       "      <th>total_bc_limit</th>\n",
       "      <th>total_il_high_credit_limit</th>\n",
       "    </tr>\n",
       "  </thead>\n",
       "  <tbody>\n",
       "    <tr>\n",
       "      <th>count</th>\n",
       "      <td>39,717.00</td>\n",
       "      <td>39,717.00</td>\n",
       "      <td>39,717.00</td>\n",
       "      <td>39,717.00</td>\n",
       "      <td>39,717.00</td>\n",
       "      <td>39,717.00</td>\n",
       "      <td>39,717.00</td>\n",
       "      <td>39,717.00</td>\n",
       "      <td>39,717.00</td>\n",
       "      <td>39,717.00</td>\n",
       "      <td>14,035.00</td>\n",
       "      <td>2,786.00</td>\n",
       "      <td>39,717.00</td>\n",
       "      <td>39,717.00</td>\n",
       "      <td>39,717.00</td>\n",
       "      <td>39,717.00</td>\n",
       "      <td>39,717.00</td>\n",
       "      <td>39,717.00</td>\n",
       "      <td>39,717.00</td>\n",
       "      <td>39,717.00</td>\n",
       "      <td>39,717.00</td>\n",
       "      <td>39,717.00</td>\n",
       "      <td>39,717.00</td>\n",
       "      <td>39,717.00</td>\n",
       "      <td>39,717.00</td>\n",
       "      <td>39,717.00</td>\n",
       "      <td>39,661.00</td>\n",
       "      <td>0.00</td>\n",
       "      <td>39,717.00</td>\n",
       "      <td>0.00</td>\n",
       "      <td>0.00</td>\n",
       "      <td>0.00</td>\n",
       "      <td>39,717.00</td>\n",
       "      <td>0.00</td>\n",
       "      <td>0.00</td>\n",
       "      <td>0.00</td>\n",
       "      <td>0.00</td>\n",
       "      <td>0.00</td>\n",
       "      <td>0.00</td>\n",
       "      <td>0.00</td>\n",
       "      <td>0.00</td>\n",
       "      <td>0.00</td>\n",
       "      <td>0.00</td>\n",
       "      <td>0.00</td>\n",
       "      <td>0.00</td>\n",
       "      <td>0.00</td>\n",
       "      <td>0.00</td>\n",
       "      <td>0.00</td>\n",
       "      <td>0.00</td>\n",
       "      <td>0.00</td>\n",
       "      <td>0.00</td>\n",
       "      <td>0.00</td>\n",
       "      <td>0.00</td>\n",
       "      <td>0.00</td>\n",
       "      <td>39,661.00</td>\n",
       "      <td>39,717.00</td>\n",
       "      <td>0.00</td>\n",
       "      <td>0.00</td>\n",
       "      <td>0.00</td>\n",
       "      <td>0.00</td>\n",
       "      <td>0.00</td>\n",
       "      <td>0.00</td>\n",
       "      <td>0.00</td>\n",
       "      <td>0.00</td>\n",
       "      <td>0.00</td>\n",
       "      <td>0.00</td>\n",
       "      <td>0.00</td>\n",
       "      <td>0.00</td>\n",
       "      <td>0.00</td>\n",
       "      <td>0.00</td>\n",
       "      <td>0.00</td>\n",
       "      <td>0.00</td>\n",
       "      <td>0.00</td>\n",
       "      <td>0.00</td>\n",
       "      <td>0.00</td>\n",
       "      <td>0.00</td>\n",
       "      <td>0.00</td>\n",
       "      <td>0.00</td>\n",
       "      <td>0.00</td>\n",
       "      <td>0.00</td>\n",
       "      <td>0.00</td>\n",
       "      <td>39,020.00</td>\n",
       "      <td>39,678.00</td>\n",
       "      <td>0.00</td>\n",
       "      <td>0.00</td>\n",
       "      <td>0.00</td>\n",
       "      <td>0.00</td>\n",
       "    </tr>\n",
       "    <tr>\n",
       "      <th>mean</th>\n",
       "      <td>683,131.91</td>\n",
       "      <td>850,463.56</td>\n",
       "      <td>11,219.44</td>\n",
       "      <td>10,947.71</td>\n",
       "      <td>10,397.45</td>\n",
       "      <td>324.56</td>\n",
       "      <td>68,968.93</td>\n",
       "      <td>13.32</td>\n",
       "      <td>0.15</td>\n",
       "      <td>0.87</td>\n",
       "      <td>35.90</td>\n",
       "      <td>69.70</td>\n",
       "      <td>9.29</td>\n",
       "      <td>0.06</td>\n",
       "      <td>13,382.53</td>\n",
       "      <td>22.09</td>\n",
       "      <td>51.23</td>\n",
       "      <td>50.99</td>\n",
       "      <td>12,153.60</td>\n",
       "      <td>11,567.15</td>\n",
       "      <td>9,793.35</td>\n",
       "      <td>2,263.66</td>\n",
       "      <td>1.36</td>\n",
       "      <td>95.22</td>\n",
       "      <td>12.41</td>\n",
       "      <td>2,678.83</td>\n",
       "      <td>0.00</td>\n",
       "      <td>NaN</td>\n",
       "      <td>1.00</td>\n",
       "      <td>NaN</td>\n",
       "      <td>NaN</td>\n",
       "      <td>NaN</td>\n",
       "      <td>0.00</td>\n",
       "      <td>NaN</td>\n",
       "      <td>NaN</td>\n",
       "      <td>NaN</td>\n",
       "      <td>NaN</td>\n",
       "      <td>NaN</td>\n",
       "      <td>NaN</td>\n",
       "      <td>NaN</td>\n",
       "      <td>NaN</td>\n",
       "      <td>NaN</td>\n",
       "      <td>NaN</td>\n",
       "      <td>NaN</td>\n",
       "      <td>NaN</td>\n",
       "      <td>NaN</td>\n",
       "      <td>NaN</td>\n",
       "      <td>NaN</td>\n",
       "      <td>NaN</td>\n",
       "      <td>NaN</td>\n",
       "      <td>NaN</td>\n",
       "      <td>NaN</td>\n",
       "      <td>NaN</td>\n",
       "      <td>NaN</td>\n",
       "      <td>0.00</td>\n",
       "      <td>0.00</td>\n",
       "      <td>NaN</td>\n",
       "      <td>NaN</td>\n",
       "      <td>NaN</td>\n",
       "      <td>NaN</td>\n",
       "      <td>NaN</td>\n",
       "      <td>NaN</td>\n",
       "      <td>NaN</td>\n",
       "      <td>NaN</td>\n",
       "      <td>NaN</td>\n",
       "      <td>NaN</td>\n",
       "      <td>NaN</td>\n",
       "      <td>NaN</td>\n",
       "      <td>NaN</td>\n",
       "      <td>NaN</td>\n",
       "      <td>NaN</td>\n",
       "      <td>NaN</td>\n",
       "      <td>NaN</td>\n",
       "      <td>NaN</td>\n",
       "      <td>NaN</td>\n",
       "      <td>NaN</td>\n",
       "      <td>NaN</td>\n",
       "      <td>NaN</td>\n",
       "      <td>NaN</td>\n",
       "      <td>NaN</td>\n",
       "      <td>NaN</td>\n",
       "      <td>0.04</td>\n",
       "      <td>0.00</td>\n",
       "      <td>NaN</td>\n",
       "      <td>NaN</td>\n",
       "      <td>NaN</td>\n",
       "      <td>NaN</td>\n",
       "    </tr>\n",
       "    <tr>\n",
       "      <th>std</th>\n",
       "      <td>210,694.13</td>\n",
       "      <td>265,678.31</td>\n",
       "      <td>7,456.67</td>\n",
       "      <td>7,187.24</td>\n",
       "      <td>7,128.45</td>\n",
       "      <td>208.87</td>\n",
       "      <td>63,793.77</td>\n",
       "      <td>6.68</td>\n",
       "      <td>0.49</td>\n",
       "      <td>1.07</td>\n",
       "      <td>22.02</td>\n",
       "      <td>43.82</td>\n",
       "      <td>4.40</td>\n",
       "      <td>0.24</td>\n",
       "      <td>15,885.02</td>\n",
       "      <td>11.40</td>\n",
       "      <td>375.17</td>\n",
       "      <td>373.82</td>\n",
       "      <td>9,042.04</td>\n",
       "      <td>8,942.67</td>\n",
       "      <td>7,065.52</td>\n",
       "      <td>2,608.11</td>\n",
       "      <td>7.29</td>\n",
       "      <td>688.74</td>\n",
       "      <td>148.67</td>\n",
       "      <td>4,447.14</td>\n",
       "      <td>0.00</td>\n",
       "      <td>NaN</td>\n",
       "      <td>0.00</td>\n",
       "      <td>NaN</td>\n",
       "      <td>NaN</td>\n",
       "      <td>NaN</td>\n",
       "      <td>0.00</td>\n",
       "      <td>NaN</td>\n",
       "      <td>NaN</td>\n",
       "      <td>NaN</td>\n",
       "      <td>NaN</td>\n",
       "      <td>NaN</td>\n",
       "      <td>NaN</td>\n",
       "      <td>NaN</td>\n",
       "      <td>NaN</td>\n",
       "      <td>NaN</td>\n",
       "      <td>NaN</td>\n",
       "      <td>NaN</td>\n",
       "      <td>NaN</td>\n",
       "      <td>NaN</td>\n",
       "      <td>NaN</td>\n",
       "      <td>NaN</td>\n",
       "      <td>NaN</td>\n",
       "      <td>NaN</td>\n",
       "      <td>NaN</td>\n",
       "      <td>NaN</td>\n",
       "      <td>NaN</td>\n",
       "      <td>NaN</td>\n",
       "      <td>0.00</td>\n",
       "      <td>0.00</td>\n",
       "      <td>NaN</td>\n",
       "      <td>NaN</td>\n",
       "      <td>NaN</td>\n",
       "      <td>NaN</td>\n",
       "      <td>NaN</td>\n",
       "      <td>NaN</td>\n",
       "      <td>NaN</td>\n",
       "      <td>NaN</td>\n",
       "      <td>NaN</td>\n",
       "      <td>NaN</td>\n",
       "      <td>NaN</td>\n",
       "      <td>NaN</td>\n",
       "      <td>NaN</td>\n",
       "      <td>NaN</td>\n",
       "      <td>NaN</td>\n",
       "      <td>NaN</td>\n",
       "      <td>NaN</td>\n",
       "      <td>NaN</td>\n",
       "      <td>NaN</td>\n",
       "      <td>NaN</td>\n",
       "      <td>NaN</td>\n",
       "      <td>NaN</td>\n",
       "      <td>NaN</td>\n",
       "      <td>NaN</td>\n",
       "      <td>NaN</td>\n",
       "      <td>0.20</td>\n",
       "      <td>0.00</td>\n",
       "      <td>NaN</td>\n",
       "      <td>NaN</td>\n",
       "      <td>NaN</td>\n",
       "      <td>NaN</td>\n",
       "    </tr>\n",
       "    <tr>\n",
       "      <th>min</th>\n",
       "      <td>54,734.00</td>\n",
       "      <td>70,699.00</td>\n",
       "      <td>500.00</td>\n",
       "      <td>500.00</td>\n",
       "      <td>0.00</td>\n",
       "      <td>15.69</td>\n",
       "      <td>4,000.00</td>\n",
       "      <td>0.00</td>\n",
       "      <td>0.00</td>\n",
       "      <td>0.00</td>\n",
       "      <td>0.00</td>\n",
       "      <td>0.00</td>\n",
       "      <td>2.00</td>\n",
       "      <td>0.00</td>\n",
       "      <td>0.00</td>\n",
       "      <td>2.00</td>\n",
       "      <td>0.00</td>\n",
       "      <td>0.00</td>\n",
       "      <td>0.00</td>\n",
       "      <td>0.00</td>\n",
       "      <td>0.00</td>\n",
       "      <td>0.00</td>\n",
       "      <td>0.00</td>\n",
       "      <td>0.00</td>\n",
       "      <td>0.00</td>\n",
       "      <td>0.00</td>\n",
       "      <td>0.00</td>\n",
       "      <td>NaN</td>\n",
       "      <td>1.00</td>\n",
       "      <td>NaN</td>\n",
       "      <td>NaN</td>\n",
       "      <td>NaN</td>\n",
       "      <td>0.00</td>\n",
       "      <td>NaN</td>\n",
       "      <td>NaN</td>\n",
       "      <td>NaN</td>\n",
       "      <td>NaN</td>\n",
       "      <td>NaN</td>\n",
       "      <td>NaN</td>\n",
       "      <td>NaN</td>\n",
       "      <td>NaN</td>\n",
       "      <td>NaN</td>\n",
       "      <td>NaN</td>\n",
       "      <td>NaN</td>\n",
       "      <td>NaN</td>\n",
       "      <td>NaN</td>\n",
       "      <td>NaN</td>\n",
       "      <td>NaN</td>\n",
       "      <td>NaN</td>\n",
       "      <td>NaN</td>\n",
       "      <td>NaN</td>\n",
       "      <td>NaN</td>\n",
       "      <td>NaN</td>\n",
       "      <td>NaN</td>\n",
       "      <td>0.00</td>\n",
       "      <td>0.00</td>\n",
       "      <td>NaN</td>\n",
       "      <td>NaN</td>\n",
       "      <td>NaN</td>\n",
       "      <td>NaN</td>\n",
       "      <td>NaN</td>\n",
       "      <td>NaN</td>\n",
       "      <td>NaN</td>\n",
       "      <td>NaN</td>\n",
       "      <td>NaN</td>\n",
       "      <td>NaN</td>\n",
       "      <td>NaN</td>\n",
       "      <td>NaN</td>\n",
       "      <td>NaN</td>\n",
       "      <td>NaN</td>\n",
       "      <td>NaN</td>\n",
       "      <td>NaN</td>\n",
       "      <td>NaN</td>\n",
       "      <td>NaN</td>\n",
       "      <td>NaN</td>\n",
       "      <td>NaN</td>\n",
       "      <td>NaN</td>\n",
       "      <td>NaN</td>\n",
       "      <td>NaN</td>\n",
       "      <td>NaN</td>\n",
       "      <td>NaN</td>\n",
       "      <td>0.00</td>\n",
       "      <td>0.00</td>\n",
       "      <td>NaN</td>\n",
       "      <td>NaN</td>\n",
       "      <td>NaN</td>\n",
       "      <td>NaN</td>\n",
       "    </tr>\n",
       "    <tr>\n",
       "      <th>25%</th>\n",
       "      <td>516,221.00</td>\n",
       "      <td>666,780.00</td>\n",
       "      <td>5,500.00</td>\n",
       "      <td>5,400.00</td>\n",
       "      <td>5,000.00</td>\n",
       "      <td>167.02</td>\n",
       "      <td>40,404.00</td>\n",
       "      <td>8.17</td>\n",
       "      <td>0.00</td>\n",
       "      <td>0.00</td>\n",
       "      <td>18.00</td>\n",
       "      <td>22.00</td>\n",
       "      <td>6.00</td>\n",
       "      <td>0.00</td>\n",
       "      <td>3,703.00</td>\n",
       "      <td>13.00</td>\n",
       "      <td>0.00</td>\n",
       "      <td>0.00</td>\n",
       "      <td>5,576.93</td>\n",
       "      <td>5,112.31</td>\n",
       "      <td>4,600.00</td>\n",
       "      <td>662.18</td>\n",
       "      <td>0.00</td>\n",
       "      <td>0.00</td>\n",
       "      <td>0.00</td>\n",
       "      <td>218.68</td>\n",
       "      <td>0.00</td>\n",
       "      <td>NaN</td>\n",
       "      <td>1.00</td>\n",
       "      <td>NaN</td>\n",
       "      <td>NaN</td>\n",
       "      <td>NaN</td>\n",
       "      <td>0.00</td>\n",
       "      <td>NaN</td>\n",
       "      <td>NaN</td>\n",
       "      <td>NaN</td>\n",
       "      <td>NaN</td>\n",
       "      <td>NaN</td>\n",
       "      <td>NaN</td>\n",
       "      <td>NaN</td>\n",
       "      <td>NaN</td>\n",
       "      <td>NaN</td>\n",
       "      <td>NaN</td>\n",
       "      <td>NaN</td>\n",
       "      <td>NaN</td>\n",
       "      <td>NaN</td>\n",
       "      <td>NaN</td>\n",
       "      <td>NaN</td>\n",
       "      <td>NaN</td>\n",
       "      <td>NaN</td>\n",
       "      <td>NaN</td>\n",
       "      <td>NaN</td>\n",
       "      <td>NaN</td>\n",
       "      <td>NaN</td>\n",
       "      <td>0.00</td>\n",
       "      <td>0.00</td>\n",
       "      <td>NaN</td>\n",
       "      <td>NaN</td>\n",
       "      <td>NaN</td>\n",
       "      <td>NaN</td>\n",
       "      <td>NaN</td>\n",
       "      <td>NaN</td>\n",
       "      <td>NaN</td>\n",
       "      <td>NaN</td>\n",
       "      <td>NaN</td>\n",
       "      <td>NaN</td>\n",
       "      <td>NaN</td>\n",
       "      <td>NaN</td>\n",
       "      <td>NaN</td>\n",
       "      <td>NaN</td>\n",
       "      <td>NaN</td>\n",
       "      <td>NaN</td>\n",
       "      <td>NaN</td>\n",
       "      <td>NaN</td>\n",
       "      <td>NaN</td>\n",
       "      <td>NaN</td>\n",
       "      <td>NaN</td>\n",
       "      <td>NaN</td>\n",
       "      <td>NaN</td>\n",
       "      <td>NaN</td>\n",
       "      <td>NaN</td>\n",
       "      <td>0.00</td>\n",
       "      <td>0.00</td>\n",
       "      <td>NaN</td>\n",
       "      <td>NaN</td>\n",
       "      <td>NaN</td>\n",
       "      <td>NaN</td>\n",
       "    </tr>\n",
       "    <tr>\n",
       "      <th>50%</th>\n",
       "      <td>665,665.00</td>\n",
       "      <td>850,812.00</td>\n",
       "      <td>10,000.00</td>\n",
       "      <td>9,600.00</td>\n",
       "      <td>8,975.00</td>\n",
       "      <td>280.22</td>\n",
       "      <td>59,000.00</td>\n",
       "      <td>13.40</td>\n",
       "      <td>0.00</td>\n",
       "      <td>1.00</td>\n",
       "      <td>34.00</td>\n",
       "      <td>90.00</td>\n",
       "      <td>9.00</td>\n",
       "      <td>0.00</td>\n",
       "      <td>8,850.00</td>\n",
       "      <td>20.00</td>\n",
       "      <td>0.00</td>\n",
       "      <td>0.00</td>\n",
       "      <td>9,899.64</td>\n",
       "      <td>9,287.15</td>\n",
       "      <td>8,000.00</td>\n",
       "      <td>1,348.91</td>\n",
       "      <td>0.00</td>\n",
       "      <td>0.00</td>\n",
       "      <td>0.00</td>\n",
       "      <td>546.14</td>\n",
       "      <td>0.00</td>\n",
       "      <td>NaN</td>\n",
       "      <td>1.00</td>\n",
       "      <td>NaN</td>\n",
       "      <td>NaN</td>\n",
       "      <td>NaN</td>\n",
       "      <td>0.00</td>\n",
       "      <td>NaN</td>\n",
       "      <td>NaN</td>\n",
       "      <td>NaN</td>\n",
       "      <td>NaN</td>\n",
       "      <td>NaN</td>\n",
       "      <td>NaN</td>\n",
       "      <td>NaN</td>\n",
       "      <td>NaN</td>\n",
       "      <td>NaN</td>\n",
       "      <td>NaN</td>\n",
       "      <td>NaN</td>\n",
       "      <td>NaN</td>\n",
       "      <td>NaN</td>\n",
       "      <td>NaN</td>\n",
       "      <td>NaN</td>\n",
       "      <td>NaN</td>\n",
       "      <td>NaN</td>\n",
       "      <td>NaN</td>\n",
       "      <td>NaN</td>\n",
       "      <td>NaN</td>\n",
       "      <td>NaN</td>\n",
       "      <td>0.00</td>\n",
       "      <td>0.00</td>\n",
       "      <td>NaN</td>\n",
       "      <td>NaN</td>\n",
       "      <td>NaN</td>\n",
       "      <td>NaN</td>\n",
       "      <td>NaN</td>\n",
       "      <td>NaN</td>\n",
       "      <td>NaN</td>\n",
       "      <td>NaN</td>\n",
       "      <td>NaN</td>\n",
       "      <td>NaN</td>\n",
       "      <td>NaN</td>\n",
       "      <td>NaN</td>\n",
       "      <td>NaN</td>\n",
       "      <td>NaN</td>\n",
       "      <td>NaN</td>\n",
       "      <td>NaN</td>\n",
       "      <td>NaN</td>\n",
       "      <td>NaN</td>\n",
       "      <td>NaN</td>\n",
       "      <td>NaN</td>\n",
       "      <td>NaN</td>\n",
       "      <td>NaN</td>\n",
       "      <td>NaN</td>\n",
       "      <td>NaN</td>\n",
       "      <td>NaN</td>\n",
       "      <td>0.00</td>\n",
       "      <td>0.00</td>\n",
       "      <td>NaN</td>\n",
       "      <td>NaN</td>\n",
       "      <td>NaN</td>\n",
       "      <td>NaN</td>\n",
       "    </tr>\n",
       "    <tr>\n",
       "      <th>75%</th>\n",
       "      <td>837,755.00</td>\n",
       "      <td>1,047,339.00</td>\n",
       "      <td>15,000.00</td>\n",
       "      <td>15,000.00</td>\n",
       "      <td>14,400.00</td>\n",
       "      <td>430.78</td>\n",
       "      <td>82,300.00</td>\n",
       "      <td>18.60</td>\n",
       "      <td>0.00</td>\n",
       "      <td>1.00</td>\n",
       "      <td>52.00</td>\n",
       "      <td>104.00</td>\n",
       "      <td>12.00</td>\n",
       "      <td>0.00</td>\n",
       "      <td>17,058.00</td>\n",
       "      <td>29.00</td>\n",
       "      <td>0.00</td>\n",
       "      <td>0.00</td>\n",
       "      <td>16,534.43</td>\n",
       "      <td>15,798.81</td>\n",
       "      <td>13,653.26</td>\n",
       "      <td>2,833.40</td>\n",
       "      <td>0.00</td>\n",
       "      <td>0.00</td>\n",
       "      <td>0.00</td>\n",
       "      <td>3,293.16</td>\n",
       "      <td>0.00</td>\n",
       "      <td>NaN</td>\n",
       "      <td>1.00</td>\n",
       "      <td>NaN</td>\n",
       "      <td>NaN</td>\n",
       "      <td>NaN</td>\n",
       "      <td>0.00</td>\n",
       "      <td>NaN</td>\n",
       "      <td>NaN</td>\n",
       "      <td>NaN</td>\n",
       "      <td>NaN</td>\n",
       "      <td>NaN</td>\n",
       "      <td>NaN</td>\n",
       "      <td>NaN</td>\n",
       "      <td>NaN</td>\n",
       "      <td>NaN</td>\n",
       "      <td>NaN</td>\n",
       "      <td>NaN</td>\n",
       "      <td>NaN</td>\n",
       "      <td>NaN</td>\n",
       "      <td>NaN</td>\n",
       "      <td>NaN</td>\n",
       "      <td>NaN</td>\n",
       "      <td>NaN</td>\n",
       "      <td>NaN</td>\n",
       "      <td>NaN</td>\n",
       "      <td>NaN</td>\n",
       "      <td>NaN</td>\n",
       "      <td>0.00</td>\n",
       "      <td>0.00</td>\n",
       "      <td>NaN</td>\n",
       "      <td>NaN</td>\n",
       "      <td>NaN</td>\n",
       "      <td>NaN</td>\n",
       "      <td>NaN</td>\n",
       "      <td>NaN</td>\n",
       "      <td>NaN</td>\n",
       "      <td>NaN</td>\n",
       "      <td>NaN</td>\n",
       "      <td>NaN</td>\n",
       "      <td>NaN</td>\n",
       "      <td>NaN</td>\n",
       "      <td>NaN</td>\n",
       "      <td>NaN</td>\n",
       "      <td>NaN</td>\n",
       "      <td>NaN</td>\n",
       "      <td>NaN</td>\n",
       "      <td>NaN</td>\n",
       "      <td>NaN</td>\n",
       "      <td>NaN</td>\n",
       "      <td>NaN</td>\n",
       "      <td>NaN</td>\n",
       "      <td>NaN</td>\n",
       "      <td>NaN</td>\n",
       "      <td>NaN</td>\n",
       "      <td>0.00</td>\n",
       "      <td>0.00</td>\n",
       "      <td>NaN</td>\n",
       "      <td>NaN</td>\n",
       "      <td>NaN</td>\n",
       "      <td>NaN</td>\n",
       "    </tr>\n",
       "    <tr>\n",
       "      <th>max</th>\n",
       "      <td>1,077,501.00</td>\n",
       "      <td>1,314,167.00</td>\n",
       "      <td>35,000.00</td>\n",
       "      <td>35,000.00</td>\n",
       "      <td>35,000.00</td>\n",
       "      <td>1,305.19</td>\n",
       "      <td>6,000,000.00</td>\n",
       "      <td>29.99</td>\n",
       "      <td>11.00</td>\n",
       "      <td>8.00</td>\n",
       "      <td>120.00</td>\n",
       "      <td>129.00</td>\n",
       "      <td>44.00</td>\n",
       "      <td>4.00</td>\n",
       "      <td>149,588.00</td>\n",
       "      <td>90.00</td>\n",
       "      <td>6,311.47</td>\n",
       "      <td>6,307.37</td>\n",
       "      <td>58,563.68</td>\n",
       "      <td>58,563.68</td>\n",
       "      <td>35,000.02</td>\n",
       "      <td>23,563.68</td>\n",
       "      <td>180.20</td>\n",
       "      <td>29,623.35</td>\n",
       "      <td>7,002.19</td>\n",
       "      <td>36,115.20</td>\n",
       "      <td>0.00</td>\n",
       "      <td>NaN</td>\n",
       "      <td>1.00</td>\n",
       "      <td>NaN</td>\n",
       "      <td>NaN</td>\n",
       "      <td>NaN</td>\n",
       "      <td>0.00</td>\n",
       "      <td>NaN</td>\n",
       "      <td>NaN</td>\n",
       "      <td>NaN</td>\n",
       "      <td>NaN</td>\n",
       "      <td>NaN</td>\n",
       "      <td>NaN</td>\n",
       "      <td>NaN</td>\n",
       "      <td>NaN</td>\n",
       "      <td>NaN</td>\n",
       "      <td>NaN</td>\n",
       "      <td>NaN</td>\n",
       "      <td>NaN</td>\n",
       "      <td>NaN</td>\n",
       "      <td>NaN</td>\n",
       "      <td>NaN</td>\n",
       "      <td>NaN</td>\n",
       "      <td>NaN</td>\n",
       "      <td>NaN</td>\n",
       "      <td>NaN</td>\n",
       "      <td>NaN</td>\n",
       "      <td>NaN</td>\n",
       "      <td>0.00</td>\n",
       "      <td>0.00</td>\n",
       "      <td>NaN</td>\n",
       "      <td>NaN</td>\n",
       "      <td>NaN</td>\n",
       "      <td>NaN</td>\n",
       "      <td>NaN</td>\n",
       "      <td>NaN</td>\n",
       "      <td>NaN</td>\n",
       "      <td>NaN</td>\n",
       "      <td>NaN</td>\n",
       "      <td>NaN</td>\n",
       "      <td>NaN</td>\n",
       "      <td>NaN</td>\n",
       "      <td>NaN</td>\n",
       "      <td>NaN</td>\n",
       "      <td>NaN</td>\n",
       "      <td>NaN</td>\n",
       "      <td>NaN</td>\n",
       "      <td>NaN</td>\n",
       "      <td>NaN</td>\n",
       "      <td>NaN</td>\n",
       "      <td>NaN</td>\n",
       "      <td>NaN</td>\n",
       "      <td>NaN</td>\n",
       "      <td>NaN</td>\n",
       "      <td>NaN</td>\n",
       "      <td>2.00</td>\n",
       "      <td>0.00</td>\n",
       "      <td>NaN</td>\n",
       "      <td>NaN</td>\n",
       "      <td>NaN</td>\n",
       "      <td>NaN</td>\n",
       "    </tr>\n",
       "  </tbody>\n",
       "</table>\n",
       "</div>"
      ],
      "text/plain": [
       "                id    member_id  loan_amnt  funded_amnt  funded_amnt_inv  \\\n",
       "count    39,717.00    39,717.00  39,717.00    39,717.00        39,717.00   \n",
       "mean    683,131.91   850,463.56  11,219.44    10,947.71        10,397.45   \n",
       "std     210,694.13   265,678.31   7,456.67     7,187.24         7,128.45   \n",
       "min      54,734.00    70,699.00     500.00       500.00             0.00   \n",
       "25%     516,221.00   666,780.00   5,500.00     5,400.00         5,000.00   \n",
       "50%     665,665.00   850,812.00  10,000.00     9,600.00         8,975.00   \n",
       "75%     837,755.00 1,047,339.00  15,000.00    15,000.00        14,400.00   \n",
       "max   1,077,501.00 1,314,167.00  35,000.00    35,000.00        35,000.00   \n",
       "\n",
       "       installment   annual_inc       dti  delinq_2yrs  inq_last_6mths  \\\n",
       "count    39,717.00    39,717.00 39,717.00    39,717.00       39,717.00   \n",
       "mean        324.56    68,968.93     13.32         0.15            0.87   \n",
       "std         208.87    63,793.77      6.68         0.49            1.07   \n",
       "min          15.69     4,000.00      0.00         0.00            0.00   \n",
       "25%         167.02    40,404.00      8.17         0.00            0.00   \n",
       "50%         280.22    59,000.00     13.40         0.00            1.00   \n",
       "75%         430.78    82,300.00     18.60         0.00            1.00   \n",
       "max       1,305.19 6,000,000.00     29.99        11.00            8.00   \n",
       "\n",
       "       mths_since_last_delinq  mths_since_last_record  open_acc   pub_rec  \\\n",
       "count               14,035.00                2,786.00 39,717.00 39,717.00   \n",
       "mean                    35.90                   69.70      9.29      0.06   \n",
       "std                     22.02                   43.82      4.40      0.24   \n",
       "min                      0.00                    0.00      2.00      0.00   \n",
       "25%                     18.00                   22.00      6.00      0.00   \n",
       "50%                     34.00                   90.00      9.00      0.00   \n",
       "75%                     52.00                  104.00     12.00      0.00   \n",
       "max                    120.00                  129.00     44.00      4.00   \n",
       "\n",
       "       revol_bal  total_acc  out_prncp  out_prncp_inv  total_pymnt  \\\n",
       "count  39,717.00  39,717.00  39,717.00      39,717.00    39,717.00   \n",
       "mean   13,382.53      22.09      51.23          50.99    12,153.60   \n",
       "std    15,885.02      11.40     375.17         373.82     9,042.04   \n",
       "min         0.00       2.00       0.00           0.00         0.00   \n",
       "25%     3,703.00      13.00       0.00           0.00     5,576.93   \n",
       "50%     8,850.00      20.00       0.00           0.00     9,899.64   \n",
       "75%    17,058.00      29.00       0.00           0.00    16,534.43   \n",
       "max   149,588.00      90.00   6,311.47       6,307.37    58,563.68   \n",
       "\n",
       "       total_pymnt_inv  total_rec_prncp  total_rec_int  total_rec_late_fee  \\\n",
       "count        39,717.00        39,717.00      39,717.00           39,717.00   \n",
       "mean         11,567.15         9,793.35       2,263.66                1.36   \n",
       "std           8,942.67         7,065.52       2,608.11                7.29   \n",
       "min               0.00             0.00           0.00                0.00   \n",
       "25%           5,112.31         4,600.00         662.18                0.00   \n",
       "50%           9,287.15         8,000.00       1,348.91                0.00   \n",
       "75%          15,798.81        13,653.26       2,833.40                0.00   \n",
       "max          58,563.68        35,000.02      23,563.68              180.20   \n",
       "\n",
       "       recoveries  collection_recovery_fee  last_pymnt_amnt  \\\n",
       "count   39,717.00                39,717.00        39,717.00   \n",
       "mean        95.22                    12.41         2,678.83   \n",
       "std        688.74                   148.67         4,447.14   \n",
       "min          0.00                     0.00             0.00   \n",
       "25%          0.00                     0.00           218.68   \n",
       "50%          0.00                     0.00           546.14   \n",
       "75%          0.00                     0.00         3,293.16   \n",
       "max     29,623.35                 7,002.19        36,115.20   \n",
       "\n",
       "       collections_12_mths_ex_med  mths_since_last_major_derog  policy_code  \\\n",
       "count                   39,661.00                         0.00    39,717.00   \n",
       "mean                         0.00                          NaN         1.00   \n",
       "std                          0.00                          NaN         0.00   \n",
       "min                          0.00                          NaN         1.00   \n",
       "25%                          0.00                          NaN         1.00   \n",
       "50%                          0.00                          NaN         1.00   \n",
       "75%                          0.00                          NaN         1.00   \n",
       "max                          0.00                          NaN         1.00   \n",
       "\n",
       "       annual_inc_joint  dti_joint  verification_status_joint  acc_now_delinq  \\\n",
       "count              0.00       0.00                       0.00       39,717.00   \n",
       "mean                NaN        NaN                        NaN            0.00   \n",
       "std                 NaN        NaN                        NaN            0.00   \n",
       "min                 NaN        NaN                        NaN            0.00   \n",
       "25%                 NaN        NaN                        NaN            0.00   \n",
       "50%                 NaN        NaN                        NaN            0.00   \n",
       "75%                 NaN        NaN                        NaN            0.00   \n",
       "max                 NaN        NaN                        NaN            0.00   \n",
       "\n",
       "       tot_coll_amt  tot_cur_bal  open_acc_6m  open_il_6m  open_il_12m  \\\n",
       "count          0.00         0.00         0.00        0.00         0.00   \n",
       "mean            NaN          NaN          NaN         NaN          NaN   \n",
       "std             NaN          NaN          NaN         NaN          NaN   \n",
       "min             NaN          NaN          NaN         NaN          NaN   \n",
       "25%             NaN          NaN          NaN         NaN          NaN   \n",
       "50%             NaN          NaN          NaN         NaN          NaN   \n",
       "75%             NaN          NaN          NaN         NaN          NaN   \n",
       "max             NaN          NaN          NaN         NaN          NaN   \n",
       "\n",
       "       open_il_24m  mths_since_rcnt_il  total_bal_il  il_util  open_rv_12m  \\\n",
       "count         0.00                0.00          0.00     0.00         0.00   \n",
       "mean           NaN                 NaN           NaN      NaN          NaN   \n",
       "std            NaN                 NaN           NaN      NaN          NaN   \n",
       "min            NaN                 NaN           NaN      NaN          NaN   \n",
       "25%            NaN                 NaN           NaN      NaN          NaN   \n",
       "50%            NaN                 NaN           NaN      NaN          NaN   \n",
       "75%            NaN                 NaN           NaN      NaN          NaN   \n",
       "max            NaN                 NaN           NaN      NaN          NaN   \n",
       "\n",
       "       open_rv_24m  max_bal_bc  all_util  total_rev_hi_lim  inq_fi  \\\n",
       "count         0.00        0.00      0.00              0.00    0.00   \n",
       "mean           NaN         NaN       NaN               NaN     NaN   \n",
       "std            NaN         NaN       NaN               NaN     NaN   \n",
       "min            NaN         NaN       NaN               NaN     NaN   \n",
       "25%            NaN         NaN       NaN               NaN     NaN   \n",
       "50%            NaN         NaN       NaN               NaN     NaN   \n",
       "75%            NaN         NaN       NaN               NaN     NaN   \n",
       "max            NaN         NaN       NaN               NaN     NaN   \n",
       "\n",
       "       total_cu_tl  inq_last_12m  acc_open_past_24mths  avg_cur_bal  \\\n",
       "count         0.00          0.00                  0.00         0.00   \n",
       "mean           NaN           NaN                   NaN          NaN   \n",
       "std            NaN           NaN                   NaN          NaN   \n",
       "min            NaN           NaN                   NaN          NaN   \n",
       "25%            NaN           NaN                   NaN          NaN   \n",
       "50%            NaN           NaN                   NaN          NaN   \n",
       "75%            NaN           NaN                   NaN          NaN   \n",
       "max            NaN           NaN                   NaN          NaN   \n",
       "\n",
       "       bc_open_to_buy  bc_util  chargeoff_within_12_mths  delinq_amnt  \\\n",
       "count            0.00     0.00                 39,661.00    39,717.00   \n",
       "mean              NaN      NaN                      0.00         0.00   \n",
       "std               NaN      NaN                      0.00         0.00   \n",
       "min               NaN      NaN                      0.00         0.00   \n",
       "25%               NaN      NaN                      0.00         0.00   \n",
       "50%               NaN      NaN                      0.00         0.00   \n",
       "75%               NaN      NaN                      0.00         0.00   \n",
       "max               NaN      NaN                      0.00         0.00   \n",
       "\n",
       "       mo_sin_old_il_acct  mo_sin_old_rev_tl_op  mo_sin_rcnt_rev_tl_op  \\\n",
       "count                0.00                  0.00                   0.00   \n",
       "mean                  NaN                   NaN                    NaN   \n",
       "std                   NaN                   NaN                    NaN   \n",
       "min                   NaN                   NaN                    NaN   \n",
       "25%                   NaN                   NaN                    NaN   \n",
       "50%                   NaN                   NaN                    NaN   \n",
       "75%                   NaN                   NaN                    NaN   \n",
       "max                   NaN                   NaN                    NaN   \n",
       "\n",
       "       mo_sin_rcnt_tl  mort_acc  mths_since_recent_bc  \\\n",
       "count            0.00      0.00                  0.00   \n",
       "mean              NaN       NaN                   NaN   \n",
       "std               NaN       NaN                   NaN   \n",
       "min               NaN       NaN                   NaN   \n",
       "25%               NaN       NaN                   NaN   \n",
       "50%               NaN       NaN                   NaN   \n",
       "75%               NaN       NaN                   NaN   \n",
       "max               NaN       NaN                   NaN   \n",
       "\n",
       "       mths_since_recent_bc_dlq  mths_since_recent_inq  \\\n",
       "count                      0.00                   0.00   \n",
       "mean                        NaN                    NaN   \n",
       "std                         NaN                    NaN   \n",
       "min                         NaN                    NaN   \n",
       "25%                         NaN                    NaN   \n",
       "50%                         NaN                    NaN   \n",
       "75%                         NaN                    NaN   \n",
       "max                         NaN                    NaN   \n",
       "\n",
       "       mths_since_recent_revol_delinq  num_accts_ever_120_pd  num_actv_bc_tl  \\\n",
       "count                            0.00                   0.00            0.00   \n",
       "mean                              NaN                    NaN             NaN   \n",
       "std                               NaN                    NaN             NaN   \n",
       "min                               NaN                    NaN             NaN   \n",
       "25%                               NaN                    NaN             NaN   \n",
       "50%                               NaN                    NaN             NaN   \n",
       "75%                               NaN                    NaN             NaN   \n",
       "max                               NaN                    NaN             NaN   \n",
       "\n",
       "       num_actv_rev_tl  num_bc_sats  num_bc_tl  num_il_tl  num_op_rev_tl  \\\n",
       "count             0.00         0.00       0.00       0.00           0.00   \n",
       "mean               NaN          NaN        NaN        NaN            NaN   \n",
       "std                NaN          NaN        NaN        NaN            NaN   \n",
       "min                NaN          NaN        NaN        NaN            NaN   \n",
       "25%                NaN          NaN        NaN        NaN            NaN   \n",
       "50%                NaN          NaN        NaN        NaN            NaN   \n",
       "75%                NaN          NaN        NaN        NaN            NaN   \n",
       "max                NaN          NaN        NaN        NaN            NaN   \n",
       "\n",
       "       num_rev_accts  num_rev_tl_bal_gt_0  num_sats  num_tl_120dpd_2m  \\\n",
       "count           0.00                 0.00      0.00              0.00   \n",
       "mean             NaN                  NaN       NaN               NaN   \n",
       "std              NaN                  NaN       NaN               NaN   \n",
       "min              NaN                  NaN       NaN               NaN   \n",
       "25%              NaN                  NaN       NaN               NaN   \n",
       "50%              NaN                  NaN       NaN               NaN   \n",
       "75%              NaN                  NaN       NaN               NaN   \n",
       "max              NaN                  NaN       NaN               NaN   \n",
       "\n",
       "       num_tl_30dpd  num_tl_90g_dpd_24m  num_tl_op_past_12m  pct_tl_nvr_dlq  \\\n",
       "count          0.00                0.00                0.00            0.00   \n",
       "mean            NaN                 NaN                 NaN             NaN   \n",
       "std             NaN                 NaN                 NaN             NaN   \n",
       "min             NaN                 NaN                 NaN             NaN   \n",
       "25%             NaN                 NaN                 NaN             NaN   \n",
       "50%             NaN                 NaN                 NaN             NaN   \n",
       "75%             NaN                 NaN                 NaN             NaN   \n",
       "max             NaN                 NaN                 NaN             NaN   \n",
       "\n",
       "       percent_bc_gt_75  pub_rec_bankruptcies  tax_liens  tot_hi_cred_lim  \\\n",
       "count              0.00             39,020.00  39,678.00             0.00   \n",
       "mean                NaN                  0.04       0.00              NaN   \n",
       "std                 NaN                  0.20       0.00              NaN   \n",
       "min                 NaN                  0.00       0.00              NaN   \n",
       "25%                 NaN                  0.00       0.00              NaN   \n",
       "50%                 NaN                  0.00       0.00              NaN   \n",
       "75%                 NaN                  0.00       0.00              NaN   \n",
       "max                 NaN                  2.00       0.00              NaN   \n",
       "\n",
       "       total_bal_ex_mort  total_bc_limit  total_il_high_credit_limit  \n",
       "count               0.00            0.00                        0.00  \n",
       "mean                 NaN             NaN                         NaN  \n",
       "std                  NaN             NaN                         NaN  \n",
       "min                  NaN             NaN                         NaN  \n",
       "25%                  NaN             NaN                         NaN  \n",
       "50%                  NaN             NaN                         NaN  \n",
       "75%                  NaN             NaN                         NaN  \n",
       "max                  NaN             NaN                         NaN  "
      ]
     },
     "execution_count": 7,
     "metadata": {},
     "output_type": "execute_result"
    }
   ],
   "source": [
    "#discribe the data\n",
    "loan_data.describe()"
   ]
  },
  {
   "cell_type": "markdown",
   "id": "1595f65a",
   "metadata": {},
   "source": [
    "## Data cleaning"
   ]
  },
  {
   "cell_type": "markdown",
   "id": "769cfa26",
   "metadata": {},
   "source": [
    "###### Step 4: Check for duplicate rows in dataset based on id column"
   ]
  },
  {
   "cell_type": "code",
   "execution_count": 8,
   "id": "411b74ac",
   "metadata": {},
   "outputs": [
    {
     "name": "stdout",
     "output_type": "stream",
     "text": [
      "39717\n"
     ]
    },
    {
     "data": {
      "text/html": [
       "<div>\n",
       "<style scoped>\n",
       "    .dataframe tbody tr th:only-of-type {\n",
       "        vertical-align: middle;\n",
       "    }\n",
       "\n",
       "    .dataframe tbody tr th {\n",
       "        vertical-align: top;\n",
       "    }\n",
       "\n",
       "    .dataframe thead th {\n",
       "        text-align: right;\n",
       "    }\n",
       "</style>\n",
       "<table border=\"1\" class=\"dataframe\">\n",
       "  <thead>\n",
       "    <tr style=\"text-align: right;\">\n",
       "      <th></th>\n",
       "      <th>id</th>\n",
       "      <th>member_id</th>\n",
       "      <th>loan_amnt</th>\n",
       "      <th>funded_amnt</th>\n",
       "      <th>funded_amnt_inv</th>\n",
       "      <th>term</th>\n",
       "      <th>int_rate</th>\n",
       "      <th>installment</th>\n",
       "      <th>grade</th>\n",
       "      <th>sub_grade</th>\n",
       "      <th>emp_title</th>\n",
       "      <th>emp_length</th>\n",
       "      <th>home_ownership</th>\n",
       "      <th>annual_inc</th>\n",
       "      <th>verification_status</th>\n",
       "      <th>issue_d</th>\n",
       "      <th>loan_status</th>\n",
       "      <th>pymnt_plan</th>\n",
       "      <th>url</th>\n",
       "      <th>desc</th>\n",
       "      <th>purpose</th>\n",
       "      <th>title</th>\n",
       "      <th>zip_code</th>\n",
       "      <th>addr_state</th>\n",
       "      <th>dti</th>\n",
       "      <th>delinq_2yrs</th>\n",
       "      <th>earliest_cr_line</th>\n",
       "      <th>inq_last_6mths</th>\n",
       "      <th>mths_since_last_delinq</th>\n",
       "      <th>mths_since_last_record</th>\n",
       "      <th>open_acc</th>\n",
       "      <th>pub_rec</th>\n",
       "      <th>revol_bal</th>\n",
       "      <th>revol_util</th>\n",
       "      <th>total_acc</th>\n",
       "      <th>initial_list_status</th>\n",
       "      <th>out_prncp</th>\n",
       "      <th>out_prncp_inv</th>\n",
       "      <th>total_pymnt</th>\n",
       "      <th>total_pymnt_inv</th>\n",
       "      <th>total_rec_prncp</th>\n",
       "      <th>total_rec_int</th>\n",
       "      <th>total_rec_late_fee</th>\n",
       "      <th>recoveries</th>\n",
       "      <th>collection_recovery_fee</th>\n",
       "      <th>last_pymnt_d</th>\n",
       "      <th>last_pymnt_amnt</th>\n",
       "      <th>next_pymnt_d</th>\n",
       "      <th>last_credit_pull_d</th>\n",
       "      <th>collections_12_mths_ex_med</th>\n",
       "      <th>mths_since_last_major_derog</th>\n",
       "      <th>policy_code</th>\n",
       "      <th>application_type</th>\n",
       "      <th>annual_inc_joint</th>\n",
       "      <th>dti_joint</th>\n",
       "      <th>verification_status_joint</th>\n",
       "      <th>acc_now_delinq</th>\n",
       "      <th>tot_coll_amt</th>\n",
       "      <th>tot_cur_bal</th>\n",
       "      <th>open_acc_6m</th>\n",
       "      <th>open_il_6m</th>\n",
       "      <th>open_il_12m</th>\n",
       "      <th>open_il_24m</th>\n",
       "      <th>mths_since_rcnt_il</th>\n",
       "      <th>total_bal_il</th>\n",
       "      <th>il_util</th>\n",
       "      <th>open_rv_12m</th>\n",
       "      <th>open_rv_24m</th>\n",
       "      <th>max_bal_bc</th>\n",
       "      <th>all_util</th>\n",
       "      <th>total_rev_hi_lim</th>\n",
       "      <th>inq_fi</th>\n",
       "      <th>total_cu_tl</th>\n",
       "      <th>inq_last_12m</th>\n",
       "      <th>acc_open_past_24mths</th>\n",
       "      <th>avg_cur_bal</th>\n",
       "      <th>bc_open_to_buy</th>\n",
       "      <th>bc_util</th>\n",
       "      <th>chargeoff_within_12_mths</th>\n",
       "      <th>delinq_amnt</th>\n",
       "      <th>mo_sin_old_il_acct</th>\n",
       "      <th>mo_sin_old_rev_tl_op</th>\n",
       "      <th>mo_sin_rcnt_rev_tl_op</th>\n",
       "      <th>mo_sin_rcnt_tl</th>\n",
       "      <th>mort_acc</th>\n",
       "      <th>mths_since_recent_bc</th>\n",
       "      <th>mths_since_recent_bc_dlq</th>\n",
       "      <th>mths_since_recent_inq</th>\n",
       "      <th>mths_since_recent_revol_delinq</th>\n",
       "      <th>num_accts_ever_120_pd</th>\n",
       "      <th>num_actv_bc_tl</th>\n",
       "      <th>num_actv_rev_tl</th>\n",
       "      <th>num_bc_sats</th>\n",
       "      <th>num_bc_tl</th>\n",
       "      <th>num_il_tl</th>\n",
       "      <th>num_op_rev_tl</th>\n",
       "      <th>num_rev_accts</th>\n",
       "      <th>num_rev_tl_bal_gt_0</th>\n",
       "      <th>num_sats</th>\n",
       "      <th>num_tl_120dpd_2m</th>\n",
       "      <th>num_tl_30dpd</th>\n",
       "      <th>num_tl_90g_dpd_24m</th>\n",
       "      <th>num_tl_op_past_12m</th>\n",
       "      <th>pct_tl_nvr_dlq</th>\n",
       "      <th>percent_bc_gt_75</th>\n",
       "      <th>pub_rec_bankruptcies</th>\n",
       "      <th>tax_liens</th>\n",
       "      <th>tot_hi_cred_lim</th>\n",
       "      <th>total_bal_ex_mort</th>\n",
       "      <th>total_bc_limit</th>\n",
       "      <th>total_il_high_credit_limit</th>\n",
       "    </tr>\n",
       "  </thead>\n",
       "  <tbody>\n",
       "  </tbody>\n",
       "</table>\n",
       "</div>"
      ],
      "text/plain": [
       "Empty DataFrame\n",
       "Columns: [id, member_id, loan_amnt, funded_amnt, funded_amnt_inv, term, int_rate, installment, grade, sub_grade, emp_title, emp_length, home_ownership, annual_inc, verification_status, issue_d, loan_status, pymnt_plan, url, desc, purpose, title, zip_code, addr_state, dti, delinq_2yrs, earliest_cr_line, inq_last_6mths, mths_since_last_delinq, mths_since_last_record, open_acc, pub_rec, revol_bal, revol_util, total_acc, initial_list_status, out_prncp, out_prncp_inv, total_pymnt, total_pymnt_inv, total_rec_prncp, total_rec_int, total_rec_late_fee, recoveries, collection_recovery_fee, last_pymnt_d, last_pymnt_amnt, next_pymnt_d, last_credit_pull_d, collections_12_mths_ex_med, mths_since_last_major_derog, policy_code, application_type, annual_inc_joint, dti_joint, verification_status_joint, acc_now_delinq, tot_coll_amt, tot_cur_bal, open_acc_6m, open_il_6m, open_il_12m, open_il_24m, mths_since_rcnt_il, total_bal_il, il_util, open_rv_12m, open_rv_24m, max_bal_bc, all_util, total_rev_hi_lim, inq_fi, total_cu_tl, inq_last_12m, acc_open_past_24mths, avg_cur_bal, bc_open_to_buy, bc_util, chargeoff_within_12_mths, delinq_amnt, mo_sin_old_il_acct, mo_sin_old_rev_tl_op, mo_sin_rcnt_rev_tl_op, mo_sin_rcnt_tl, mort_acc, mths_since_recent_bc, mths_since_recent_bc_dlq, mths_since_recent_inq, mths_since_recent_revol_delinq, num_accts_ever_120_pd, num_actv_bc_tl, num_actv_rev_tl, num_bc_sats, num_bc_tl, num_il_tl, num_op_rev_tl, num_rev_accts, num_rev_tl_bal_gt_0, num_sats, num_tl_120dpd_2m, ...]\n",
       "Index: []"
      ]
     },
     "execution_count": 8,
     "metadata": {},
     "output_type": "execute_result"
    }
   ],
   "source": [
    "print(loan_data.duplicated(subset=None, keep='first').count())\n",
    "duplicate=loan_data[loan_data.duplicated(['id'])]\n",
    "duplicate"
   ]
  },
  {
   "cell_type": "markdown",
   "id": "0b514d5d",
   "metadata": {},
   "source": [
    "**Inference**: No duplicate rows"
   ]
  },
  {
   "cell_type": "markdown",
   "id": "92e80ef2",
   "metadata": {},
   "source": [
    "###### Step 5: Check empty rows and columns"
   ]
  },
  {
   "cell_type": "code",
   "execution_count": 9,
   "id": "e4a6bbcf",
   "metadata": {},
   "outputs": [
    {
     "name": "stdout",
     "output_type": "stream",
     "text": [
      "Number of empty Rows:\n",
      "0\n",
      "Number of empty Columns:\n",
      "54\n"
     ]
    }
   ],
   "source": [
    "print('Number of empty Rows:')\n",
    "print(loan_data.isnull().all(axis=1).sum())\n",
    "\n",
    "\n",
    "print('Number of empty Columns:')\n",
    "print(loan_data.isnull().all(axis=0).sum())"
   ]
  },
  {
   "cell_type": "markdown",
   "id": "4f141de2",
   "metadata": {},
   "source": [
    "**Inference**: There are 54 columns have all missing values."
   ]
  },
  {
   "cell_type": "markdown",
   "id": "85f5b67a",
   "metadata": {},
   "source": [
    "###### Step 6: Find columns have all null values"
   ]
  },
  {
   "cell_type": "code",
   "execution_count": 10,
   "id": "911bf871",
   "metadata": {},
   "outputs": [
    {
     "data": {
      "text/plain": [
       "54"
      ]
     },
     "execution_count": 10,
     "metadata": {},
     "output_type": "execute_result"
    }
   ],
   "source": [
    "percent_missing = loan_data.isnull().sum() * 100 / len(loan_data)\n",
    "missing_value_df = pd.DataFrame({'column_name': loan_data.columns,\n",
    "                                 'percent_missing': percent_missing.round(2)})\n",
    "missing_value_df.sort_values('percent_missing', inplace=True)\n",
    "(missing_value_df['percent_missing'] == 100.00).sum()"
   ]
  },
  {
   "cell_type": "markdown",
   "id": "29ac5ed6",
   "metadata": {},
   "source": [
    "**Inference**: 54 columns have all NULL values"
   ]
  },
  {
   "cell_type": "code",
   "execution_count": 11,
   "id": "84649c1f",
   "metadata": {},
   "outputs": [
    {
     "data": {
      "text/plain": [
       "['mths_since_last_record',\n",
       " 'next_pymnt_d',\n",
       " 'num_bc_sats',\n",
       " 'mths_since_recent_bc',\n",
       " 'mths_since_recent_bc_dlq',\n",
       " 'mths_since_recent_inq',\n",
       " 'mths_since_recent_revol_delinq',\n",
       " 'num_accts_ever_120_pd',\n",
       " 'num_actv_bc_tl',\n",
       " 'num_actv_rev_tl',\n",
       " 'mort_acc',\n",
       " 'num_bc_tl',\n",
       " 'num_tl_op_past_12m',\n",
       " 'num_op_rev_tl',\n",
       " 'num_rev_accts',\n",
       " 'num_rev_tl_bal_gt_0',\n",
       " 'num_sats',\n",
       " 'num_tl_120dpd_2m',\n",
       " 'num_tl_30dpd',\n",
       " 'num_tl_90g_dpd_24m',\n",
       " 'pct_tl_nvr_dlq',\n",
       " 'percent_bc_gt_75',\n",
       " 'tot_hi_cred_lim',\n",
       " 'total_bal_ex_mort',\n",
       " 'mo_sin_rcnt_tl',\n",
       " 'num_il_tl',\n",
       " 'mo_sin_rcnt_rev_tl_op',\n",
       " 'verification_status_joint',\n",
       " 'mo_sin_old_il_acct',\n",
       " 'mths_since_last_major_derog',\n",
       " 'annual_inc_joint',\n",
       " 'dti_joint',\n",
       " 'total_bc_limit',\n",
       " 'tot_coll_amt',\n",
       " 'tot_cur_bal',\n",
       " 'open_acc_6m',\n",
       " 'open_il_6m',\n",
       " 'open_il_12m',\n",
       " 'open_il_24m',\n",
       " 'mths_since_rcnt_il',\n",
       " 'total_bal_il',\n",
       " 'il_util',\n",
       " 'open_rv_12m',\n",
       " 'open_rv_24m',\n",
       " 'max_bal_bc',\n",
       " 'all_util',\n",
       " 'total_rev_hi_lim',\n",
       " 'inq_fi',\n",
       " 'total_cu_tl',\n",
       " 'inq_last_12m',\n",
       " 'acc_open_past_24mths',\n",
       " 'avg_cur_bal',\n",
       " 'bc_open_to_buy',\n",
       " 'bc_util',\n",
       " 'mo_sin_old_rev_tl_op',\n",
       " 'total_il_high_credit_limit']"
      ]
     },
     "execution_count": 11,
     "metadata": {},
     "output_type": "execute_result"
    }
   ],
   "source": [
    "# List of columns having NULL values\n",
    "missing_values_columns = missing_value_df[(missing_value_df['percent_missing'] > 90)].column_name.tolist()\n",
    "missing_values_columns"
   ]
  },
  {
   "cell_type": "markdown",
   "id": "776516fa",
   "metadata": {},
   "source": [
    "###### Step 7: Dropping columns having all missing values"
   ]
  },
  {
   "cell_type": "code",
   "execution_count": 12,
   "id": "f686c8f4",
   "metadata": {},
   "outputs": [
    {
     "data": {
      "text/plain": [
       "(39717, 55)"
      ]
     },
     "execution_count": 12,
     "metadata": {},
     "output_type": "execute_result"
    }
   ],
   "source": [
    "# Dropping columns having all missing values\n",
    "loan_data = loan_data.drop(missing_values_columns, axis=1)\n",
    "loan_data.shape"
   ]
  },
  {
   "cell_type": "markdown",
   "id": "015f608c",
   "metadata": {},
   "source": [
    "###### Step 8: Find columns with null values again"
   ]
  },
  {
   "cell_type": "code",
   "execution_count": 13,
   "id": "2f1d6635",
   "metadata": {},
   "outputs": [
    {
     "data": {
      "text/plain": [
       "mths_since_last_delinq       64.66\n",
       "desc                         32.58\n",
       "emp_title                     6.19\n",
       "emp_length                    2.71\n",
       "pub_rec_bankruptcies          1.75\n",
       "last_pymnt_d                  0.18\n",
       "chargeoff_within_12_mths      0.14\n",
       "collections_12_mths_ex_med    0.14\n",
       "revol_util                    0.13\n",
       "tax_liens                     0.10\n",
       "title                         0.03\n",
       "last_credit_pull_d            0.01\n",
       "out_prncp                     0.00\n",
       "initial_list_status           0.00\n",
       "out_prncp_inv                 0.00\n",
       "total_pymnt                   0.00\n",
       "total_acc                     0.00\n",
       "total_pymnt_inv               0.00\n",
       "recoveries                    0.00\n",
       "total_rec_prncp               0.00\n",
       "total_rec_int                 0.00\n",
       "total_rec_late_fee            0.00\n",
       "pub_rec                       0.00\n",
       "collection_recovery_fee       0.00\n",
       "last_pymnt_amnt               0.00\n",
       "policy_code                   0.00\n",
       "application_type              0.00\n",
       "acc_now_delinq                0.00\n",
       "delinq_amnt                   0.00\n",
       "revol_bal                     0.00\n",
       "id                            0.00\n",
       "open_acc                      0.00\n",
       "member_id                     0.00\n",
       "loan_amnt                     0.00\n",
       "funded_amnt                   0.00\n",
       "funded_amnt_inv               0.00\n",
       "term                          0.00\n",
       "int_rate                      0.00\n",
       "installment                   0.00\n",
       "grade                         0.00\n",
       "sub_grade                     0.00\n",
       "home_ownership                0.00\n",
       "annual_inc                    0.00\n",
       "verification_status           0.00\n",
       "issue_d                       0.00\n",
       "loan_status                   0.00\n",
       "pymnt_plan                    0.00\n",
       "url                           0.00\n",
       "purpose                       0.00\n",
       "zip_code                      0.00\n",
       "addr_state                    0.00\n",
       "dti                           0.00\n",
       "delinq_2yrs                   0.00\n",
       "earliest_cr_line              0.00\n",
       "inq_last_6mths                0.00\n",
       "dtype: float64"
      ]
     },
     "execution_count": 13,
     "metadata": {},
     "output_type": "execute_result"
    }
   ],
   "source": [
    "100*(loan_data.isnull().sum()/len(loan_data.index)).sort_values(ascending=False)"
   ]
  },
  {
   "cell_type": "markdown",
   "id": "c92b038a",
   "metadata": {},
   "source": [
    "**Inference**: mths_since_last_delinq and desc columns have 64.66% and 32.58% null values"
   ]
  },
  {
   "cell_type": "markdown",
   "id": "78d3708f",
   "metadata": {},
   "source": [
    "###### Step 9: Drop mths_since_last_delinq and desc columns"
   ]
  },
  {
   "cell_type": "code",
   "execution_count": 14,
   "id": "c44f6ea4",
   "metadata": {},
   "outputs": [
    {
     "data": {
      "text/plain": [
       "(39717, 53)"
      ]
     },
     "execution_count": 14,
     "metadata": {},
     "output_type": "execute_result"
    }
   ],
   "source": [
    "loan_data = loan_data.drop(['desc', 'mths_since_last_delinq'], axis=1)\n",
    "loan_data.shape"
   ]
  },
  {
   "cell_type": "markdown",
   "id": "26e302f9",
   "metadata": {},
   "source": [
    "###### Step 10: Find and drop columns with all zero values"
   ]
  },
  {
   "cell_type": "code",
   "execution_count": 15,
   "id": "1602e765",
   "metadata": {},
   "outputs": [
    {
     "name": "stdout",
     "output_type": "stream",
     "text": [
      "acc_now_delinq\n",
      "delinq_amnt\n"
     ]
    }
   ],
   "source": [
    "for column in loan_data.columns:\n",
    "    if (loan_data[column]==0).all() :\n",
    "        print(column) "
   ]
  },
  {
   "cell_type": "code",
   "execution_count": 16,
   "id": "7c02aef1",
   "metadata": {},
   "outputs": [
    {
     "data": {
      "text/plain": [
       "(39717, 51)"
      ]
     },
     "execution_count": 16,
     "metadata": {},
     "output_type": "execute_result"
    }
   ],
   "source": [
    "loan_data=loan_data.drop(['acc_now_delinq', 'delinq_amnt'], axis=1)\n",
    "loan_data.shape"
   ]
  },
  {
   "cell_type": "markdown",
   "id": "02c45b04",
   "metadata": {},
   "source": [
    "###### Step 11: Find and drop columns with all NA and zeros only"
   ]
  },
  {
   "cell_type": "code",
   "execution_count": 17,
   "id": "12347823",
   "metadata": {},
   "outputs": [
    {
     "data": {
      "text/html": [
       "<div>\n",
       "<style scoped>\n",
       "    .dataframe tbody tr th:only-of-type {\n",
       "        vertical-align: middle;\n",
       "    }\n",
       "\n",
       "    .dataframe tbody tr th {\n",
       "        vertical-align: top;\n",
       "    }\n",
       "\n",
       "    .dataframe thead th {\n",
       "        text-align: right;\n",
       "    }\n",
       "</style>\n",
       "<table border=\"1\" class=\"dataframe\">\n",
       "  <thead>\n",
       "    <tr style=\"text-align: right;\">\n",
       "      <th></th>\n",
       "      <th>tax_liens</th>\n",
       "      <th>chargeoff_within_12_mths</th>\n",
       "      <th>collections_12_mths_ex_med</th>\n",
       "      <th>total_rec_prncp</th>\n",
       "      <th>pub_rec</th>\n",
       "      <th>revol_bal</th>\n",
       "      <th>revol_util</th>\n",
       "      <th>total_acc</th>\n",
       "      <th>initial_list_status</th>\n",
       "      <th>out_prncp</th>\n",
       "      <th>out_prncp_inv</th>\n",
       "      <th>total_pymnt</th>\n",
       "      <th>total_pymnt_inv</th>\n",
       "      <th>total_rec_late_fee</th>\n",
       "      <th>total_rec_int</th>\n",
       "      <th>inq_last_6mths</th>\n",
       "      <th>recoveries</th>\n",
       "      <th>collection_recovery_fee</th>\n",
       "      <th>last_pymnt_d</th>\n",
       "      <th>last_pymnt_amnt</th>\n",
       "      <th>last_credit_pull_d</th>\n",
       "      <th>policy_code</th>\n",
       "      <th>application_type</th>\n",
       "      <th>pub_rec_bankruptcies</th>\n",
       "      <th>open_acc</th>\n",
       "      <th>id</th>\n",
       "      <th>member_id</th>\n",
       "      <th>home_ownership</th>\n",
       "      <th>loan_amnt</th>\n",
       "      <th>funded_amnt</th>\n",
       "      <th>funded_amnt_inv</th>\n",
       "      <th>term</th>\n",
       "      <th>int_rate</th>\n",
       "      <th>installment</th>\n",
       "      <th>grade</th>\n",
       "      <th>sub_grade</th>\n",
       "      <th>emp_title</th>\n",
       "      <th>emp_length</th>\n",
       "      <th>annual_inc</th>\n",
       "      <th>delinq_2yrs</th>\n",
       "      <th>verification_status</th>\n",
       "      <th>issue_d</th>\n",
       "      <th>loan_status</th>\n",
       "      <th>pymnt_plan</th>\n",
       "      <th>url</th>\n",
       "      <th>purpose</th>\n",
       "      <th>title</th>\n",
       "      <th>zip_code</th>\n",
       "      <th>addr_state</th>\n",
       "      <th>dti</th>\n",
       "      <th>earliest_cr_line</th>\n",
       "    </tr>\n",
       "  </thead>\n",
       "  <tbody>\n",
       "    <tr>\n",
       "      <th>Zero</th>\n",
       "      <td>39678</td>\n",
       "      <td>39661</td>\n",
       "      <td>39661</td>\n",
       "      <td>74</td>\n",
       "      <td>37601</td>\n",
       "      <td>994</td>\n",
       "      <td>0</td>\n",
       "      <td>0</td>\n",
       "      <td>0</td>\n",
       "      <td>38577</td>\n",
       "      <td>38577</td>\n",
       "      <td>16</td>\n",
       "      <td>165</td>\n",
       "      <td>37671</td>\n",
       "      <td>71</td>\n",
       "      <td>19300</td>\n",
       "      <td>35499</td>\n",
       "      <td>35935</td>\n",
       "      <td>0</td>\n",
       "      <td>74</td>\n",
       "      <td>0</td>\n",
       "      <td>0</td>\n",
       "      <td>0</td>\n",
       "      <td>37339</td>\n",
       "      <td>0</td>\n",
       "      <td>0</td>\n",
       "      <td>0</td>\n",
       "      <td>0</td>\n",
       "      <td>0</td>\n",
       "      <td>0</td>\n",
       "      <td>129</td>\n",
       "      <td>0</td>\n",
       "      <td>0</td>\n",
       "      <td>0</td>\n",
       "      <td>0</td>\n",
       "      <td>0</td>\n",
       "      <td>0</td>\n",
       "      <td>0</td>\n",
       "      <td>0</td>\n",
       "      <td>35405</td>\n",
       "      <td>0</td>\n",
       "      <td>0</td>\n",
       "      <td>0</td>\n",
       "      <td>0</td>\n",
       "      <td>0</td>\n",
       "      <td>0</td>\n",
       "      <td>0</td>\n",
       "      <td>0</td>\n",
       "      <td>0</td>\n",
       "      <td>183</td>\n",
       "      <td>0</td>\n",
       "    </tr>\n",
       "    <tr>\n",
       "      <th>NA</th>\n",
       "      <td>39</td>\n",
       "      <td>56</td>\n",
       "      <td>56</td>\n",
       "      <td>0</td>\n",
       "      <td>0</td>\n",
       "      <td>0</td>\n",
       "      <td>50</td>\n",
       "      <td>0</td>\n",
       "      <td>0</td>\n",
       "      <td>0</td>\n",
       "      <td>0</td>\n",
       "      <td>0</td>\n",
       "      <td>0</td>\n",
       "      <td>0</td>\n",
       "      <td>0</td>\n",
       "      <td>0</td>\n",
       "      <td>0</td>\n",
       "      <td>0</td>\n",
       "      <td>71</td>\n",
       "      <td>0</td>\n",
       "      <td>2</td>\n",
       "      <td>0</td>\n",
       "      <td>0</td>\n",
       "      <td>697</td>\n",
       "      <td>0</td>\n",
       "      <td>0</td>\n",
       "      <td>0</td>\n",
       "      <td>0</td>\n",
       "      <td>0</td>\n",
       "      <td>0</td>\n",
       "      <td>0</td>\n",
       "      <td>0</td>\n",
       "      <td>0</td>\n",
       "      <td>0</td>\n",
       "      <td>0</td>\n",
       "      <td>0</td>\n",
       "      <td>2459</td>\n",
       "      <td>1075</td>\n",
       "      <td>0</td>\n",
       "      <td>0</td>\n",
       "      <td>0</td>\n",
       "      <td>0</td>\n",
       "      <td>0</td>\n",
       "      <td>0</td>\n",
       "      <td>0</td>\n",
       "      <td>0</td>\n",
       "      <td>11</td>\n",
       "      <td>0</td>\n",
       "      <td>0</td>\n",
       "      <td>0</td>\n",
       "      <td>0</td>\n",
       "    </tr>\n",
       "    <tr>\n",
       "      <th>Is Equal</th>\n",
       "      <td>True</td>\n",
       "      <td>True</td>\n",
       "      <td>True</td>\n",
       "      <td>False</td>\n",
       "      <td>False</td>\n",
       "      <td>False</td>\n",
       "      <td>False</td>\n",
       "      <td>False</td>\n",
       "      <td>False</td>\n",
       "      <td>False</td>\n",
       "      <td>False</td>\n",
       "      <td>False</td>\n",
       "      <td>False</td>\n",
       "      <td>False</td>\n",
       "      <td>False</td>\n",
       "      <td>False</td>\n",
       "      <td>False</td>\n",
       "      <td>False</td>\n",
       "      <td>False</td>\n",
       "      <td>False</td>\n",
       "      <td>False</td>\n",
       "      <td>False</td>\n",
       "      <td>False</td>\n",
       "      <td>False</td>\n",
       "      <td>False</td>\n",
       "      <td>False</td>\n",
       "      <td>False</td>\n",
       "      <td>False</td>\n",
       "      <td>False</td>\n",
       "      <td>False</td>\n",
       "      <td>False</td>\n",
       "      <td>False</td>\n",
       "      <td>False</td>\n",
       "      <td>False</td>\n",
       "      <td>False</td>\n",
       "      <td>False</td>\n",
       "      <td>False</td>\n",
       "      <td>False</td>\n",
       "      <td>False</td>\n",
       "      <td>False</td>\n",
       "      <td>False</td>\n",
       "      <td>False</td>\n",
       "      <td>False</td>\n",
       "      <td>False</td>\n",
       "      <td>False</td>\n",
       "      <td>False</td>\n",
       "      <td>False</td>\n",
       "      <td>False</td>\n",
       "      <td>False</td>\n",
       "      <td>False</td>\n",
       "      <td>False</td>\n",
       "    </tr>\n",
       "  </tbody>\n",
       "</table>\n",
       "</div>"
      ],
      "text/plain": [
       "         tax_liens chargeoff_within_12_mths collections_12_mths_ex_med  \\\n",
       "Zero         39678                    39661                      39661   \n",
       "NA              39                       56                         56   \n",
       "Is Equal      True                     True                       True   \n",
       "\n",
       "         total_rec_prncp pub_rec revol_bal revol_util total_acc  \\\n",
       "Zero                  74   37601       994          0         0   \n",
       "NA                     0       0         0         50         0   \n",
       "Is Equal           False   False     False      False     False   \n",
       "\n",
       "         initial_list_status out_prncp out_prncp_inv total_pymnt  \\\n",
       "Zero                       0     38577         38577          16   \n",
       "NA                         0         0             0           0   \n",
       "Is Equal               False     False         False       False   \n",
       "\n",
       "         total_pymnt_inv total_rec_late_fee total_rec_int inq_last_6mths  \\\n",
       "Zero                 165              37671            71          19300   \n",
       "NA                     0                  0             0              0   \n",
       "Is Equal           False              False         False          False   \n",
       "\n",
       "         recoveries collection_recovery_fee last_pymnt_d last_pymnt_amnt  \\\n",
       "Zero          35499                   35935            0              74   \n",
       "NA                0                       0           71               0   \n",
       "Is Equal      False                   False        False           False   \n",
       "\n",
       "         last_credit_pull_d policy_code application_type pub_rec_bankruptcies  \\\n",
       "Zero                      0           0                0                37339   \n",
       "NA                        2           0                0                  697   \n",
       "Is Equal              False       False            False                False   \n",
       "\n",
       "         open_acc     id member_id home_ownership loan_amnt funded_amnt  \\\n",
       "Zero            0      0         0              0         0           0   \n",
       "NA              0      0         0              0         0           0   \n",
       "Is Equal    False  False     False          False     False       False   \n",
       "\n",
       "         funded_amnt_inv   term int_rate installment  grade sub_grade  \\\n",
       "Zero                 129      0        0           0      0         0   \n",
       "NA                     0      0        0           0      0         0   \n",
       "Is Equal           False  False    False       False  False     False   \n",
       "\n",
       "         emp_title emp_length annual_inc delinq_2yrs verification_status  \\\n",
       "Zero             0          0          0       35405                   0   \n",
       "NA            2459       1075          0           0                   0   \n",
       "Is Equal     False      False      False       False               False   \n",
       "\n",
       "         issue_d loan_status pymnt_plan    url purpose  title zip_code  \\\n",
       "Zero           0           0          0      0       0      0        0   \n",
       "NA             0           0          0      0       0     11        0   \n",
       "Is Equal   False       False      False  False   False  False    False   \n",
       "\n",
       "         addr_state    dti earliest_cr_line  \n",
       "Zero              0    183                0  \n",
       "NA                0      0                0  \n",
       "Is Equal      False  False            False  "
      ]
     },
     "execution_count": 17,
     "metadata": {},
     "output_type": "execute_result"
    }
   ],
   "source": [
    "#find columns which contains zeors and na\n",
    "total_na = loan_data.isna().sum()\n",
    "total_zeros = loan_data.isin([0]).sum(axis=0)\n",
    "\n",
    "#Check total no. na's and zeros is equal to total number of rows\n",
    "Check = loan_data.shape[0] == total_na+total_zeros\n",
    "\n",
    "column = pd. concat([total_zeros,total_na,Check],axis=1)\n",
    "column.rename(columns={0:'Zero',1:'NA',2:'Is Equal'},inplace=True)\n",
    "column.sort_values(by='Is Equal', ascending=False).T"
   ]
  },
  {
   "cell_type": "markdown",
   "id": "6c6f65bd",
   "metadata": {},
   "source": [
    "Obervation: collections_12_mths_ex_med, chargeoff_within_12_mths, tax_liens contains zeros and na's"
   ]
  },
  {
   "cell_type": "code",
   "execution_count": 18,
   "id": "95919d48",
   "metadata": {},
   "outputs": [
    {
     "data": {
      "text/plain": [
       "(39717, 48)"
      ]
     },
     "execution_count": 18,
     "metadata": {},
     "output_type": "execute_result"
    }
   ],
   "source": [
    "loan_data=loan_data.drop(['collections_12_mths_ex_med', 'chargeoff_within_12_mths', 'tax_liens'], axis=1)\n",
    "loan_data.shape"
   ]
  },
  {
   "cell_type": "markdown",
   "id": "c3108075",
   "metadata": {},
   "source": [
    "###### Step 12: Find and drop  the columns which have one value for all rows."
   ]
  },
  {
   "cell_type": "code",
   "execution_count": 19,
   "id": "2c8ed500",
   "metadata": {},
   "outputs": [
    {
     "data": {
      "text/html": [
       "<div>\n",
       "<style scoped>\n",
       "    .dataframe tbody tr th:only-of-type {\n",
       "        vertical-align: middle;\n",
       "    }\n",
       "\n",
       "    .dataframe tbody tr th {\n",
       "        vertical-align: top;\n",
       "    }\n",
       "\n",
       "    .dataframe thead th {\n",
       "        text-align: right;\n",
       "    }\n",
       "</style>\n",
       "<table border=\"1\" class=\"dataframe\">\n",
       "  <thead>\n",
       "    <tr style=\"text-align: right;\">\n",
       "      <th></th>\n",
       "      <th>17</th>\n",
       "      <th>45</th>\n",
       "      <th>32</th>\n",
       "      <th>46</th>\n",
       "      <th>5</th>\n",
       "      <th>14</th>\n",
       "      <th>16</th>\n",
       "      <th>47</th>\n",
       "      <th>12</th>\n",
       "      <th>28</th>\n",
       "      <th>8</th>\n",
       "      <th>26</th>\n",
       "      <th>24</th>\n",
       "      <th>11</th>\n",
       "      <th>19</th>\n",
       "      <th>9</th>\n",
       "      <th>27</th>\n",
       "      <th>22</th>\n",
       "      <th>15</th>\n",
       "      <th>31</th>\n",
       "      <th>42</th>\n",
       "      <th>44</th>\n",
       "      <th>6</th>\n",
       "      <th>25</th>\n",
       "      <th>21</th>\n",
       "      <th>2</th>\n",
       "      <th>3</th>\n",
       "      <th>30</th>\n",
       "      <th>33</th>\n",
       "      <th>34</th>\n",
       "      <th>39</th>\n",
       "      <th>41</th>\n",
       "      <th>23</th>\n",
       "      <th>40</th>\n",
       "      <th>13</th>\n",
       "      <th>37</th>\n",
       "      <th>4</th>\n",
       "      <th>7</th>\n",
       "      <th>20</th>\n",
       "      <th>29</th>\n",
       "      <th>10</th>\n",
       "      <th>43</th>\n",
       "      <th>38</th>\n",
       "      <th>36</th>\n",
       "      <th>35</th>\n",
       "      <th>18</th>\n",
       "      <th>1</th>\n",
       "      <th>0</th>\n",
       "    </tr>\n",
       "  </thead>\n",
       "  <tbody>\n",
       "    <tr>\n",
       "      <th>column</th>\n",
       "      <td>pymnt_plan</td>\n",
       "      <td>policy_code</td>\n",
       "      <td>initial_list_status</td>\n",
       "      <td>application_type</td>\n",
       "      <td>term</td>\n",
       "      <td>verification_status</td>\n",
       "      <td>loan_status</td>\n",
       "      <td>pub_rec_bankruptcies</td>\n",
       "      <td>home_ownership</td>\n",
       "      <td>pub_rec</td>\n",
       "      <td>grade</td>\n",
       "      <td>inq_last_6mths</td>\n",
       "      <td>delinq_2yrs</td>\n",
       "      <td>emp_length</td>\n",
       "      <td>purpose</td>\n",
       "      <td>sub_grade</td>\n",
       "      <td>open_acc</td>\n",
       "      <td>addr_state</td>\n",
       "      <td>issue_d</td>\n",
       "      <td>total_acc</td>\n",
       "      <td>last_pymnt_d</td>\n",
       "      <td>last_credit_pull_d</td>\n",
       "      <td>int_rate</td>\n",
       "      <td>earliest_cr_line</td>\n",
       "      <td>zip_code</td>\n",
       "      <td>loan_amnt</td>\n",
       "      <td>funded_amnt</td>\n",
       "      <td>revol_util</td>\n",
       "      <td>out_prncp</td>\n",
       "      <td>out_prncp_inv</td>\n",
       "      <td>total_rec_late_fee</td>\n",
       "      <td>collection_recovery_fee</td>\n",
       "      <td>dti</td>\n",
       "      <td>recoveries</td>\n",
       "      <td>annual_inc</td>\n",
       "      <td>total_rec_prncp</td>\n",
       "      <td>funded_amnt_inv</td>\n",
       "      <td>installment</td>\n",
       "      <td>title</td>\n",
       "      <td>revol_bal</td>\n",
       "      <td>emp_title</td>\n",
       "      <td>last_pymnt_amnt</td>\n",
       "      <td>total_rec_int</td>\n",
       "      <td>total_pymnt_inv</td>\n",
       "      <td>total_pymnt</td>\n",
       "      <td>url</td>\n",
       "      <td>member_id</td>\n",
       "      <td>id</td>\n",
       "    </tr>\n",
       "    <tr>\n",
       "      <th>count</th>\n",
       "      <td>1</td>\n",
       "      <td>1</td>\n",
       "      <td>1</td>\n",
       "      <td>1</td>\n",
       "      <td>2</td>\n",
       "      <td>3</td>\n",
       "      <td>3</td>\n",
       "      <td>4</td>\n",
       "      <td>5</td>\n",
       "      <td>5</td>\n",
       "      <td>7</td>\n",
       "      <td>9</td>\n",
       "      <td>11</td>\n",
       "      <td>12</td>\n",
       "      <td>14</td>\n",
       "      <td>35</td>\n",
       "      <td>40</td>\n",
       "      <td>50</td>\n",
       "      <td>55</td>\n",
       "      <td>82</td>\n",
       "      <td>102</td>\n",
       "      <td>107</td>\n",
       "      <td>371</td>\n",
       "      <td>526</td>\n",
       "      <td>823</td>\n",
       "      <td>885</td>\n",
       "      <td>1041</td>\n",
       "      <td>1090</td>\n",
       "      <td>1137</td>\n",
       "      <td>1138</td>\n",
       "      <td>1356</td>\n",
       "      <td>2616</td>\n",
       "      <td>2868</td>\n",
       "      <td>4040</td>\n",
       "      <td>5318</td>\n",
       "      <td>7976</td>\n",
       "      <td>8205</td>\n",
       "      <td>15383</td>\n",
       "      <td>19616</td>\n",
       "      <td>21711</td>\n",
       "      <td>28821</td>\n",
       "      <td>34930</td>\n",
       "      <td>35148</td>\n",
       "      <td>37518</td>\n",
       "      <td>37850</td>\n",
       "      <td>39717</td>\n",
       "      <td>39717</td>\n",
       "      <td>39717</td>\n",
       "    </tr>\n",
       "  </tbody>\n",
       "</table>\n",
       "</div>"
      ],
      "text/plain": [
       "                17           45                   32                46    5   \\\n",
       "column  pymnt_plan  policy_code  initial_list_status  application_type  term   \n",
       "count            1            1                    1                 1     2   \n",
       "\n",
       "                         14           16                    47  \\\n",
       "column  verification_status  loan_status  pub_rec_bankruptcies   \n",
       "count                     3            3                     4   \n",
       "\n",
       "                    12       28     8               26           24  \\\n",
       "column  home_ownership  pub_rec  grade  inq_last_6mths  delinq_2yrs   \n",
       "count                5        5      7               9           11   \n",
       "\n",
       "                11       19         9         27          22       15  \\\n",
       "column  emp_length  purpose  sub_grade  open_acc  addr_state  issue_d   \n",
       "count           12       14         35        40          50       55   \n",
       "\n",
       "               31            42                  44        6   \\\n",
       "column  total_acc  last_pymnt_d  last_credit_pull_d  int_rate   \n",
       "count          82           102                 107       371   \n",
       "\n",
       "                      25        21         2            3           30  \\\n",
       "column  earliest_cr_line  zip_code  loan_amnt  funded_amnt  revol_util   \n",
       "count                526       823        885         1041        1090   \n",
       "\n",
       "               33             34                  39                       41  \\\n",
       "column  out_prncp  out_prncp_inv  total_rec_late_fee  collection_recovery_fee   \n",
       "count        1137           1138                1356                     2616   \n",
       "\n",
       "          23          40          13               37               4   \\\n",
       "column   dti  recoveries  annual_inc  total_rec_prncp  funded_amnt_inv   \n",
       "count   2868        4040        5318             7976             8205   \n",
       "\n",
       "                 7      20         29         10               43  \\\n",
       "column  installment  title  revol_bal  emp_title  last_pymnt_amnt   \n",
       "count         15383  19616      21711      28821            34930   \n",
       "\n",
       "                   38               36           35     18         1      0   \n",
       "column  total_rec_int  total_pymnt_inv  total_pymnt    url  member_id     id  \n",
       "count           35148            37518        37850  39717      39717  39717  "
      ]
     },
     "execution_count": 19,
     "metadata": {},
     "output_type": "execute_result"
    }
   ],
   "source": [
    "unique_data=[]\n",
    "for row in loan_data.columns.tolist():\n",
    "    unique_data.append({'column': row, 'count': len(loan_data[row].unique())})\n",
    "\n",
    "unique = pd.DataFrame(unique_data).sort_values('count')\n",
    "unique.T"
   ]
  },
  {
   "cell_type": "markdown",
   "id": "5d273ea5",
   "metadata": {},
   "source": [
    "**Inference**: Columns pymnt_plan, policy_code, initial_list_status, application_type have one value."
   ]
  },
  {
   "cell_type": "code",
   "execution_count": 20,
   "id": "e2dc545b",
   "metadata": {},
   "outputs": [
    {
     "data": {
      "text/plain": [
       "(39717, 44)"
      ]
     },
     "execution_count": 20,
     "metadata": {},
     "output_type": "execute_result"
    }
   ],
   "source": [
    "loan_data=loan_data.drop(['pymnt_plan', 'policy_code', 'initial_list_status','application_type'], axis=1)\n",
    "loan_data.shape"
   ]
  },
  {
   "cell_type": "markdown",
   "id": "7d284eea",
   "metadata": {},
   "source": [
    "###### Step 13: Find the column with incorrect datatype"
   ]
  },
  {
   "cell_type": "code",
   "execution_count": 21,
   "id": "647216a4",
   "metadata": {},
   "outputs": [
    {
     "name": "stdout",
     "output_type": "stream",
     "text": [
      "<class 'pandas.core.frame.DataFrame'>\n",
      "RangeIndex: 39717 entries, 0 to 39716\n",
      "Data columns (total 44 columns):\n",
      " #   Column                   Non-Null Count  Dtype  \n",
      "---  ------                   --------------  -----  \n",
      " 0   id                       39717 non-null  int64  \n",
      " 1   member_id                39717 non-null  int64  \n",
      " 2   loan_amnt                39717 non-null  int64  \n",
      " 3   funded_amnt              39717 non-null  int64  \n",
      " 4   funded_amnt_inv          39717 non-null  float64\n",
      " 5   term                     39717 non-null  object \n",
      " 6   int_rate                 39717 non-null  object \n",
      " 7   installment              39717 non-null  float64\n",
      " 8   grade                    39717 non-null  object \n",
      " 9   sub_grade                39717 non-null  object \n",
      " 10  emp_title                37258 non-null  object \n",
      " 11  emp_length               38642 non-null  object \n",
      " 12  home_ownership           39717 non-null  object \n",
      " 13  annual_inc               39717 non-null  float64\n",
      " 14  verification_status      39717 non-null  object \n",
      " 15  issue_d                  39717 non-null  object \n",
      " 16  loan_status              39717 non-null  object \n",
      " 17  url                      39717 non-null  object \n",
      " 18  purpose                  39717 non-null  object \n",
      " 19  title                    39706 non-null  object \n",
      " 20  zip_code                 39717 non-null  object \n",
      " 21  addr_state               39717 non-null  object \n",
      " 22  dti                      39717 non-null  float64\n",
      " 23  delinq_2yrs              39717 non-null  int64  \n",
      " 24  earliest_cr_line         39717 non-null  object \n",
      " 25  inq_last_6mths           39717 non-null  int64  \n",
      " 26  open_acc                 39717 non-null  int64  \n",
      " 27  pub_rec                  39717 non-null  int64  \n",
      " 28  revol_bal                39717 non-null  int64  \n",
      " 29  revol_util               39667 non-null  object \n",
      " 30  total_acc                39717 non-null  int64  \n",
      " 31  out_prncp                39717 non-null  float64\n",
      " 32  out_prncp_inv            39717 non-null  float64\n",
      " 33  total_pymnt              39717 non-null  float64\n",
      " 34  total_pymnt_inv          39717 non-null  float64\n",
      " 35  total_rec_prncp          39717 non-null  float64\n",
      " 36  total_rec_int            39717 non-null  float64\n",
      " 37  total_rec_late_fee       39717 non-null  float64\n",
      " 38  recoveries               39717 non-null  float64\n",
      " 39  collection_recovery_fee  39717 non-null  float64\n",
      " 40  last_pymnt_d             39646 non-null  object \n",
      " 41  last_pymnt_amnt          39717 non-null  float64\n",
      " 42  last_credit_pull_d       39715 non-null  object \n",
      " 43  pub_rec_bankruptcies     39020 non-null  float64\n",
      "dtypes: float64(15), int64(10), object(19)\n",
      "memory usage: 13.3+ MB\n"
     ]
    }
   ],
   "source": [
    "loan_data.info()"
   ]
  },
  {
   "cell_type": "markdown",
   "id": "7f96416e",
   "metadata": {},
   "source": [
    "**Inference**: term, int_rate, emp_length, revol_util, issue_d have object data type are object"
   ]
  },
  {
   "cell_type": "markdown",
   "id": "a9e09017",
   "metadata": {},
   "source": [
    "###### Step 14: Convert term, int_rate columns into int and float"
   ]
  },
  {
   "cell_type": "code",
   "execution_count": 22,
   "id": "76c12d15",
   "metadata": {},
   "outputs": [
    {
     "data": {
      "text/plain": [
       "dtype('int64')"
      ]
     },
     "execution_count": 22,
     "metadata": {},
     "output_type": "execute_result"
    }
   ],
   "source": [
    "loan_data['term'] = loan_data['term'].apply(lambda x: pd.to_numeric(x.split(\" months\")[0]))\n",
    "loan_data.dtypes['term']"
   ]
  },
  {
   "cell_type": "code",
   "execution_count": 23,
   "id": "51a19d52",
   "metadata": {},
   "outputs": [
    {
     "data": {
      "text/plain": [
       "dtype('float64')"
      ]
     },
     "execution_count": 23,
     "metadata": {},
     "output_type": "execute_result"
    }
   ],
   "source": [
    "loan_data['int_rate'] = loan_data['int_rate'].apply(lambda x: pd.to_numeric(x.split(\"%\")[0]))\n",
    "loan_data.dtypes['int_rate']"
   ]
  },
  {
   "cell_type": "markdown",
   "id": "502b28ae",
   "metadata": {},
   "source": [
    "###### Step 15: Standardise emp_length column be removing the extra text \"years\" and assigning appropriate values as mention in data dictionary.\n",
    "\"Employment length in years. Possible values are between 0 and 10 where 0 means less than one year and 10 means ten or more years.\"\n"
   ]
  },
  {
   "cell_type": "code",
   "execution_count": 24,
   "id": "1b8137ee",
   "metadata": {},
   "outputs": [
    {
     "name": "stderr",
     "output_type": "stream",
     "text": [
      "C:\\Users\\Prachi\\AppData\\Local\\Temp\\ipykernel_24076\\2294395549.py:5: SettingWithCopyWarning: \n",
      "A value is trying to be set on a copy of a slice from a DataFrame\n",
      "\n",
      "See the caveats in the documentation: https://pandas.pydata.org/pandas-docs/stable/user_guide/indexing.html#returning-a-view-versus-a-copy\n",
      "  loan_data['emp_length'][loan_data['emp_length'] == '< 1'] = '0'\n"
     ]
    },
    {
     "data": {
      "text/html": [
       "<div>\n",
       "<style scoped>\n",
       "    .dataframe tbody tr th:only-of-type {\n",
       "        vertical-align: middle;\n",
       "    }\n",
       "\n",
       "    .dataframe tbody tr th {\n",
       "        vertical-align: top;\n",
       "    }\n",
       "\n",
       "    .dataframe thead th {\n",
       "        text-align: right;\n",
       "    }\n",
       "</style>\n",
       "<table border=\"1\" class=\"dataframe\">\n",
       "  <thead>\n",
       "    <tr style=\"text-align: right;\">\n",
       "      <th></th>\n",
       "      <th>id</th>\n",
       "      <th>member_id</th>\n",
       "      <th>loan_amnt</th>\n",
       "      <th>funded_amnt</th>\n",
       "      <th>funded_amnt_inv</th>\n",
       "      <th>term</th>\n",
       "      <th>int_rate</th>\n",
       "      <th>installment</th>\n",
       "      <th>grade</th>\n",
       "      <th>sub_grade</th>\n",
       "      <th>emp_title</th>\n",
       "      <th>emp_length</th>\n",
       "      <th>home_ownership</th>\n",
       "      <th>annual_inc</th>\n",
       "      <th>verification_status</th>\n",
       "      <th>issue_d</th>\n",
       "      <th>loan_status</th>\n",
       "      <th>url</th>\n",
       "      <th>purpose</th>\n",
       "      <th>title</th>\n",
       "      <th>zip_code</th>\n",
       "      <th>addr_state</th>\n",
       "      <th>dti</th>\n",
       "      <th>delinq_2yrs</th>\n",
       "      <th>earliest_cr_line</th>\n",
       "      <th>inq_last_6mths</th>\n",
       "      <th>open_acc</th>\n",
       "      <th>pub_rec</th>\n",
       "      <th>revol_bal</th>\n",
       "      <th>revol_util</th>\n",
       "      <th>total_acc</th>\n",
       "      <th>out_prncp</th>\n",
       "      <th>out_prncp_inv</th>\n",
       "      <th>total_pymnt</th>\n",
       "      <th>total_pymnt_inv</th>\n",
       "      <th>total_rec_prncp</th>\n",
       "      <th>total_rec_int</th>\n",
       "      <th>total_rec_late_fee</th>\n",
       "      <th>recoveries</th>\n",
       "      <th>collection_recovery_fee</th>\n",
       "      <th>last_pymnt_d</th>\n",
       "      <th>last_pymnt_amnt</th>\n",
       "      <th>last_credit_pull_d</th>\n",
       "      <th>pub_rec_bankruptcies</th>\n",
       "    </tr>\n",
       "  </thead>\n",
       "  <tbody>\n",
       "    <tr>\n",
       "      <th>0</th>\n",
       "      <td>1077501</td>\n",
       "      <td>1296599</td>\n",
       "      <td>5000</td>\n",
       "      <td>5000</td>\n",
       "      <td>4,975.00</td>\n",
       "      <td>36</td>\n",
       "      <td>10.65</td>\n",
       "      <td>162.87</td>\n",
       "      <td>B</td>\n",
       "      <td>B2</td>\n",
       "      <td>NaN</td>\n",
       "      <td>10</td>\n",
       "      <td>RENT</td>\n",
       "      <td>24,000.00</td>\n",
       "      <td>Verified</td>\n",
       "      <td>Dec-11</td>\n",
       "      <td>Fully Paid</td>\n",
       "      <td>https://lendingclub.com/browse/loanDetail.action?loan_id=1077501</td>\n",
       "      <td>credit_card</td>\n",
       "      <td>Computer</td>\n",
       "      <td>860xx</td>\n",
       "      <td>AZ</td>\n",
       "      <td>27.65</td>\n",
       "      <td>0</td>\n",
       "      <td>Jan-85</td>\n",
       "      <td>1</td>\n",
       "      <td>3</td>\n",
       "      <td>0</td>\n",
       "      <td>13648</td>\n",
       "      <td>83.70%</td>\n",
       "      <td>9</td>\n",
       "      <td>0.00</td>\n",
       "      <td>0.00</td>\n",
       "      <td>5,863.16</td>\n",
       "      <td>5,833.84</td>\n",
       "      <td>5,000.00</td>\n",
       "      <td>863.16</td>\n",
       "      <td>0.00</td>\n",
       "      <td>0.00</td>\n",
       "      <td>0.00</td>\n",
       "      <td>Jan-15</td>\n",
       "      <td>171.62</td>\n",
       "      <td>May-16</td>\n",
       "      <td>0.00</td>\n",
       "    </tr>\n",
       "    <tr>\n",
       "      <th>1</th>\n",
       "      <td>1077430</td>\n",
       "      <td>1314167</td>\n",
       "      <td>2500</td>\n",
       "      <td>2500</td>\n",
       "      <td>2,500.00</td>\n",
       "      <td>60</td>\n",
       "      <td>15.27</td>\n",
       "      <td>59.83</td>\n",
       "      <td>C</td>\n",
       "      <td>C4</td>\n",
       "      <td>Ryder</td>\n",
       "      <td>0</td>\n",
       "      <td>RENT</td>\n",
       "      <td>30,000.00</td>\n",
       "      <td>Source Verified</td>\n",
       "      <td>Dec-11</td>\n",
       "      <td>Charged Off</td>\n",
       "      <td>https://lendingclub.com/browse/loanDetail.action?loan_id=1077430</td>\n",
       "      <td>car</td>\n",
       "      <td>bike</td>\n",
       "      <td>309xx</td>\n",
       "      <td>GA</td>\n",
       "      <td>1.00</td>\n",
       "      <td>0</td>\n",
       "      <td>Apr-99</td>\n",
       "      <td>5</td>\n",
       "      <td>3</td>\n",
       "      <td>0</td>\n",
       "      <td>1687</td>\n",
       "      <td>9.40%</td>\n",
       "      <td>4</td>\n",
       "      <td>0.00</td>\n",
       "      <td>0.00</td>\n",
       "      <td>1,008.71</td>\n",
       "      <td>1,008.71</td>\n",
       "      <td>456.46</td>\n",
       "      <td>435.17</td>\n",
       "      <td>0.00</td>\n",
       "      <td>117.08</td>\n",
       "      <td>1.11</td>\n",
       "      <td>Apr-13</td>\n",
       "      <td>119.66</td>\n",
       "      <td>Sep-13</td>\n",
       "      <td>0.00</td>\n",
       "    </tr>\n",
       "    <tr>\n",
       "      <th>2</th>\n",
       "      <td>1077175</td>\n",
       "      <td>1313524</td>\n",
       "      <td>2400</td>\n",
       "      <td>2400</td>\n",
       "      <td>2,400.00</td>\n",
       "      <td>36</td>\n",
       "      <td>15.96</td>\n",
       "      <td>84.33</td>\n",
       "      <td>C</td>\n",
       "      <td>C5</td>\n",
       "      <td>NaN</td>\n",
       "      <td>10</td>\n",
       "      <td>RENT</td>\n",
       "      <td>12,252.00</td>\n",
       "      <td>Not Verified</td>\n",
       "      <td>Dec-11</td>\n",
       "      <td>Fully Paid</td>\n",
       "      <td>https://lendingclub.com/browse/loanDetail.action?loan_id=1077175</td>\n",
       "      <td>small_business</td>\n",
       "      <td>real estate business</td>\n",
       "      <td>606xx</td>\n",
       "      <td>IL</td>\n",
       "      <td>8.72</td>\n",
       "      <td>0</td>\n",
       "      <td>Nov-01</td>\n",
       "      <td>2</td>\n",
       "      <td>2</td>\n",
       "      <td>0</td>\n",
       "      <td>2956</td>\n",
       "      <td>98.50%</td>\n",
       "      <td>10</td>\n",
       "      <td>0.00</td>\n",
       "      <td>0.00</td>\n",
       "      <td>3,005.67</td>\n",
       "      <td>3,005.67</td>\n",
       "      <td>2,400.00</td>\n",
       "      <td>605.67</td>\n",
       "      <td>0.00</td>\n",
       "      <td>0.00</td>\n",
       "      <td>0.00</td>\n",
       "      <td>Jun-14</td>\n",
       "      <td>649.91</td>\n",
       "      <td>May-16</td>\n",
       "      <td>0.00</td>\n",
       "    </tr>\n",
       "    <tr>\n",
       "      <th>3</th>\n",
       "      <td>1076863</td>\n",
       "      <td>1277178</td>\n",
       "      <td>10000</td>\n",
       "      <td>10000</td>\n",
       "      <td>10,000.00</td>\n",
       "      <td>36</td>\n",
       "      <td>13.49</td>\n",
       "      <td>339.31</td>\n",
       "      <td>C</td>\n",
       "      <td>C1</td>\n",
       "      <td>AIR RESOURCES BOARD</td>\n",
       "      <td>10</td>\n",
       "      <td>RENT</td>\n",
       "      <td>49,200.00</td>\n",
       "      <td>Source Verified</td>\n",
       "      <td>Dec-11</td>\n",
       "      <td>Fully Paid</td>\n",
       "      <td>https://lendingclub.com/browse/loanDetail.action?loan_id=1076863</td>\n",
       "      <td>other</td>\n",
       "      <td>personel</td>\n",
       "      <td>917xx</td>\n",
       "      <td>CA</td>\n",
       "      <td>20.00</td>\n",
       "      <td>0</td>\n",
       "      <td>Feb-96</td>\n",
       "      <td>1</td>\n",
       "      <td>10</td>\n",
       "      <td>0</td>\n",
       "      <td>5598</td>\n",
       "      <td>21%</td>\n",
       "      <td>37</td>\n",
       "      <td>0.00</td>\n",
       "      <td>0.00</td>\n",
       "      <td>12,231.89</td>\n",
       "      <td>12,231.89</td>\n",
       "      <td>10,000.00</td>\n",
       "      <td>2,214.92</td>\n",
       "      <td>16.97</td>\n",
       "      <td>0.00</td>\n",
       "      <td>0.00</td>\n",
       "      <td>Jan-15</td>\n",
       "      <td>357.48</td>\n",
       "      <td>Apr-16</td>\n",
       "      <td>0.00</td>\n",
       "    </tr>\n",
       "    <tr>\n",
       "      <th>4</th>\n",
       "      <td>1075358</td>\n",
       "      <td>1311748</td>\n",
       "      <td>3000</td>\n",
       "      <td>3000</td>\n",
       "      <td>3,000.00</td>\n",
       "      <td>60</td>\n",
       "      <td>12.69</td>\n",
       "      <td>67.79</td>\n",
       "      <td>B</td>\n",
       "      <td>B5</td>\n",
       "      <td>University Medical Group</td>\n",
       "      <td>1</td>\n",
       "      <td>RENT</td>\n",
       "      <td>80,000.00</td>\n",
       "      <td>Source Verified</td>\n",
       "      <td>Dec-11</td>\n",
       "      <td>Current</td>\n",
       "      <td>https://lendingclub.com/browse/loanDetail.action?loan_id=1075358</td>\n",
       "      <td>other</td>\n",
       "      <td>Personal</td>\n",
       "      <td>972xx</td>\n",
       "      <td>OR</td>\n",
       "      <td>17.94</td>\n",
       "      <td>0</td>\n",
       "      <td>Jan-96</td>\n",
       "      <td>0</td>\n",
       "      <td>15</td>\n",
       "      <td>0</td>\n",
       "      <td>27783</td>\n",
       "      <td>53.90%</td>\n",
       "      <td>38</td>\n",
       "      <td>524.06</td>\n",
       "      <td>524.06</td>\n",
       "      <td>3,513.33</td>\n",
       "      <td>3,513.33</td>\n",
       "      <td>2,475.94</td>\n",
       "      <td>1,037.39</td>\n",
       "      <td>0.00</td>\n",
       "      <td>0.00</td>\n",
       "      <td>0.00</td>\n",
       "      <td>May-16</td>\n",
       "      <td>67.79</td>\n",
       "      <td>May-16</td>\n",
       "      <td>0.00</td>\n",
       "    </tr>\n",
       "  </tbody>\n",
       "</table>\n",
       "</div>"
      ],
      "text/plain": [
       "        id  member_id  loan_amnt  funded_amnt  funded_amnt_inv  term  \\\n",
       "0  1077501    1296599       5000         5000         4,975.00    36   \n",
       "1  1077430    1314167       2500         2500         2,500.00    60   \n",
       "2  1077175    1313524       2400         2400         2,400.00    36   \n",
       "3  1076863    1277178      10000        10000        10,000.00    36   \n",
       "4  1075358    1311748       3000         3000         3,000.00    60   \n",
       "\n",
       "   int_rate  installment grade sub_grade                 emp_title  \\\n",
       "0     10.65       162.87     B        B2                       NaN   \n",
       "1     15.27        59.83     C        C4                     Ryder   \n",
       "2     15.96        84.33     C        C5                       NaN   \n",
       "3     13.49       339.31     C        C1       AIR RESOURCES BOARD   \n",
       "4     12.69        67.79     B        B5  University Medical Group   \n",
       "\n",
       "   emp_length home_ownership  annual_inc verification_status issue_d  \\\n",
       "0          10           RENT   24,000.00            Verified  Dec-11   \n",
       "1           0           RENT   30,000.00     Source Verified  Dec-11   \n",
       "2          10           RENT   12,252.00        Not Verified  Dec-11   \n",
       "3          10           RENT   49,200.00     Source Verified  Dec-11   \n",
       "4           1           RENT   80,000.00     Source Verified  Dec-11   \n",
       "\n",
       "   loan_status  \\\n",
       "0   Fully Paid   \n",
       "1  Charged Off   \n",
       "2   Fully Paid   \n",
       "3   Fully Paid   \n",
       "4      Current   \n",
       "\n",
       "                                                                url  \\\n",
       "0  https://lendingclub.com/browse/loanDetail.action?loan_id=1077501   \n",
       "1  https://lendingclub.com/browse/loanDetail.action?loan_id=1077430   \n",
       "2  https://lendingclub.com/browse/loanDetail.action?loan_id=1077175   \n",
       "3  https://lendingclub.com/browse/loanDetail.action?loan_id=1076863   \n",
       "4  https://lendingclub.com/browse/loanDetail.action?loan_id=1075358   \n",
       "\n",
       "          purpose                 title zip_code addr_state   dti  \\\n",
       "0     credit_card              Computer    860xx         AZ 27.65   \n",
       "1             car                  bike    309xx         GA  1.00   \n",
       "2  small_business  real estate business    606xx         IL  8.72   \n",
       "3           other              personel    917xx         CA 20.00   \n",
       "4           other              Personal    972xx         OR 17.94   \n",
       "\n",
       "   delinq_2yrs earliest_cr_line  inq_last_6mths  open_acc  pub_rec  revol_bal  \\\n",
       "0            0           Jan-85               1         3        0      13648   \n",
       "1            0           Apr-99               5         3        0       1687   \n",
       "2            0           Nov-01               2         2        0       2956   \n",
       "3            0           Feb-96               1        10        0       5598   \n",
       "4            0           Jan-96               0        15        0      27783   \n",
       "\n",
       "  revol_util  total_acc  out_prncp  out_prncp_inv  total_pymnt  \\\n",
       "0     83.70%          9       0.00           0.00     5,863.16   \n",
       "1      9.40%          4       0.00           0.00     1,008.71   \n",
       "2     98.50%         10       0.00           0.00     3,005.67   \n",
       "3        21%         37       0.00           0.00    12,231.89   \n",
       "4     53.90%         38     524.06         524.06     3,513.33   \n",
       "\n",
       "   total_pymnt_inv  total_rec_prncp  total_rec_int  total_rec_late_fee  \\\n",
       "0         5,833.84         5,000.00         863.16                0.00   \n",
       "1         1,008.71           456.46         435.17                0.00   \n",
       "2         3,005.67         2,400.00         605.67                0.00   \n",
       "3        12,231.89        10,000.00       2,214.92               16.97   \n",
       "4         3,513.33         2,475.94       1,037.39                0.00   \n",
       "\n",
       "   recoveries  collection_recovery_fee last_pymnt_d  last_pymnt_amnt  \\\n",
       "0        0.00                     0.00       Jan-15           171.62   \n",
       "1      117.08                     1.11       Apr-13           119.66   \n",
       "2        0.00                     0.00       Jun-14           649.91   \n",
       "3        0.00                     0.00       Jan-15           357.48   \n",
       "4        0.00                     0.00       May-16            67.79   \n",
       "\n",
       "  last_credit_pull_d  pub_rec_bankruptcies  \n",
       "0             May-16                  0.00  \n",
       "1             Sep-13                  0.00  \n",
       "2             May-16                  0.00  \n",
       "3             Apr-16                  0.00  \n",
       "4             May-16                  0.00  "
      ]
     },
     "execution_count": 24,
     "metadata": {},
     "output_type": "execute_result"
    }
   ],
   "source": [
    "loan_data = loan_data[~loan_data['emp_length'].isnull()]\n",
    "\n",
    "loan_data['emp_length'] = loan_data['emp_length'].str.rstrip(' years')\n",
    "loan_data['emp_length'].replace({'10+': '10'}, inplace=True)\n",
    "loan_data['emp_length'][loan_data['emp_length'] == '< 1'] = '0'\n",
    "loan_data['emp_length'] = loan_data['emp_length'].apply(lambda x: pd.to_numeric(x))\n",
    "loan_data.head()"
   ]
  },
  {
   "cell_type": "code",
   "execution_count": 25,
   "id": "67091f5e",
   "metadata": {},
   "outputs": [
    {
     "data": {
      "text/plain": [
       "dtype('int64')"
      ]
     },
     "execution_count": 25,
     "metadata": {},
     "output_type": "execute_result"
    }
   ],
   "source": [
    "loan_data.dtypes['emp_length']"
   ]
  },
  {
   "cell_type": "markdown",
   "id": "f16f0bb8",
   "metadata": {},
   "source": [
    "###### Step 16: Convert revol_util into float and remove % sign"
   ]
  },
  {
   "cell_type": "code",
   "execution_count": 26,
   "id": "b7243601",
   "metadata": {},
   "outputs": [
    {
     "data": {
      "text/plain": [
       "dtype('float64')"
      ]
     },
     "execution_count": 26,
     "metadata": {},
     "output_type": "execute_result"
    }
   ],
   "source": [
    "loan_data['revol_util'] = loan_data['revol_util'].str.rstrip(\"%\").astype(float)\n",
    "loan_data.dtypes['revol_util']"
   ]
  },
  {
   "cell_type": "markdown",
   "id": "f1ffb41e",
   "metadata": {},
   "source": [
    "## Data Analysis"
   ]
  },
  {
   "cell_type": "markdown",
   "id": "a55ae64f",
   "metadata": {},
   "source": [
    "###### Step 16: Remove post loan approval columns"
   ]
  },
  {
   "cell_type": "markdown",
   "id": "f909e429",
   "metadata": {},
   "source": [
    "It is important to consider the \"Dimensions\"and \"Measures\"in the given dataset.\n",
    "\n",
    "Dimensions are qualitative values and they are termed as categorical values. In given dataset age, occupation, employment details etc. are dimensions are the dimensions which help in data analysis.\n",
    "\n",
    "Measures are quantitative values. In given dataset amount of loan, interest rate, purpose of loan etc. are the measures which help in data analysis.\n",
    "\n",
    "There are some values which will be generated when loan is approved like delinquent 2 years, revolving balance, next payment date etc. These values are not present at the time of loan approval, hence the are not useful for loan approval process. \n",
    "\n",
    "So keep dimensions and measures and remove all other columns."
   ]
  },
  {
   "cell_type": "code",
   "execution_count": 27,
   "id": "c50eae89",
   "metadata": {},
   "outputs": [
    {
     "data": {
      "text/plain": [
       "['collection_recovery_fee',\n",
       " 'delinq_2yrs',\n",
       " 'earliest_cr_line',\n",
       " 'inq_last_6mths',\n",
       " 'last_credit_pull_d',\n",
       " 'last_pymnt_amnt',\n",
       " 'last_pymnt_d',\n",
       " 'open_acc',\n",
       " 'out_prncp',\n",
       " 'out_prncp_inv',\n",
       " 'pub_rec',\n",
       " 'recoveries',\n",
       " 'revol_bal',\n",
       " 'revol_util',\n",
       " 'total_acc',\n",
       " 'total_pymnt',\n",
       " 'total_pymnt_inv',\n",
       " 'total_rec_int',\n",
       " 'total_rec_late_fee',\n",
       " 'total_rec_prncp']"
      ]
     },
     "execution_count": 27,
     "metadata": {},
     "output_type": "execute_result"
    }
   ],
   "source": [
    "#list post load approval generated column by referring to Data Dictionary.xlsx\n",
    "post_approval_var=[\"collection_recovery_fee\",\"delinq_2yrs\",\"earliest_cr_line\",\"inq_last_6mths\",\n",
    "                   \"last_credit_pull_d\",\"last_pymnt_amnt\",\"last_pymnt_d\",\"open_acc\",\"out_prncp\",\"out_prncp_inv\",\n",
    "                   \"pub_rec\",\"recoveries\",\"revol_bal\",\"revol_util\",\"total_acc\",\"total_pymnt\",\"total_pymnt_inv\",\n",
    "                   \"total_rec_int\",\"total_rec_late_fee\",\"total_rec_prncp\"]\n",
    "post_approval_var"
   ]
  },
  {
   "cell_type": "code",
   "execution_count": 28,
   "id": "f700725f",
   "metadata": {},
   "outputs": [
    {
     "data": {
      "text/plain": [
       "(38642, 24)"
      ]
     },
     "execution_count": 28,
     "metadata": {},
     "output_type": "execute_result"
    }
   ],
   "source": [
    "loan_data = loan_data.drop(post_approval_var, axis=1)\n",
    "loan_data.shape"
   ]
  },
  {
   "cell_type": "markdown",
   "id": "870a1b7a",
   "metadata": {},
   "source": [
    "###### Step 17: Updated column datatype to float for columns loan_amnt, funded_amnt,funded_amnt_inv, installment, annual_inc"
   ]
  },
  {
   "cell_type": "code",
   "execution_count": 29,
   "id": "f948ad13",
   "metadata": {},
   "outputs": [
    {
     "name": "stdout",
     "output_type": "stream",
     "text": [
      "<class 'pandas.core.frame.DataFrame'>\n",
      "Int64Index: 38642 entries, 0 to 39716\n",
      "Data columns (total 24 columns):\n",
      " #   Column                Non-Null Count  Dtype  \n",
      "---  ------                --------------  -----  \n",
      " 0   id                    38642 non-null  int64  \n",
      " 1   member_id             38642 non-null  int64  \n",
      " 2   loan_amnt             38642 non-null  float64\n",
      " 3   funded_amnt           38642 non-null  float64\n",
      " 4   funded_amnt_inv       38642 non-null  float64\n",
      " 5   term                  38642 non-null  int64  \n",
      " 6   int_rate              38642 non-null  float64\n",
      " 7   installment           38642 non-null  float64\n",
      " 8   grade                 38642 non-null  object \n",
      " 9   sub_grade             38642 non-null  object \n",
      " 10  emp_title             37202 non-null  object \n",
      " 11  emp_length            38642 non-null  int64  \n",
      " 12  home_ownership        38642 non-null  object \n",
      " 13  annual_inc            38642 non-null  float64\n",
      " 14  verification_status   38642 non-null  object \n",
      " 15  issue_d               38642 non-null  object \n",
      " 16  loan_status           38642 non-null  object \n",
      " 17  url                   38642 non-null  object \n",
      " 18  purpose               38642 non-null  object \n",
      " 19  title                 38632 non-null  object \n",
      " 20  zip_code              38642 non-null  object \n",
      " 21  addr_state            38642 non-null  object \n",
      " 22  dti                   38642 non-null  float64\n",
      " 23  pub_rec_bankruptcies  37945 non-null  float64\n",
      "dtypes: float64(8), int64(4), object(12)\n",
      "memory usage: 7.4+ MB\n"
     ]
    }
   ],
   "source": [
    "columns = ['loan_amnt', 'funded_amnt','funded_amnt_inv', 'installment', 'annual_inc']\n",
    "loan_data[columns] = loan_data[columns].astype(np.float64)\n",
    "loan_data.info()"
   ]
  },
  {
   "cell_type": "markdown",
   "id": "897e78c3",
   "metadata": {},
   "source": [
    "###### Step 18: Find the types of loan_status and filter the required loan_status"
   ]
  },
  {
   "cell_type": "code",
   "execution_count": 30,
   "id": "c8af1f54",
   "metadata": {},
   "outputs": [
    {
     "data": {
      "text/plain": [
       "Fully Paid     32145\n",
       "Charged Off     5399\n",
       "Current         1098\n",
       "Name: loan_status, dtype: int64"
      ]
     },
     "execution_count": 30,
     "metadata": {},
     "output_type": "execute_result"
    }
   ],
   "source": [
    "loan_data[\"loan_status\"].value_counts()"
   ]
  },
  {
   "cell_type": "markdown",
   "id": "1ad187e4",
   "metadata": {},
   "source": [
    "**Inference**: \"Current\" type of loan is neither fully paid nor defaulted. So Remove current loan status as it's not needed in the analysis"
   ]
  },
  {
   "cell_type": "code",
   "execution_count": 31,
   "id": "d4dff527",
   "metadata": {},
   "outputs": [
    {
     "data": {
      "text/plain": [
       "0    32145\n",
       "1     5399\n",
       "Name: loan_status, dtype: int64"
      ]
     },
     "execution_count": 31,
     "metadata": {},
     "output_type": "execute_result"
    }
   ],
   "source": [
    "# filtering only fully paid or charged-off\n",
    "loan_data = loan_data[loan_data['loan_status'] != 'Current']\n",
    "loan_data['loan_status'] = loan_data['loan_status'].apply(lambda x: 0 if x=='Fully Paid' else 1)\n",
    "\n",
    "# converting loan_status to integer type\n",
    "loan_data['loan_status'] = loan_data['loan_status'].apply(lambda x: pd.to_numeric(x))\n",
    "\n",
    "# summarising the values\n",
    "loan_data['loan_status'].value_counts()"
   ]
  },
  {
   "cell_type": "markdown",
   "id": "a5bc77ae",
   "metadata": {},
   "source": [
    "**Remark:** After this step \"Fully Paid\" will be equal to 0 and \"Charged Off\" loans will be equal to 1."
   ]
  },
  {
   "cell_type": "markdown",
   "id": "b4b3899a",
   "metadata": {},
   "source": [
    "###### Step 19: Outlier Treatment for annual_inc"
   ]
  },
  {
   "cell_type": "code",
   "execution_count": 32,
   "id": "235f2448",
   "metadata": {},
   "outputs": [
    {
     "data": {
      "image/png": "[encoded data removed]",
      "text/plain": [
       "<Figure size 432x288 with 1 Axes>"
      ]
     },
     "metadata": {
      "needs_background": "light"
     },
     "output_type": "display_data"
    }
   ],
   "source": [
    "sns.boxplot(y=loan_data['annual_inc'])\n",
    "plt.show()"
   ]
  },
  {
   "cell_type": "markdown",
   "id": "1cb08698",
   "metadata": {},
   "source": [
    "**Inference:** Plot shows the presence of outliers.\n",
    "- Remove outliers.\n",
    "- Let's see the quantile info and take an appropriate action."
   ]
  },
  {
   "cell_type": "code",
   "execution_count": 33,
   "id": "7ab96fab",
   "metadata": {},
   "outputs": [
    {
     "data": {
      "text/plain": [
       "0.50    60,000.00\n",
       "0.75    83,000.00\n",
       "0.90   116,672.40\n",
       "0.95   142,000.00\n",
       "0.97   166,213.00\n",
       "0.98   189,996.00\n",
       "0.99   235,000.00\n",
       "Name: annual_inc, dtype: float64"
      ]
     },
     "execution_count": 33,
     "metadata": {},
     "output_type": "execute_result"
    }
   ],
   "source": [
    "quantile_info = loan_data.annual_inc.quantile([0.5, 0.75,0.90, 0.95, 0.97,0.98, 0.99])\n",
    "quantile_info"
   ]
  },
  {
   "cell_type": "markdown",
   "id": "f2577b5c",
   "metadata": {},
   "source": [
    "**Inference:** The values after 95 percentile seems to be disconected from the general distribution and also there is huge increase in the value for small quantile variation. So, considering threshold for removing outliers as 0.95"
   ]
  },
  {
   "cell_type": "code",
   "execution_count": 34,
   "id": "290de517",
   "metadata": {},
   "outputs": [],
   "source": [
    "per_95_annual_inc = loan_data['annual_inc'].quantile(0.95)\n",
    "loan_data = loan_data[loan_data.annual_inc <= per_95_annual_inc]"
   ]
  },
  {
   "cell_type": "code",
   "execution_count": 35,
   "id": "69e990d4",
   "metadata": {},
   "outputs": [
    {
     "data": {
      "image/png": "[encoded data removed]",
      "text/plain": [
       "<Figure size 432x288 with 1 Axes>"
      ]
     },
     "metadata": {
      "needs_background": "light"
     },
     "output_type": "display_data"
    }
   ],
   "source": [
    "sns.boxplot(x=loan_data.annual_inc)\n",
    "plt.show()"
   ]
  },
  {
   "cell_type": "markdown",
   "id": "a57c5b24",
   "metadata": {},
   "source": [
    "###### Step 20: Analyze other numerical variables dti, loan_amnt,funded_amnt_inv which could possibly have outliers."
   ]
  },
  {
   "cell_type": "code",
   "execution_count": 36,
   "id": "ce815a1f",
   "metadata": {},
   "outputs": [
    {
     "data": {
      "image/png": "[encoded data removed]",
      "text/plain": [
       "<Figure size 432x288 with 1 Axes>"
      ]
     },
     "metadata": {
      "needs_background": "light"
     },
     "output_type": "display_data"
    }
   ],
   "source": [
    "sns.boxplot(x=loan_data.dti)\n",
    "plt.show()"
   ]
  },
  {
   "cell_type": "code",
   "execution_count": 37,
   "id": "2f6d3fb6",
   "metadata": {},
   "outputs": [
    {
     "data": {
      "image/png": "[encoded data removed]",
      "text/plain": [
       "<Figure size 432x288 with 1 Axes>"
      ]
     },
     "metadata": {
      "needs_background": "light"
     },
     "output_type": "display_data"
    }
   ],
   "source": [
    "sns.boxplot(x=loan_data.loan_amnt)\n",
    "plt.show()"
   ]
  },
  {
   "cell_type": "code",
   "execution_count": 38,
   "id": "e7b280a7",
   "metadata": {},
   "outputs": [
    {
     "data": {
      "text/plain": [
       "0.75   15,000.00\n",
       "0.90   20,000.00\n",
       "0.95   25,000.00\n",
       "0.97   25,795.00\n",
       "0.97   28,000.00\n",
       "0.98   30,000.00\n",
       "0.99   35,000.00\n",
       "1.00   35,000.00\n",
       "Name: loan_amnt, dtype: float64"
      ]
     },
     "execution_count": 38,
     "metadata": {},
     "output_type": "execute_result"
    }
   ],
   "source": [
    "loan_data.loan_amnt.quantile([0.75,0.90,0.95,0.97,0.975, 0.98, 0.99, 1.0])"
   ]
  },
  {
   "cell_type": "code",
   "execution_count": 39,
   "id": "2d4615fc",
   "metadata": {},
   "outputs": [
    {
     "data": {
      "image/png": "[encoded data removed]",
      "text/plain": [
       "<Figure size 432x288 with 1 Axes>"
      ]
     },
     "metadata": {
      "needs_background": "light"
     },
     "output_type": "display_data"
    }
   ],
   "source": [
    "sns.boxplot(x = loan_data.funded_amnt_inv)\n",
    "plt.show()"
   ]
  },
  {
   "cell_type": "code",
   "execution_count": 40,
   "id": "75ae2254",
   "metadata": {},
   "outputs": [
    {
     "data": {
      "text/plain": [
       "0.50    8,412.21\n",
       "0.75   13,750.00\n",
       "0.90   19,770.81\n",
       "0.95   23,950.05\n",
       "0.97   24,975.00\n",
       "0.97   25,473.16\n",
       "0.98   27,975.00\n",
       "0.98   29,950.00\n",
       "0.99   31,981.50\n",
       "1.00   35,000.00\n",
       "Name: funded_amnt_inv, dtype: float64"
      ]
     },
     "execution_count": 40,
     "metadata": {},
     "output_type": "execute_result"
    }
   ],
   "source": [
    "loan_data.funded_amnt_inv.quantile([0.5,0.75,0.90,0.95,0.97,0.975, 0.98,0.985, 0.99, 1.0])"
   ]
  },
  {
   "cell_type": "markdown",
   "id": "a42ee3a8",
   "metadata": {},
   "source": [
    "**Inference:** As the distribution is pretty continousand there is no need to remove outliers / extreme values for these above columns."
   ]
  },
  {
   "cell_type": "markdown",
   "id": "952da500",
   "metadata": {},
   "source": [
    "###### Step 21: Analyze loan_amnt"
   ]
  },
  {
   "cell_type": "code",
   "execution_count": 41,
   "id": "dfa0fd98",
   "metadata": {},
   "outputs": [
    {
     "data": {
      "image/png": "[encoded data removed]",
      "text/plain": [
       "<Figure size 432x288 with 1 Axes>"
      ]
     },
     "metadata": {
      "needs_background": "light"
     },
     "output_type": "display_data"
    }
   ],
   "source": [
    "sns.boxplot( y=loan_data[\"loan_amnt\"] )\n",
    "plt.ylabel('Loan Amount')\n",
    "plt.show()"
   ]
  },
  {
   "cell_type": "markdown",
   "id": "38b7ba01",
   "metadata": {},
   "source": [
    "**Inference**: The loan amount varies from 0 to 35,000 having mean of 10,000"
   ]
  },
  {
   "cell_type": "markdown",
   "id": "0cd77ed3",
   "metadata": {},
   "source": [
    "###### Step 22: Analyze data loan_status wise"
   ]
  },
  {
   "cell_type": "code",
   "execution_count": 42,
   "id": "501edf9a",
   "metadata": {},
   "outputs": [
    {
     "data": {
      "image/png": "[encoded data removed]",
      "text/plain": [
       "<Figure size 432x288 with 1 Axes>"
      ]
     },
     "metadata": {
      "needs_background": "light"
     },
     "output_type": "display_data"
    }
   ],
   "source": [
    "sns.countplot(x= loan_data[\"loan_status\"])\n",
    "plt.show()"
   ]
  },
  {
   "cell_type": "markdown",
   "id": "341c583c",
   "metadata": {},
   "source": [
    "**Inference:** \n",
    "1. Most of the loans are Fully Paid. \n",
    "2. About 14% of loan are having status as defaulters.\n",
    "3. We have a class imbalance here."
   ]
  },
  {
   "cell_type": "markdown",
   "id": "82eb16a1",
   "metadata": {},
   "source": [
    "###### Step 23: Analyze grade wise data"
   ]
  },
  {
   "cell_type": "code",
   "execution_count": 43,
   "id": "2507b89a",
   "metadata": {},
   "outputs": [
    {
     "data": {
      "image/png": "[encoded data removed]",
      "text/plain": [
       "<Figure size 432x288 with 1 Axes>"
      ]
     },
     "metadata": {
      "needs_background": "light"
     },
     "output_type": "display_data"
    }
   ],
   "source": [
    "sns.countplot(x='grade', data=loan_data, order = sorted(loan_data[\"grade\"].unique()))\n",
    "plt.xlabel('Employee Grade Level')\n",
    "plt.show()"
   ]
  },
  {
   "cell_type": "markdown",
   "id": "1b56947c",
   "metadata": {},
   "source": [
    "**Inference:** Most of the loans have grade of A and B. "
   ]
  },
  {
   "cell_type": "markdown",
   "id": "25c4e858",
   "metadata": {},
   "source": [
    "###### Step 24: Analyze Employee Working Experience wise data"
   ]
  },
  {
   "cell_type": "code",
   "execution_count": 44,
   "id": "38558052",
   "metadata": {},
   "outputs": [
    {
     "data": {
      "image/png": "[encoded data removed]",
      "text/plain": [
       "<Figure size 432x288 with 1 Axes>"
      ]
     },
     "metadata": {
      "needs_background": "light"
     },
     "output_type": "display_data"
    }
   ],
   "source": [
    "sns.countplot(x='emp_length', data=loan_data)\n",
    "plt.xlabel('Employee Working Experience')\n",
    "plt.show()"
   ]
  },
  {
   "cell_type": "markdown",
   "id": "ffdaca57",
   "metadata": {},
   "source": [
    "**Inference:** Majority of employees applying for the loan have more than 10 years of experience"
   ]
  },
  {
   "cell_type": "markdown",
   "id": "328d2bce",
   "metadata": {},
   "source": [
    "###### Step 25: Analyze total funded amount wise data"
   ]
  },
  {
   "cell_type": "code",
   "execution_count": 45,
   "id": "45d216ef",
   "metadata": {},
   "outputs": [
    {
     "data": {
      "image/png": "[encoded data removed]",
      "text/plain": [
       "<Figure size 432x288 with 1 Axes>"
      ]
     },
     "metadata": {
      "needs_background": "light"
     },
     "output_type": "display_data"
    }
   ],
   "source": [
    "sns.histplot(loan_data['funded_amnt'],bins=20)\n",
    "plt.show()"
   ]
  },
  {
   "cell_type": "markdown",
   "id": "3673e718",
   "metadata": {},
   "source": [
    "**Inference:** Funded amount is left skewed. Most of the loan amount given is 5 hundred thousand."
   ]
  },
  {
   "cell_type": "markdown",
   "id": "bda94977",
   "metadata": {},
   "source": [
    "###### Step 26: Analyzing installment,dti, loan_amnt "
   ]
  },
  {
   "cell_type": "code",
   "execution_count": 46,
   "id": "06b0a6f8",
   "metadata": {},
   "outputs": [
    {
     "data": {
      "image/png": "[encoded data removed]",
      "text/plain": [
       "<Figure size 432x288 with 1 Axes>"
      ]
     },
     "metadata": {
      "needs_background": "light"
     },
     "output_type": "display_data"
    }
   ],
   "source": [
    "loan_data['funded_amnt_inv_group'] = pd.cut(loan_data['funded_amnt_inv'], bins=7,labels=['0-5k','5k-10k','10k-15k','15k-20k','20k-25k','25k-30k','30k-35k']) \n",
    "plt.xticks(rotation=90)\n",
    "sns.countplot(x='funded_amnt_inv_group', data=loan_data[loan_data['loan_status']==1])\n",
    "plt.show()"
   ]
  },
  {
   "cell_type": "markdown",
   "id": "40448dfb",
   "metadata": {},
   "source": [
    "**Inference:** Mostly funded amount  is between 5000-10000"
   ]
  },
  {
   "cell_type": "code",
   "execution_count": 47,
   "id": "6e30ca46",
   "metadata": {},
   "outputs": [
    {
     "data": {
      "image/png": "[encoded data removed]",
      "text/plain": [
       "<Figure size 432x288 with 1 Axes>"
      ]
     },
     "metadata": {
      "needs_background": "light"
     },
     "output_type": "display_data"
    }
   ],
   "source": [
    "loan_data['loan_amnt_groups'] = pd.cut(loan_data['loan_amnt'], bins=7,precision =0,labels=['0-5k','5k-10k','10k-15k','15k-20k','20k-25k','25k-30k','30k-35k'])\n",
    "plt.xticks(rotation=90)\n",
    "sns.countplot(x='loan_amnt_groups', data=loan_data[loan_data['loan_status']==1])\n",
    "plt.show()"
   ]
  },
  {
   "cell_type": "markdown",
   "id": "b6c98dea",
   "metadata": {},
   "source": [
    "**Inference:**Mostly the Loan amount is between 5429 - 10357"
   ]
  },
  {
   "cell_type": "code",
   "execution_count": 48,
   "id": "7648d920",
   "metadata": {},
   "outputs": [
    {
     "data": {
      "image/png": "[encoded data removed]",
      "text/plain": [
       "<Figure size 432x288 with 1 Axes>"
      ]
     },
     "metadata": {
      "needs_background": "light"
     },
     "output_type": "display_data"
    }
   ],
   "source": [
    "loan_data['installment_groups'] = pd.cut(loan_data['installment'], bins=10,precision =0,labels=['0-140','141-280','281-420','421-560','561-700','701-840','841-980','981-1120','1121-1260','1260-1400'])\n",
    "plt.xticks(rotation=90)\n",
    "sns.countplot(x='installment_groups', data=loan_data[loan_data['loan_status']==1])\n",
    "plt.show()"
   ]
  },
  {
   "cell_type": "markdown",
   "id": "d554e6ad",
   "metadata": {},
   "source": [
    "**Inference:** Most of the monthly installments are between 140-240"
   ]
  },
  {
   "cell_type": "code",
   "execution_count": 49,
   "id": "4b89991f",
   "metadata": {},
   "outputs": [
    {
     "data": {
      "image/png": "[encoded data removed]",
      "text/plain": [
       "<Figure size 432x288 with 1 Axes>"
      ]
     },
     "metadata": {
      "needs_background": "light"
     },
     "output_type": "display_data"
    }
   ],
   "source": [
    "loan_data['dti_groups'] = pd.cut(loan_data['dti'], bins=5,precision =0,labels=['0-6','6-12','12-18','18-24','24-30'])\n",
    "sns.countplot(x='dti_groups', data=loan_data[loan_data['loan_status']==1])\n",
    "plt.show()"
   ]
  },
  {
   "cell_type": "markdown",
   "id": "76363fbd",
   "metadata": {},
   "source": [
    "**Inference:** Most of the defaults are at Dti is between 12-18"
   ]
  },
  {
   "cell_type": "markdown",
   "id": "778f0b87",
   "metadata": {},
   "source": [
    "###### Step 26: Compare default rate across grade of loan_status "
   ]
  },
  {
   "cell_type": "code",
   "execution_count": 50,
   "id": "d2d56ef8",
   "metadata": {},
   "outputs": [
    {
     "data": {
      "image/png": "[encoded data removed]",
      "text/plain": [
       "<Figure size 432x288 with 1 Axes>"
      ]
     },
     "metadata": {
      "needs_background": "light"
     },
     "output_type": "display_data"
    }
   ],
   "source": [
    "sns.countplot(x = 'grade', data = loan_data[loan_data.loan_status == 1], order = ['A', 'B', 'C', 'D', 'E', 'F', 'G'])\n",
    "plt.show()"
   ]
  },
  {
   "cell_type": "markdown",
   "id": "f2dcd08f",
   "metadata": {},
   "source": [
    "**Inference:** Most of the defaulters are at grade B level"
   ]
  },
  {
   "cell_type": "markdown",
   "id": "160ccbf4",
   "metadata": {},
   "source": [
    "###### Step 27: Compare default rates across sub-grade of loan_status "
   ]
  },
  {
   "cell_type": "code",
   "execution_count": 51,
   "id": "1930187d",
   "metadata": {},
   "outputs": [
    {
     "data": {
      "text/plain": [
       "0    B2\n",
       "1    C4\n",
       "2    C5\n",
       "3    C1\n",
       "5    A4\n",
       "Name: sub_grade, dtype: object"
      ]
     },
     "execution_count": 51,
     "metadata": {},
     "output_type": "execute_result"
    }
   ],
   "source": [
    "loan_data.sub_grade.head()"
   ]
  },
  {
   "cell_type": "code",
   "execution_count": 52,
   "id": "171d7965",
   "metadata": {},
   "outputs": [
    {
     "data": {
      "text/plain": [
       "0    2\n",
       "1    4\n",
       "2    5\n",
       "3    1\n",
       "5    4\n",
       "Name: sub_grade, dtype: int64"
      ]
     },
     "execution_count": 52,
     "metadata": {},
     "output_type": "execute_result"
    }
   ],
   "source": [
    "loan_data.sub_grade = pd.to_numeric(loan_data.sub_grade.apply(lambda x : x[-1]))\n",
    "loan_data.sub_grade.head()"
   ]
  },
  {
   "cell_type": "code",
   "execution_count": 53,
   "id": "77f27a3d",
   "metadata": {},
   "outputs": [
    {
     "data": {
      "image/png": "[encoded data removed]",
      "text/plain": [
       "<Figure size 864x504 with 1 Axes>"
      ]
     },
     "metadata": {
      "needs_background": "light"
     },
     "output_type": "display_data"
    }
   ],
   "source": [
    "fig, ax = plt.subplots(figsize=(12,7))\n",
    "sns.set_palette('colorblind')\n",
    "sns.countplot(x = 'grade', order = ['A', 'B', 'C', 'D', 'E', 'F', 'G'] , hue = 'sub_grade',data = loan_data[loan_data.loan_status == 1])\n",
    "plt.show()"
   ]
  },
  {
   "cell_type": "markdown",
   "id": "23f5d091",
   "metadata": {},
   "source": [
    "**Inference:** Most defaults are at 'B5' level"
   ]
  },
  {
   "cell_type": "markdown",
   "id": "7347ff66",
   "metadata": {},
   "source": [
    "###### Step 28: Term-wise loan default"
   ]
  },
  {
   "cell_type": "code",
   "execution_count": 54,
   "id": "5e4754eb",
   "metadata": {},
   "outputs": [
    {
     "data": {
      "image/png": "[encoded data removed]",
      "text/plain": [
       "<Figure size 432x288 with 1 Axes>"
      ]
     },
     "metadata": {
      "needs_background": "light"
     },
     "output_type": "display_data"
    }
   ],
   "source": [
    "sns.barplot(x='term', y='loan_status', data=loan_data)\n",
    "plt.show()"
   ]
  },
  {
   "cell_type": "markdown",
   "id": "6fd2bb17",
   "metadata": {},
   "source": [
    "**Inference:** 60 month loan default count is more than 36 months loan default"
   ]
  },
  {
   "cell_type": "markdown",
   "id": "6cbf0c4f",
   "metadata": {},
   "source": [
    "###### Step 30: Analyzing defaults by issued month and year"
   ]
  },
  {
   "cell_type": "code",
   "execution_count": 55,
   "id": "efa9f15a",
   "metadata": {},
   "outputs": [
    {
     "data": {
      "text/html": [
       "<div>\n",
       "<style scoped>\n",
       "    .dataframe tbody tr th:only-of-type {\n",
       "        vertical-align: middle;\n",
       "    }\n",
       "\n",
       "    .dataframe tbody tr th {\n",
       "        vertical-align: top;\n",
       "    }\n",
       "\n",
       "    .dataframe thead th {\n",
       "        text-align: right;\n",
       "    }\n",
       "</style>\n",
       "<table border=\"1\" class=\"dataframe\">\n",
       "  <thead>\n",
       "    <tr style=\"text-align: right;\">\n",
       "      <th></th>\n",
       "      <th>id</th>\n",
       "      <th>member_id</th>\n",
       "      <th>loan_amnt</th>\n",
       "      <th>funded_amnt</th>\n",
       "      <th>funded_amnt_inv</th>\n",
       "      <th>term</th>\n",
       "      <th>int_rate</th>\n",
       "      <th>installment</th>\n",
       "      <th>grade</th>\n",
       "      <th>sub_grade</th>\n",
       "      <th>emp_title</th>\n",
       "      <th>emp_length</th>\n",
       "      <th>home_ownership</th>\n",
       "      <th>annual_inc</th>\n",
       "      <th>verification_status</th>\n",
       "      <th>issue_d</th>\n",
       "      <th>loan_status</th>\n",
       "      <th>url</th>\n",
       "      <th>purpose</th>\n",
       "      <th>title</th>\n",
       "      <th>zip_code</th>\n",
       "      <th>addr_state</th>\n",
       "      <th>dti</th>\n",
       "      <th>pub_rec_bankruptcies</th>\n",
       "      <th>funded_amnt_inv_group</th>\n",
       "      <th>loan_amnt_groups</th>\n",
       "      <th>installment_groups</th>\n",
       "      <th>dti_groups</th>\n",
       "      <th>issue_month</th>\n",
       "      <th>issue_year</th>\n",
       "    </tr>\n",
       "  </thead>\n",
       "  <tbody>\n",
       "    <tr>\n",
       "      <th>0</th>\n",
       "      <td>1077501</td>\n",
       "      <td>1296599</td>\n",
       "      <td>5,000.00</td>\n",
       "      <td>5,000.00</td>\n",
       "      <td>4,975.00</td>\n",
       "      <td>36</td>\n",
       "      <td>10.65</td>\n",
       "      <td>162.87</td>\n",
       "      <td>B</td>\n",
       "      <td>2</td>\n",
       "      <td>NaN</td>\n",
       "      <td>10</td>\n",
       "      <td>RENT</td>\n",
       "      <td>24,000.00</td>\n",
       "      <td>Verified</td>\n",
       "      <td>Dec-11</td>\n",
       "      <td>0</td>\n",
       "      <td>https://lendingclub.com/browse/loanDetail.action?loan_id=1077501</td>\n",
       "      <td>credit_card</td>\n",
       "      <td>Computer</td>\n",
       "      <td>860xx</td>\n",
       "      <td>AZ</td>\n",
       "      <td>27.65</td>\n",
       "      <td>0.00</td>\n",
       "      <td>0-5k</td>\n",
       "      <td>0-5k</td>\n",
       "      <td>141-280</td>\n",
       "      <td>24-30</td>\n",
       "      <td>Dec</td>\n",
       "      <td>2011</td>\n",
       "    </tr>\n",
       "    <tr>\n",
       "      <th>1</th>\n",
       "      <td>1077430</td>\n",
       "      <td>1314167</td>\n",
       "      <td>2,500.00</td>\n",
       "      <td>2,500.00</td>\n",
       "      <td>2,500.00</td>\n",
       "      <td>60</td>\n",
       "      <td>15.27</td>\n",
       "      <td>59.83</td>\n",
       "      <td>C</td>\n",
       "      <td>4</td>\n",
       "      <td>Ryder</td>\n",
       "      <td>0</td>\n",
       "      <td>RENT</td>\n",
       "      <td>30,000.00</td>\n",
       "      <td>Source Verified</td>\n",
       "      <td>Dec-11</td>\n",
       "      <td>1</td>\n",
       "      <td>https://lendingclub.com/browse/loanDetail.action?loan_id=1077430</td>\n",
       "      <td>car</td>\n",
       "      <td>bike</td>\n",
       "      <td>309xx</td>\n",
       "      <td>GA</td>\n",
       "      <td>1.00</td>\n",
       "      <td>0.00</td>\n",
       "      <td>0-5k</td>\n",
       "      <td>0-5k</td>\n",
       "      <td>0-140</td>\n",
       "      <td>0-6</td>\n",
       "      <td>Dec</td>\n",
       "      <td>2011</td>\n",
       "    </tr>\n",
       "    <tr>\n",
       "      <th>2</th>\n",
       "      <td>1077175</td>\n",
       "      <td>1313524</td>\n",
       "      <td>2,400.00</td>\n",
       "      <td>2,400.00</td>\n",
       "      <td>2,400.00</td>\n",
       "      <td>36</td>\n",
       "      <td>15.96</td>\n",
       "      <td>84.33</td>\n",
       "      <td>C</td>\n",
       "      <td>5</td>\n",
       "      <td>NaN</td>\n",
       "      <td>10</td>\n",
       "      <td>RENT</td>\n",
       "      <td>12,252.00</td>\n",
       "      <td>Not Verified</td>\n",
       "      <td>Dec-11</td>\n",
       "      <td>0</td>\n",
       "      <td>https://lendingclub.com/browse/loanDetail.action?loan_id=1077175</td>\n",
       "      <td>small_business</td>\n",
       "      <td>real estate business</td>\n",
       "      <td>606xx</td>\n",
       "      <td>IL</td>\n",
       "      <td>8.72</td>\n",
       "      <td>0.00</td>\n",
       "      <td>0-5k</td>\n",
       "      <td>0-5k</td>\n",
       "      <td>0-140</td>\n",
       "      <td>6-12</td>\n",
       "      <td>Dec</td>\n",
       "      <td>2011</td>\n",
       "    </tr>\n",
       "    <tr>\n",
       "      <th>3</th>\n",
       "      <td>1076863</td>\n",
       "      <td>1277178</td>\n",
       "      <td>10,000.00</td>\n",
       "      <td>10,000.00</td>\n",
       "      <td>10,000.00</td>\n",
       "      <td>36</td>\n",
       "      <td>13.49</td>\n",
       "      <td>339.31</td>\n",
       "      <td>C</td>\n",
       "      <td>1</td>\n",
       "      <td>AIR RESOURCES BOARD</td>\n",
       "      <td>10</td>\n",
       "      <td>RENT</td>\n",
       "      <td>49,200.00</td>\n",
       "      <td>Source Verified</td>\n",
       "      <td>Dec-11</td>\n",
       "      <td>0</td>\n",
       "      <td>https://lendingclub.com/browse/loanDetail.action?loan_id=1076863</td>\n",
       "      <td>other</td>\n",
       "      <td>personel</td>\n",
       "      <td>917xx</td>\n",
       "      <td>CA</td>\n",
       "      <td>20.00</td>\n",
       "      <td>0.00</td>\n",
       "      <td>5k-10k</td>\n",
       "      <td>5k-10k</td>\n",
       "      <td>281-420</td>\n",
       "      <td>18-24</td>\n",
       "      <td>Dec</td>\n",
       "      <td>2011</td>\n",
       "    </tr>\n",
       "    <tr>\n",
       "      <th>5</th>\n",
       "      <td>1075269</td>\n",
       "      <td>1311441</td>\n",
       "      <td>5,000.00</td>\n",
       "      <td>5,000.00</td>\n",
       "      <td>5,000.00</td>\n",
       "      <td>36</td>\n",
       "      <td>7.90</td>\n",
       "      <td>156.46</td>\n",
       "      <td>A</td>\n",
       "      <td>4</td>\n",
       "      <td>Veolia Transportaton</td>\n",
       "      <td>3</td>\n",
       "      <td>RENT</td>\n",
       "      <td>36,000.00</td>\n",
       "      <td>Source Verified</td>\n",
       "      <td>Dec-11</td>\n",
       "      <td>0</td>\n",
       "      <td>https://lendingclub.com/browse/loanDetail.action?loan_id=1075269</td>\n",
       "      <td>wedding</td>\n",
       "      <td>My wedding loan I promise to pay back</td>\n",
       "      <td>852xx</td>\n",
       "      <td>AZ</td>\n",
       "      <td>11.20</td>\n",
       "      <td>0.00</td>\n",
       "      <td>0-5k</td>\n",
       "      <td>0-5k</td>\n",
       "      <td>141-280</td>\n",
       "      <td>6-12</td>\n",
       "      <td>Dec</td>\n",
       "      <td>2011</td>\n",
       "    </tr>\n",
       "  </tbody>\n",
       "</table>\n",
       "</div>"
      ],
      "text/plain": [
       "        id  member_id  loan_amnt  funded_amnt  funded_amnt_inv  term  \\\n",
       "0  1077501    1296599   5,000.00     5,000.00         4,975.00    36   \n",
       "1  1077430    1314167   2,500.00     2,500.00         2,500.00    60   \n",
       "2  1077175    1313524   2,400.00     2,400.00         2,400.00    36   \n",
       "3  1076863    1277178  10,000.00    10,000.00        10,000.00    36   \n",
       "5  1075269    1311441   5,000.00     5,000.00         5,000.00    36   \n",
       "\n",
       "   int_rate  installment grade  sub_grade             emp_title  emp_length  \\\n",
       "0     10.65       162.87     B          2                   NaN          10   \n",
       "1     15.27        59.83     C          4                 Ryder           0   \n",
       "2     15.96        84.33     C          5                   NaN          10   \n",
       "3     13.49       339.31     C          1   AIR RESOURCES BOARD          10   \n",
       "5      7.90       156.46     A          4  Veolia Transportaton           3   \n",
       "\n",
       "  home_ownership  annual_inc verification_status issue_d  loan_status  \\\n",
       "0           RENT   24,000.00            Verified  Dec-11            0   \n",
       "1           RENT   30,000.00     Source Verified  Dec-11            1   \n",
       "2           RENT   12,252.00        Not Verified  Dec-11            0   \n",
       "3           RENT   49,200.00     Source Verified  Dec-11            0   \n",
       "5           RENT   36,000.00     Source Verified  Dec-11            0   \n",
       "\n",
       "                                                                url  \\\n",
       "0  https://lendingclub.com/browse/loanDetail.action?loan_id=1077501   \n",
       "1  https://lendingclub.com/browse/loanDetail.action?loan_id=1077430   \n",
       "2  https://lendingclub.com/browse/loanDetail.action?loan_id=1077175   \n",
       "3  https://lendingclub.com/browse/loanDetail.action?loan_id=1076863   \n",
       "5  https://lendingclub.com/browse/loanDetail.action?loan_id=1075269   \n",
       "\n",
       "          purpose                                  title zip_code addr_state  \\\n",
       "0     credit_card                               Computer    860xx         AZ   \n",
       "1             car                                   bike    309xx         GA   \n",
       "2  small_business                   real estate business    606xx         IL   \n",
       "3           other                               personel    917xx         CA   \n",
       "5         wedding  My wedding loan I promise to pay back    852xx         AZ   \n",
       "\n",
       "    dti  pub_rec_bankruptcies funded_amnt_inv_group loan_amnt_groups  \\\n",
       "0 27.65                  0.00                  0-5k             0-5k   \n",
       "1  1.00                  0.00                  0-5k             0-5k   \n",
       "2  8.72                  0.00                  0-5k             0-5k   \n",
       "3 20.00                  0.00                5k-10k           5k-10k   \n",
       "5 11.20                  0.00                  0-5k             0-5k   \n",
       "\n",
       "  installment_groups dti_groups issue_month issue_year  \n",
       "0            141-280      24-30         Dec       2011  \n",
       "1              0-140        0-6         Dec       2011  \n",
       "2              0-140       6-12         Dec       2011  \n",
       "3            281-420      18-24         Dec       2011  \n",
       "5            141-280       6-12         Dec       2011  "
      ]
     },
     "execution_count": 55,
     "metadata": {},
     "output_type": "execute_result"
    }
   ],
   "source": [
    "## Extracting month and year\n",
    "df_month_year = loan_data['issue_d'].str.partition(\"-\", True)     \n",
    "loan_data['issue_month']=df_month_year[0]                       \n",
    "loan_data['issue_year']='20' + df_month_year[2]\n",
    "loan_data.head()"
   ]
  },
  {
   "cell_type": "code",
   "execution_count": 56,
   "id": "d747ecad",
   "metadata": {},
   "outputs": [
    {
     "data": {
      "image/png": "[encoded data removed]",
      "text/plain": [
       "<Figure size 1080x720 with 2 Axes>"
      ]
     },
     "metadata": {
      "needs_background": "light"
     },
     "output_type": "display_data"
    }
   ],
   "source": [
    "plt.figure(figsize=(15,10))\n",
    "plt.subplot(221)\n",
    "sns.countplot(x='issue_month', data=loan_data[loan_data['loan_status']==1])\n",
    "plt.subplot(222)\n",
    "sns.countplot(x='issue_year', data=loan_data[loan_data['loan_status']==1])\n",
    "plt.show()"
   ]
  },
  {
   "cell_type": "markdown",
   "id": "dc37378f",
   "metadata": {},
   "source": [
    "**Inference:** Maximum number of defaults occured when the loan was sanctioned/issued in Dec. Loan issued in the year 2011 were also as compared to other years"
   ]
  },
  {
   "cell_type": "markdown",
   "id": "21bc9d30",
   "metadata": {},
   "source": [
    "###### Step 31:  Analyzing default by home_ownership"
   ]
  },
  {
   "cell_type": "code",
   "execution_count": 57,
   "id": "e6224da6",
   "metadata": {},
   "outputs": [
    {
     "data": {
      "text/plain": [
       "array(['RENT', 'OWN', 'MORTGAGE', 'OTHER', 'NONE'], dtype=object)"
      ]
     },
     "execution_count": 57,
     "metadata": {},
     "output_type": "execute_result"
    }
   ],
   "source": [
    "loan_data['home_ownership'].unique()"
   ]
  },
  {
   "cell_type": "code",
   "execution_count": 58,
   "id": "e0463f94",
   "metadata": {},
   "outputs": [],
   "source": [
    "loan_data['home_ownership'].replace(to_replace = ['NONE'],value='OTHER',inplace = True)"
   ]
  },
  {
   "cell_type": "code",
   "execution_count": 59,
   "id": "8837d696",
   "metadata": {},
   "outputs": [
    {
     "data": {
      "image/png": "[encoded data removed]",
      "text/plain": [
       "<Figure size 432x288 with 1 Axes>"
      ]
     },
     "metadata": {
      "needs_background": "light"
     },
     "output_type": "display_data"
    }
   ],
   "source": [
    "sns.countplot(x='home_ownership', data=loan_data[loan_data['loan_status']==1])\n",
    "plt.show()"
   ]
  },
  {
   "cell_type": "markdown",
   "id": "c7b8bc20",
   "metadata": {},
   "source": [
    "**Inference:** Maximum number of default have \"Rental\" home ownership"
   ]
  },
  {
   "cell_type": "markdown",
   "id": "fa8ddd53",
   "metadata": {},
   "source": [
    "###### Step 32: Analyzing default by purpose of loan"
   ]
  },
  {
   "cell_type": "code",
   "execution_count": 60,
   "id": "c0e58faa",
   "metadata": {},
   "outputs": [
    {
     "data": {
      "image/png": "[encoded data removed]",
      "text/plain": [
       "<Figure size 720x576 with 1 Axes>"
      ]
     },
     "metadata": {
      "needs_background": "light"
     },
     "output_type": "display_data"
    }
   ],
   "source": [
    "plt.subplots(figsize = (10,8))\n",
    "sns.countplot(y ='purpose', data=loan_data[loan_data.loan_status == 1])\n",
    "plt.show()"
   ]
  },
  {
   "cell_type": "markdown",
   "id": "e89a419c",
   "metadata": {},
   "source": [
    "**Inference:** Maximum number of defaults are with the purpose of 'debt_consolidation'."
   ]
  },
  {
   "cell_type": "markdown",
   "id": "5ff25fd0",
   "metadata": {},
   "source": [
    "###### Step 33: Analyzing defaults with respect to the interest rate "
   ]
  },
  {
   "cell_type": "code",
   "execution_count": 61,
   "id": "56dd978c",
   "metadata": {},
   "outputs": [
    {
     "data": {
      "text/plain": [
       "[]"
      ]
     },
     "execution_count": 61,
     "metadata": {},
     "output_type": "execute_result"
    },
    {
     "data": {
      "image/png": "[encoded data removed]",
      "text/plain": [
       "<Figure size 432x288 with 1 Axes>"
      ]
     },
     "metadata": {
      "needs_background": "light"
     },
     "output_type": "display_data"
    }
   ],
   "source": [
    "loan_data['int_rate_groups'] = pd.cut(loan_data['int_rate'], bins=4,precision =0,labels=['5%-10%','10%-15%','15%-20%','20%-25%'])\n",
    "\n",
    "sns.countplot(x='int_rate_groups', data=loan_data[loan_data.loan_status == 1])\n",
    "plt.xlabel('Interest Rate')\n",
    "plt.plot()"
   ]
  },
  {
   "cell_type": "markdown",
   "id": "e8bbc39d",
   "metadata": {},
   "source": [
    "**Inference:** Most number of defaults are the applicants who receive interest at the rate of 10-15%"
   ]
  },
  {
   "cell_type": "markdown",
   "id": "1e2081d5",
   "metadata": {},
   "source": [
    "###### Step 34: Analyzing defaults with respect to the annual income"
   ]
  },
  {
   "cell_type": "code",
   "execution_count": 62,
   "id": "2dd04a8f",
   "metadata": {},
   "outputs": [
    {
     "data": {
      "image/png": "[encoded data removed]",
      "text/plain": [
       "<Figure size 432x288 with 1 Axes>"
      ]
     },
     "metadata": {
      "needs_background": "light"
     },
     "output_type": "display_data"
    }
   ],
   "source": [
    "loan_data['annual_inc_groups'] = pd.cut(loan_data['annual_inc'], bins=5,precision =0,labels =['3k-31k','31k-58k','58k-85k','85k-112k','112k-140k'])\n",
    "sns.countplot(x='annual_inc_groups', data=loan_data[loan_data.loan_status == 1])\n",
    "plt.show()"
   ]
  },
  {
   "cell_type": "markdown",
   "id": "9f82f825",
   "metadata": {},
   "source": [
    "**Inference:** Most number of defaults are the applicants whose annual income is in between 31 to 58K."
   ]
  },
  {
   "cell_type": "markdown",
   "id": "2d6f040f",
   "metadata": {},
   "source": [
    "###### Step 35: Analyzing defaults against the term duration"
   ]
  },
  {
   "cell_type": "code",
   "execution_count": 63,
   "id": "4f4f3f89",
   "metadata": {},
   "outputs": [
    {
     "data": {
      "image/png": "[encoded data removed]",
      "text/plain": [
       "<Figure size 432x288 with 1 Axes>"
      ]
     },
     "metadata": {
      "needs_background": "light"
     },
     "output_type": "display_data"
    }
   ],
   "source": [
    "sns.countplot(x='term', data=loan_data[loan_data['loan_status']==1])\n",
    "plt.show()"
   ]
  },
  {
   "cell_type": "markdown",
   "id": "3ba8afae",
   "metadata": {},
   "source": [
    "**Inference:** Most number of defaults are the applicants whose loan term is 36 months"
   ]
  },
  {
   "cell_type": "markdown",
   "id": "9e330789",
   "metadata": {},
   "source": [
    "###### Step 36: Analyzing defaults against the verification status"
   ]
  },
  {
   "cell_type": "code",
   "execution_count": 64,
   "id": "1f037439",
   "metadata": {},
   "outputs": [
    {
     "data": {
      "image/png": "[encoded data removed]",
      "text/plain": [
       "<Figure size 432x288 with 1 Axes>"
      ]
     },
     "metadata": {
      "needs_background": "light"
     },
     "output_type": "display_data"
    }
   ],
   "source": [
    "sns.countplot(x='verification_status', data=loan_data[loan_data['loan_status']==1])\n",
    "plt.show()"
   ]
  },
  {
   "cell_type": "markdown",
   "id": "5a5d628a",
   "metadata": {},
   "source": [
    "**Inference:** Most number of defaults are the applicants whose verification status is \" Not verified\""
   ]
  },
  {
   "cell_type": "markdown",
   "id": "4be21619",
   "metadata": {},
   "source": [
    "###### Step 36: Analyzing Annual income vs loan purpose"
   ]
  },
  {
   "cell_type": "code",
   "execution_count": 65,
   "id": "16e5d8e0",
   "metadata": {},
   "outputs": [
    {
     "data": {
      "image/png": "[encoded data removed]",
      "text/plain": [
       "<Figure size 1080x576 with 1 Axes>"
      ]
     },
     "metadata": {
      "needs_background": "light"
     },
     "output_type": "display_data"
    }
   ],
   "source": [
    "plt.figure(figsize=(15,8))\n",
    "sns.barplot(data =loan_data,x='annual_inc', y='purpose', hue ='loan_status',palette=\"colorblind\")\n",
    "plt.xticks(rotation=90)\n",
    "plt.show()"
   ]
  },
  {
   "cell_type": "markdown",
   "id": "5077cfa5",
   "metadata": {},
   "source": [
    "**Inference:** Applicants with higher salary mostly applied loans for \"home_improvment\", \"house\", \"renewable_energy\" and \"small_businesses\"\n",
    "Applicants taking loan for 'home improvement' and have income of 60k -70k"
   ]
  },
  {
   "cell_type": "markdown",
   "id": "e2f5ed7a",
   "metadata": {},
   "source": [
    "###### Step 37: Analyzing Annual income vs home ownership"
   ]
  },
  {
   "cell_type": "code",
   "execution_count": 66,
   "id": "aeb77876",
   "metadata": {},
   "outputs": [
    {
     "data": {
      "image/png": "[encoded data removed]",
      "text/plain": [
       "<Figure size 432x288 with 1 Axes>"
      ]
     },
     "metadata": {
      "needs_background": "light"
     },
     "output_type": "display_data"
    }
   ],
   "source": [
    "sns.barplot(data =loan_data,x='home_ownership', y='annual_inc', hue ='loan_status',palette=\"colorblind\")\n",
    "plt.show()"
   ]
  },
  {
   "cell_type": "markdown",
   "id": "167d580d",
   "metadata": {},
   "source": [
    "**Inference:** Applicants whose home ownership is 'MORTGAGE' and have income of 60-70k"
   ]
  },
  {
   "cell_type": "markdown",
   "id": "3ad3177d",
   "metadata": {},
   "source": [
    "###### Step 38:Analizing Loan vs House Ownership"
   ]
  },
  {
   "cell_type": "code",
   "execution_count": 67,
   "id": "44e8e10b",
   "metadata": {},
   "outputs": [
    {
     "data": {
      "image/png": "[encoded data removed]",
      "text/plain": [
       "<Figure size 432x288 with 1 Axes>"
      ]
     },
     "metadata": {
      "needs_background": "light"
     },
     "output_type": "display_data"
    }
   ],
   "source": [
    "sns.barplot(data =loan_data,y='loan_amnt', x='home_ownership', hue ='loan_status',palette=\"colorblind\")\n",
    "plt.show()"
   ]
  },
  {
   "cell_type": "markdown",
   "id": "c6da6068",
   "metadata": {},
   "source": [
    "###### Step 39: Find the correlation between the data"
   ]
  },
  {
   "cell_type": "code",
   "execution_count": 68,
   "id": "de8f5649",
   "metadata": {},
   "outputs": [
    {
     "data": {
      "image/png": "[encoded data removed]",
      "text/plain": [
       "<Figure size 720x720 with 2 Axes>"
      ]
     },
     "metadata": {
      "needs_background": "light"
     },
     "output_type": "display_data"
    }
   ],
   "source": [
    "plt.figure(figsize=(10,10))\n",
    "sns.heatmap(loan_data.corr(), cmap=\"YlGnBu\",linecolor='black',annot=True)\n",
    "plt.show()"
   ]
  },
  {
   "cell_type": "markdown",
   "id": "7c787579",
   "metadata": {},
   "source": [
    "**Inference:** Mean, 25% and 75% Loan amount of Fully paid and charged off is exactly same"
   ]
  },
  {
   "cell_type": "markdown",
   "id": "37ffb744",
   "metadata": {},
   "source": [
    "###### Step 40: Finding defaults against address of applicants"
   ]
  },
  {
   "cell_type": "code",
   "execution_count": 69,
   "id": "b43ac19a",
   "metadata": {},
   "outputs": [
    {
     "data": {
      "image/png": "[encoded data removed]",
      "text/plain": [
       "<Figure size 1080x504 with 1 Axes>"
      ]
     },
     "metadata": {
      "needs_background": "light"
     },
     "output_type": "display_data"
    }
   ],
   "source": [
    "g = loan_data[loan_data['loan_status']==1].groupby('addr_state')['loan_status'].count().reset_index()\n",
    "plt.figure(figsize=(15,7))\n",
    "sns.barplot(x='addr_state', y='loan_status', data=g)\n",
    "plt.ylabel('Count of loan status to be defaulter')\n",
    "plt.xlabel('State')\n",
    "plt.show()"
   ]
  },
  {
   "cell_type": "markdown",
   "id": "670ee2cc",
   "metadata": {},
   "source": [
    "**Inference:** Applicants from the state CA are having high probability to be default"
   ]
  }
 ],
 "metadata": {
  "kernelspec": {
   "display_name": "Python 3 (ipykernel)",
   "language": "python",
   "name": "python3"
  },
  "language_info": {
   "codemirror_mode": {
    "name": "ipython",
    "version": 3
   },
   "file_extension": ".py",
   "mimetype": "text/x-python",
   "name": "python",
   "nbconvert_exporter": "python",
   "pygments_lexer": "ipython3",
   "version": "3.9.12"
  }
 },
 "nbformat": 4,
 "nbformat_minor": 5
}
